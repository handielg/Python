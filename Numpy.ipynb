{
  "nbformat": 4,
  "nbformat_minor": 0,
  "metadata": {
    "colab": {
      "name": "Numpy.py",
      "provenance": [],
      "authorship_tag": "ABX9TyOTHUk3OohAmfrmWKVjnZVn",
      "include_colab_link": true
    },
    "kernelspec": {
      "name": "python3",
      "display_name": "Python 3"
    }
  },
  "cells": [
    {
      "cell_type": "markdown",
      "metadata": {
        "id": "view-in-github",
        "colab_type": "text"
      },
      "source": [
        "<a href=\"https://colab.research.google.com/github/handielg/Python/blob/main/Numpy.ipynb\" target=\"_parent\"><img src=\"https://colab.research.google.com/assets/colab-badge.svg\" alt=\"Open In Colab\"/></a>"
      ]
    },
    {
      "cell_type": "markdown",
      "metadata": {
        "id": "8QjRTSihnFvj"
      },
      "source": [
        "## ¿Qué es Numpy?\n",
        "\n",
        "NumPy(Numerical Python) es una biblioteca de Python de código abierto que se utiliza en casi todos los campos de la ciencia y la ingeniería. Es el estándar universal para trabajar con datos numéricos en Python, y es el núcleo de los ecosistemas científicos Python y PyData. Los usuarios de NumPy incluyen a todos, desde codificadores iniciales hasta investigadores experimentados que realizan investigación y desarrollo científico e industrial de última generación. La API de NumPy se utiliza ampliamente en `Pandas, SciPy, Matplotlib, Acikit-learn, Scikit-image` y la mayoría de otros paquetes de ciencia de datos y` Python` científicos.\n",
        "\n",
        "La biblioteca NumPy contiene estructuras de datos de matriz y matriz multidimensionales (encontrará más información al respecto en secciones posteriores). Proporciona ndarray,un objeto de matriz n-dimensional homogéneo, con métodos para operar eficientemente en él. NumPy se puede utilizar para realizar una amplia variedad de operaciones matemáticas en matrices. Añade potentes estructuras de datos a Python que garantizan cálculos eficientes con matrices y proporciona una enorme biblioteca de funciones matemáticas de alto nivel que operan en estos arreglos de discos y matrices."
      ]
    },
    {
      "cell_type": "markdown",
      "metadata": {
        "id": "23m6b_oPOIuV"
      },
      "source": [
        "#### ¿Cómo instalar e importar Numpy?"
      ]
    },
    {
      "cell_type": "code",
      "metadata": {
        "id": "8ucdBFt1GPis"
      },
      "source": [
        "!pip install numpy"
      ],
      "execution_count": null,
      "outputs": []
    },
    {
      "cell_type": "code",
      "metadata": {
        "id": "0k6aNCvRM9vB"
      },
      "source": [
        "import numpy as np\n",
        "#from numpy import * #no es la recomendable por coincidencias de funciones entre librerías. Aunque de esta forma no es necesario poner delante np de cada función."
      ],
      "execution_count": null,
      "outputs": []
    },
    {
      "cell_type": "markdown",
      "metadata": {
        "id": "zIOqk9oyMz6a"
      },
      "source": [
        "### Hay varias maneras de crear matrices.\n",
        "\n",
        "Por ejemplo, puede crear una matriz **(array en inglés)** a partir de una lista o tupla de Python normal utilizando la función. El tipo de la matriz resultante se deduce del tipo de los elementos de las secuencias.array"
      ]
    },
    {
      "cell_type": "markdown",
      "metadata": {
        "id": "Yz5EDGCAOX7e"
      },
      "source": [
        "#### ¿Cuál es la diferencia entre una lista de Python y una matriz NumPy?\n",
        "\n",
        "NumPy le ofrece una enorme gama de formas rápidas y eficientes de crear matrices y manipular datos numéricos dentro de ellas. Mientras que una lista de Python puede contener diferentes tipos de datos dentro de una sola lista, todos los elementos de una matriz NumPy deben ser homogéneos. Las operaciones matemáticas que se pretenden realizar en matrices serían extremadamente ineficientes si las matrices no fueran homogéneas.\n",
        "\n",
        "#### ¿Por qué usar NumPy?\n",
        "\n",
        "Las matrices NumPy son más rápidas y compactas que las listas de Python. Una matriz consume menos memoria y es conveniente de usar. NumPy utiliza mucha menos memoria para almacenar datos y proporciona un mecanismo para especificar los tipos de datos. Esto permite optimizar aún más el código."
      ]
    },
    {
      "cell_type": "markdown",
      "metadata": {
        "id": "6c182R6xOmcC"
      },
      "source": [
        "### ¿Qué es una matriz?\n",
        "Una matriz es una **estructura de datos n dimensional, de datos homogéneos**, que es  central en la biblioteca NumPy. Una matriz es una cuadrícula de valores y contiene información sobre los datos sin procesar, cómo localizar un elemento y cómo interpretar un elemento. Tiene una cuadrícula de elementos que se pueden indexar de varias maneras. Los elementos son todos del mismo tipo, denominados matriz.dtype\n",
        "\n",
        "Una matriz se puede indexar mediante una tupla de enteros no negativos, por booleanos, por otra matriz o por enteros. El `rank` de la matriz es el número de dimensiones. El `shape` de la matriz es una tupla de enteros que proporciona el tamaño de la matriz a lo largo de cada dimensión.\n",
        "\n",
        "Una forma en que podemos inicializar matrices NumPy es a partir de listas de Python, usando listas anidadas para datos de dos o más dimensiones."
      ]
    },
    {
      "cell_type": "markdown",
      "metadata": {
        "id": "UHvFBLjJKpgm"
      },
      "source": [
        "### Más información.\n",
        "\n",
        "Es posible que ocasionalmente escuche una matriz denominada \"ndarray\", que es la abreviatura de \"matriz N-dimensional\". Una matriz N-dimensional es simplemente una matriz con cualquier número de dimensiones. También puede escuchar 1-D o matriz unidimensional, 2-D o matriz bidimensional, etc. La clase ndarray de NumPy se utiliza para representar matrices y vectores. Un vector es una matriz con una sola dimensión (no hay diferencia entre los vectores de fila y columna), mientras que una matriz se refiere a una matriz con dos dimensiones. Para 3-D o matrices de dimensiones superiores, el término **tensor** también se usa comúnmente.\n",
        "\n",
        "¿Cuáles son los atributos de una matriz?\n",
        "\n",
        "Una matriz suele ser un contenedor de tamaño fijo de elementos del mismo tipo y tamaño. El número de dimensiones y elementos de una matriz se define por su forma. La forma de una matriz es una tupla de números enteros no negativos que especifican los tamaños de cada dimensión. En NumPy, las dimensiones se denominan ejes ."
      ]
    },
    {
      "cell_type": "markdown",
      "metadata": {
        "id": "0t_2FnfxO1Nr"
      },
      "source": [
        "#**Por ejemplo, aquí tenemos varias formas de crear matrices:**"
      ]
    },
    {
      "cell_type": "code",
      "metadata": {
        "id": "juOU0_4QMy-9",
        "outputId": "063afaba-305d-43af-f43d-708c53024855",
        "colab": {
          "base_uri": "https://localhost:8080/"
        }
      },
      "source": [
        "a = np.array([2,3,4]) #le decimos a numpay (np) que cree una matriz (array).\n",
        "a #esto es una matriz de una dimensión, pero en esto caso ya es un array formal de numpy, por lo que podemos hacer más cosas."
      ],
      "execution_count": null,
      "outputs": [
        {
          "output_type": "execute_result",
          "data": {
            "text/plain": [
              "array([2, 3, 4])"
            ]
          },
          "metadata": {
            "tags": []
          },
          "execution_count": 7
        }
      ]
    },
    {
      "cell_type": "markdown",
      "metadata": {
        "id": "HBmEOOtWNCIX"
      },
      "source": [
        "Podemos crear también arrays de 2 dimensiones."
      ]
    },
    {
      "cell_type": "code",
      "metadata": {
        "id": "IgdHgqL2pTcn",
        "outputId": "fb60eac9-9865-4855-f14e-f68db88c8581",
        "colab": {
          "base_uri": "https://localhost:8080/"
        }
      },
      "source": [
        "a = np.array([[0, 1, 2, 3],[4, 5, 6, 7]])\n",
        "a"
      ],
      "execution_count": null,
      "outputs": [
        {
          "output_type": "execute_result",
          "data": {
            "text/plain": [
              "array([[0, 1, 2, 3],\n",
              "       [4, 5, 6, 7]])"
            ]
          },
          "metadata": {
            "tags": []
          },
          "execution_count": 3
        }
      ]
    },
    {
      "cell_type": "markdown",
      "metadata": {
        "id": "ggTFHwx7q6P4"
      },
      "source": [
        "Incluso podemos crear arrays de 3 dimensiones o más. Veamos un ejemplo de un array de 3 dimensiones."
      ]
    },
    {
      "cell_type": "code",
      "metadata": {
        "id": "9J0ijb8GqBRF",
        "outputId": "81e2c557-8f95-4917-e13e-c2b5d98e4ee3",
        "colab": {
          "base_uri": "https://localhost:8080/"
        }
      },
      "source": [
        "a = np.array([[[0, 1, 2, 3],[4, 5, 6, 7]],[[5, 6, 7, 8],[9, 10, 11, 12]],[[0, 1, 2, 3],[4, 5, 6, 7]]])\n",
        "a"
      ],
      "execution_count": null,
      "outputs": [
        {
          "output_type": "execute_result",
          "data": {
            "text/plain": [
              "array([[[ 0,  1,  2,  3],\n",
              "        [ 4,  5,  6,  7]],\n",
              "\n",
              "       [[ 5,  6,  7,  8],\n",
              "        [ 9, 10, 11, 12]],\n",
              "\n",
              "       [[ 0,  1,  2,  3],\n",
              "        [ 4,  5,  6,  7]]])"
            ]
          },
          "metadata": {
            "tags": []
          },
          "execution_count": 10
        }
      ]
    },
    {
      "cell_type": "markdown",
      "metadata": {
        "id": "MAkb1NBkPFsc"
      },
      "source": [
        "Podemos acceder a los elementos de la matriz utilizando corchetes. Cuando acceda a los elementos, recuerde que la indexación en NumPy comienza en 0. Esto significa que si desea tener acceso al primer elemento de la matriz, tendrá acceso al elemento \"0\"."
      ]
    },
    {
      "cell_type": "code",
      "metadata": {
        "id": "RdsCEPLTqfRp",
        "outputId": "65f49e0e-f780-47f7-870d-c88ece913feb",
        "colab": {
          "base_uri": "https://localhost:8080/"
        }
      },
      "source": [
        "a = np.array([2,3,4])\n",
        "print(a[0]) #accedemos a la posición 0, que tiene el valor 2 en este caso."
      ],
      "execution_count": null,
      "outputs": [
        {
          "output_type": "stream",
          "text": [
            "2\n"
          ],
          "name": "stdout"
        }
      ]
    },
    {
      "cell_type": "markdown",
      "metadata": {
        "id": "JWJZpW8qGu3Y"
      },
      "source": [
        "Especificando el tipo de datos."
      ]
    },
    {
      "cell_type": "code",
      "metadata": {
        "id": "YX9Y7RyxHy0X",
        "outputId": "a20d3c5f-8832-42b6-c1df-3b7412713363",
        "colab": {
          "base_uri": "https://localhost:8080/",
          "height": 34
        }
      },
      "source": [
        "lista = [1,2,3,4,5,6,7,8,9,10]\n",
        "x2 = np.array(lista, dtype = \"float64\")\n",
        "x2 #ahora la lista es un array y los valores son de tipo float 32, que admite decimales."
      ],
      "execution_count": null,
      "outputs": [
        {
          "output_type": "execute_result",
          "data": {
            "text/plain": [
              "array([ 1.,  2.,  3.,  4.,  5.,  6.,  7.,  8.,  9., 10.])"
            ]
          },
          "metadata": {
            "tags": []
          },
          "execution_count": 10
        }
      ]
    },
    {
      "cell_type": "markdown",
      "metadata": {
        "id": "AAWG4eEcILip"
      },
      "source": [
        "¿Que tipos de datos hay?\n",
        "\n",
        "- **Booleano (bool_)**: para establecer los datos como booleanos.\n",
        "- **Enteros(int_)**: un entero por defecto de 32 o 64 bits, depende del sistema operativo.\n",
        "- **Enteros (intp)**: el que se utiliza para indexar.\n",
        "- **Enteros (int8, int16, int32 int64)**: para enteros de x bits.\n",
        "- **Enteros (uint8, uint16, uint32, uint64)**: para enteros sin signo.\n",
        "- **Decimales(float_ = float64, float16, float32)**: el float de 16 bits tiene media precisión, tiene 1 bits para el signo, 5 bits para el exponente (el exponente podrá mostrar hasta 5 valores) y 10 bits de mantisa (la mantisa es el número tal cual lo conocemos). El float de 32 tiene precisión normal, tiene 1 bits para el signo, 8 para el exponente y 23 para la mantisa. El float de 64 o double (es el de máxima precisión) tiene 1 bits para el signo, 11 para el exponente, y 52 para la mantisa.\n",
        "- **Complejos (complex_ = complex64 (32 para la parte real y 32 para la imaginaria), complex128)**: este para establecer números complejos."
      ]
    },
    {
      "cell_type": "markdown",
      "metadata": {
        "id": "uEx7lm_iL3dD"
      },
      "source": [
        "Existen varias formas de iniciar arrays en dependencia de nuestras necesidades."
      ]
    },
    {
      "cell_type": "code",
      "metadata": {
        "id": "f6WrboqDL2m1",
        "outputId": "14858473-b226-4fee-d350-67d28a772f87",
        "colab": {
          "base_uri": "https://localhost:8080/",
          "height": 68
        }
      },
      "source": [
        "x0 = np.zeros((3,4)) #creamos un array tood de ceros, dentro de dobles paréntesis indicamos filas y columnas.\n",
        "x0"
      ],
      "execution_count": null,
      "outputs": [
        {
          "output_type": "execute_result",
          "data": {
            "text/plain": [
              "array([[0., 0., 0., 0.],\n",
              "       [0., 0., 0., 0.],\n",
              "       [0., 0., 0., 0.]])"
            ]
          },
          "metadata": {
            "tags": []
          },
          "execution_count": 14
        }
      ]
    },
    {
      "cell_type": "code",
      "metadata": {
        "id": "ryFs419cILDs",
        "outputId": "234f556a-aa0e-426d-b7ff-1f1c4c279186",
        "colab": {
          "base_uri": "https://localhost:8080/",
          "height": 85
        }
      },
      "source": [
        "x1 = np.ones((4,2)) #creamos un array de unos, de 4 filas y 2 columnas.\n",
        "x1"
      ],
      "execution_count": null,
      "outputs": [
        {
          "output_type": "execute_result",
          "data": {
            "text/plain": [
              "array([[1., 1.],\n",
              "       [1., 1.],\n",
              "       [1., 1.],\n",
              "       [1., 1.]])"
            ]
          },
          "metadata": {
            "tags": []
          },
          "execution_count": 15
        }
      ]
    },
    {
      "cell_type": "markdown",
      "metadata": {
        "id": "rWkt6QiSNOFe"
      },
      "source": [
        "#Función `arange()`. Esta la usamos para crear arrays con rangos específicos."
      ]
    },
    {
      "cell_type": "code",
      "metadata": {
        "id": "ReOLnpUhKhw1",
        "outputId": "4a6979ff-e447-43e0-cdd4-abff4547ec4d",
        "colab": {
          "base_uri": "https://localhost:8080/",
          "height": 34
        }
      },
      "source": [
        "x3 = np.arange(10) #arange la utilizamos para crear arrays de números que incrementan de forma regular.\n",
        "x3 #creamos un array con los valores del 0 al 9."
      ],
      "execution_count": null,
      "outputs": [
        {
          "output_type": "execute_result",
          "data": {
            "text/plain": [
              "array([0, 1, 2, 3, 4, 5, 6, 7, 8, 9])"
            ]
          },
          "metadata": {
            "tags": []
          },
          "execution_count": 16
        }
      ]
    },
    {
      "cell_type": "code",
      "metadata": {
        "id": "Nr-NnOIoMuqe",
        "outputId": "418af03e-3f44-459e-c08d-9067c6ce631b",
        "colab": {
          "base_uri": "https://localhost:8080/",
          "height": 34
        }
      },
      "source": [
        "x4 = np.arange(3, 12, dtype = np.float) #para decidir los rangos.\n",
        "x4 #creamos un array que empieza en 3 y termina en 12, con valores de tipo float."
      ],
      "execution_count": null,
      "outputs": [
        {
          "output_type": "execute_result",
          "data": {
            "text/plain": [
              "array([ 3.,  4.,  5.,  6.,  7.,  8.,  9., 10., 11.])"
            ]
          },
          "metadata": {
            "tags": []
          },
          "execution_count": 20
        }
      ]
    },
    {
      "cell_type": "code",
      "metadata": {
        "id": "wWGzd5DgNLR0",
        "outputId": "a95c42c8-5619-4c58-a220-7225763dc9cf",
        "colab": {
          "base_uri": "https://localhost:8080/",
          "height": 34
        }
      },
      "source": [
        "x5  = np.arange(4,5,0.1) #creamos un array de valores entre 4 y 5 a intervalos de 0.1\n",
        "x5"
      ],
      "execution_count": null,
      "outputs": [
        {
          "output_type": "execute_result",
          "data": {
            "text/plain": [
              "array([4. , 4.1, 4.2, 4.3, 4.4, 4.5, 4.6, 4.7, 4.8, 4.9])"
            ]
          },
          "metadata": {
            "tags": []
          },
          "execution_count": 21
        }
      ]
    },
    {
      "cell_type": "code",
      "metadata": {
        "id": "Va3Q6IDkeQCa",
        "outputId": "eea7bdbe-7664-4db2-b75e-7aa130660ed4",
        "colab": {
          "base_uri": "https://localhost:8080/",
          "height": 34
        }
      },
      "source": [
        "x = np.arange(10,6,-1)\n",
        "x"
      ],
      "execution_count": null,
      "outputs": [
        {
          "output_type": "execute_result",
          "data": {
            "text/plain": [
              "array([10,  9,  8,  7])"
            ]
          },
          "metadata": {
            "tags": []
          },
          "execution_count": 67
        }
      ]
    },
    {
      "cell_type": "markdown",
      "metadata": {
        "id": "UJJBbbYfNpRg"
      },
      "source": [
        "#Función `linspace()`. Sirve para crear arrays con el número especificado de elementos separados de forma equivalente entre el valor de inicio y el de fin."
      ]
    },
    {
      "cell_type": "code",
      "metadata": {
        "id": "XlUjacAyNoTF",
        "outputId": "cb40617e-2f33-45e4-e347-c0b3612e231a",
        "colab": {
          "base_uri": "https://localhost:8080/",
          "height": 68
        }
      },
      "source": [
        "x6 = np.linspace(1,7,12) #creamos un array entre el 1 y el 7, y queremos generar entre estos 12 números diferentes.\n",
        "x6"
      ],
      "execution_count": null,
      "outputs": [
        {
          "output_type": "execute_result",
          "data": {
            "text/plain": [
              "array([1.        , 1.54545455, 2.09090909, 2.63636364, 3.18181818,\n",
              "       3.72727273, 4.27272727, 4.81818182, 5.36363636, 5.90909091,\n",
              "       6.45454545, 7.        ])"
            ]
          },
          "metadata": {
            "tags": []
          },
          "execution_count": 24
        }
      ]
    },
    {
      "cell_type": "markdown",
      "metadata": {
        "id": "WxEYmOFLwnPq"
      },
      "source": [
        "#La función` empty()` crea una matriz cuyo contenido inicial es aleatorio y depende del estado de la memoria. La razón para usar `empty` vs `zeros`(o algo similar) es la velocidad."
      ]
    },
    {
      "cell_type": "code",
      "metadata": {
        "id": "umEMJbJRwxKQ",
        "outputId": "2f25401d-4661-4523-8be4-b0c865f4574e",
        "colab": {
          "base_uri": "https://localhost:8080/",
          "height": 35
        }
      },
      "source": [
        " x = np.empty(5) #creamos un array aleatorio con 5 elementos.\n",
        " x"
      ],
      "execution_count": null,
      "outputs": [
        {
          "output_type": "execute_result",
          "data": {
            "text/plain": [
              "array([0.  , 0.25, 0.5 , 0.75, 1.  ])"
            ]
          },
          "metadata": {
            "tags": []
          },
          "execution_count": 3
        }
      ]
    },
    {
      "cell_type": "markdown",
      "metadata": {
        "id": "IwYP1CYLObo5"
      },
      "source": [
        "#Función `eye()`. Para crear la matriz identidad."
      ]
    },
    {
      "cell_type": "code",
      "metadata": {
        "id": "0wLX73eFOZiQ",
        "outputId": "795aaa24-7cc4-4aaf-caa1-2db402a8a1df",
        "colab": {
          "base_uri": "https://localhost:8080/",
          "height": 102
        }
      },
      "source": [
        "x6 = np.eye(5) #indicamos la dimensión, en este caso 5x5, y en la diagonal unos.\n",
        "x6"
      ],
      "execution_count": null,
      "outputs": [
        {
          "output_type": "execute_result",
          "data": {
            "text/plain": [
              "array([[1., 0., 0., 0., 0.],\n",
              "       [0., 1., 0., 0., 0.],\n",
              "       [0., 0., 1., 0., 0.],\n",
              "       [0., 0., 0., 1., 0.],\n",
              "       [0., 0., 0., 0., 1.]])"
            ]
          },
          "metadata": {
            "tags": []
          },
          "execution_count": 25
        }
      ]
    },
    {
      "cell_type": "markdown",
      "metadata": {
        "id": "eLLJecX9vPYk"
      },
      "source": [
        "# **Agregar, eliminar y ordenar elementos.**"
      ]
    },
    {
      "cell_type": "markdown",
      "metadata": {
        "id": "yOBkLiSHxuAW"
      },
      "source": [
        "# La función `sort()`, permite clasificar un elemento. Podemos especificar el eje, el tipo y el orden cuando llama a la función."
      ]
    },
    {
      "cell_type": "code",
      "metadata": {
        "id": "ab4AwMwSxs9Y",
        "outputId": "61078fa0-a6f6-49bd-b0a8-bdc23f2c1f09",
        "colab": {
          "base_uri": "https://localhost:8080/",
          "height": 35
        }
      },
      "source": [
        "x = np.array([2, 1, 5, 3, 7, 4, 6, 8])\n",
        "np.sort(x)"
      ],
      "execution_count": null,
      "outputs": [
        {
          "output_type": "execute_result",
          "data": {
            "text/plain": [
              "array([1, 2, 3, 4, 5, 6, 7, 8])"
            ]
          },
          "metadata": {
            "tags": []
          },
          "execution_count": 4
        }
      ]
    },
    {
      "cell_type": "markdown",
      "metadata": {
        "id": "L7NmX0iWyCVq"
      },
      "source": [
        "Además de sort, que devuelve una copia ordenada de una matriz, podemos usar:\n",
        "\n",
        "- `argsort`, que es una ordenación indirecta a lo largo de un eje especificado,\n",
        "\n",
        "- `lexsort`, que es una ordenación estable indirecta en varias claves,\n",
        "\n",
        "- `searchsorted`, que encontrará elementos en una matriz ordenada, y\n",
        "\n",
        "- `partition`, que es un tipo parcial."
      ]
    },
    {
      "cell_type": "markdown",
      "metadata": {
        "id": "niSclp_fydvv"
      },
      "source": [
        "# La función `concatenate()` permite concatenar arrays."
      ]
    },
    {
      "cell_type": "code",
      "metadata": {
        "id": "2v6362Y3ykfm",
        "outputId": "fa4be985-82c1-4e6b-b98a-04b3965f317f",
        "colab": {
          "base_uri": "https://localhost:8080/",
          "height": 35
        }
      },
      "source": [
        "a = np.array([1, 2, 3, 4])\n",
        "b = np.array([5, 6, 7, 8])\n",
        "np.concatenate((a, b))"
      ],
      "execution_count": null,
      "outputs": [
        {
          "output_type": "execute_result",
          "data": {
            "text/plain": [
              "array([1, 2, 3, 4, 5, 6, 7, 8])"
            ]
          },
          "metadata": {
            "tags": []
          },
          "execution_count": 5
        }
      ]
    },
    {
      "cell_type": "code",
      "metadata": {
        "id": "ZLohdI2fywKm",
        "outputId": "1aeb0e62-4ca8-4683-b63a-548eff9ae8b7",
        "colab": {
          "base_uri": "https://localhost:8080/",
          "height": 72
        }
      },
      "source": [
        "#Otro ejemplo:\n",
        "x = np.array([[1, 2], [3, 4]])\n",
        "y = np.array([[5, 6]])\n",
        "np.concatenate((x, y), axis=0) #con axis podemos definir si la operación es por columnas con axis = 0, o por filas con axis = 1."
      ],
      "execution_count": null,
      "outputs": [
        {
          "output_type": "execute_result",
          "data": {
            "text/plain": [
              "array([[1, 2],\n",
              "       [3, 4],\n",
              "       [5, 6]])"
            ]
          },
          "metadata": {
            "tags": []
          },
          "execution_count": 8
        }
      ]
    },
    {
      "cell_type": "markdown",
      "metadata": {
        "id": "AZCxVMD-zNeI"
      },
      "source": [
        "#**¿Cómo sabemos la forma y el tamaño de una matriz?**"
      ]
    },
    {
      "cell_type": "markdown",
      "metadata": {
        "id": "HAOZ6_9ezmiE"
      },
      "source": [
        "#Función `ndim()`. Para conocer el número de dimensiones de un array, o el rango, como se le conoce."
      ]
    },
    {
      "cell_type": "code",
      "metadata": {
        "id": "nzqVkTPhTeyQ",
        "outputId": "463bd002-f37a-4a01-9bb9-662306b39ab2",
        "colab": {
          "base_uri": "https://localhost:8080/",
          "height": 72
        }
      },
      "source": [
        "x = np.array([[1,2,3],[4,5,6]])\n",
        "print(x)\n",
        "print (\"El número de dimensiones del array es: \", x.ndim)"
      ],
      "execution_count": null,
      "outputs": [
        {
          "output_type": "stream",
          "text": [
            "[[1 2 3]\n",
            " [4 5 6]]\n",
            "El número de dimensiones del array es:  2\n"
          ],
          "name": "stdout"
        }
      ]
    },
    {
      "cell_type": "markdown",
      "metadata": {
        "id": "pl1RmZRVUO6R"
      },
      "source": [
        "#Función `shape()`. Sirve para conocer las dimensiones de la matriz. Nos arroja una tupla con la cantidad de filas y columnas respectivamente."
      ]
    },
    {
      "cell_type": "code",
      "metadata": {
        "id": "aOygISFaUda3",
        "outputId": "94c1e429-a0ef-41ca-f64a-b3ab528ba095",
        "colab": {
          "base_uri": "https://localhost:8080/",
          "height": 72
        }
      },
      "source": [
        "x = np.array([[1,2,3],[4,5,6]])\n",
        "print(x)\n",
        "print (\"El número de filas y columnas del array es: \", x.shape)"
      ],
      "execution_count": null,
      "outputs": [
        {
          "output_type": "stream",
          "text": [
            "[[1 2 3]\n",
            " [4 5 6]]\n",
            "El número de filas y columnas del array es:  (2, 3)\n"
          ],
          "name": "stdout"
        }
      ]
    },
    {
      "cell_type": "code",
      "metadata": {
        "id": "e_wQI9keZQzo",
        "outputId": "b31d2bb8-f1e3-4eb1-90d6-0d6cab5225c8",
        "colab": {
          "base_uri": "https://localhost:8080/",
          "height": 170
        }
      },
      "source": [
        "#con la función shape también podemos redimensionar la matriz.\n",
        "x = np.array([[1,2,3,4],[5,6,7,8],[9,10,11,12]])\n",
        "print(x)\n",
        "x.shape = (6,2) #redimensionamos la matriz a 6 filas y 2 columnas.\n",
        "x"
      ],
      "execution_count": null,
      "outputs": [
        {
          "output_type": "stream",
          "text": [
            "[[ 1  2  3  4]\n",
            " [ 5  6  7  8]\n",
            " [ 9 10 11 12]]\n"
          ],
          "name": "stdout"
        },
        {
          "output_type": "execute_result",
          "data": {
            "text/plain": [
              "array([[ 1,  2],\n",
              "       [ 3,  4],\n",
              "       [ 5,  6],\n",
              "       [ 7,  8],\n",
              "       [ 9, 10],\n",
              "       [11, 12]])"
            ]
          },
          "metadata": {
            "tags": []
          },
          "execution_count": 60
        }
      ]
    },
    {
      "cell_type": "markdown",
      "metadata": {
        "id": "eQQi6ZDx0g_u"
      },
      "source": [
        "# Función `size()`. Nos devuelve el número total de elementos del array, filas por columnas."
      ]
    },
    {
      "cell_type": "code",
      "metadata": {
        "id": "Xi9qpAKgUzbz",
        "outputId": "171a0ba3-7f19-402a-b648-bd3d363b6aaa",
        "colab": {
          "base_uri": "https://localhost:8080/",
          "height": 68
        }
      },
      "source": [
        "x = np.array([[1,2,3],[4,5,6]])\n",
        "print(x)\n",
        "print (\"El número total de elementos del array es: \", x.size)"
      ],
      "execution_count": null,
      "outputs": [
        {
          "output_type": "stream",
          "text": [
            "[[1 2 3]\n",
            " [4 5 6]]\n",
            "El número total de elementos del array es:  6\n"
          ],
          "name": "stdout"
        }
      ]
    },
    {
      "cell_type": "markdown",
      "metadata": {
        "id": "HP7lEfT91ERO"
      },
      "source": [
        "#Función `itemsize()`. Esta función nos sirve para conocer el tamaño en bytes de cada uno de los elementos de la matriz. Esto es muy útil para conocer el tamaño total de la matriz."
      ]
    },
    {
      "cell_type": "code",
      "metadata": {
        "id": "w-RZMO1JVkBA",
        "outputId": "0c488792-e0db-484a-fa4a-f68dd836177f",
        "colab": {
          "base_uri": "https://localhost:8080/",
          "height": 68
        }
      },
      "source": [
        "x = np.array([[1,2,3],[4,5,6]])\n",
        "print(x)\n",
        "print (\"Cada número de la matriz ocupa : \", str(x.itemsize), \"bytes de información.\") #preguntamos el tipo de datos."
      ],
      "execution_count": null,
      "outputs": [
        {
          "output_type": "stream",
          "text": [
            "[[1 2 3]\n",
            " [4 5 6]]\n",
            "Cada número de la matriz ocupa :  8 bytes de información.\n"
          ],
          "name": "stdout"
        }
      ]
    },
    {
      "cell_type": "markdown",
      "metadata": {
        "id": "0WJuZjlu0OxH"
      },
      "source": [
        "#**¿Cómo podemos transponer y remodelar una matriz?**"
      ]
    },
    {
      "cell_type": "markdown",
      "metadata": {
        "id": "vZooVJzZ5W-F"
      },
      "source": [
        "#Es común tener que transponer las matrices. Las matrices NumPy tienen la propiedad que le permite transponer una `matriz.T`"
      ]
    },
    {
      "cell_type": "code",
      "metadata": {
        "id": "pW60lUGT5ar0",
        "outputId": "2188ffee-2aa3-4377-c2ed-71a67d75a1a9",
        "colab": {
          "base_uri": "https://localhost:8080/",
          "height": 119
        }
      },
      "source": [
        "x = np.array([[1,2,3],[4,5,6],[7,8,9]])\n",
        "print(x)\n",
        "x.T #transponemos el array."
      ],
      "execution_count": null,
      "outputs": [
        {
          "output_type": "stream",
          "text": [
            "[[1 2 3]\n",
            " [4 5 6]\n",
            " [7 8 9]]\n"
          ],
          "name": "stdout"
        },
        {
          "output_type": "execute_result",
          "data": {
            "text/plain": [
              "array([[1, 4, 7],\n",
              "       [2, 5, 8],\n",
              "       [3, 6, 9]])"
            ]
          },
          "metadata": {
            "tags": []
          },
          "execution_count": 22
        }
      ]
    },
    {
      "cell_type": "markdown",
      "metadata": {
        "id": "0PHCAEelOzvc"
      },
      "source": [
        "#Función `reshape()`.Para modificar la forma que tiene un array.\n",
        "\n",
        "[Enlace](https://numpy.org/doc/1.19/reference/generated/numpy.reshape.html#numpy.reshape)"
      ]
    },
    {
      "cell_type": "markdown",
      "metadata": {
        "id": "R8r1ZvUT5vro"
      },
      "source": [
        "Es posible que también debamos cambiar las dimensiones de una matriz. Esto puede suceder cuando, por ejemplo, tiene un modelo que espera una determinada forma de entrada que es diferente del conjunto de datos. Aquí es donde el método puede ser útil. Simplemente tiene que pasar las nuevas dimensiones que desea para la `matriz.reshape()`."
      ]
    },
    {
      "cell_type": "code",
      "metadata": {
        "id": "osHwftBxO9Ef",
        "outputId": "b8f844f3-9049-486d-a038-c9a3bfd29d80",
        "colab": {
          "base_uri": "https://localhost:8080/",
          "height": 119
        }
      },
      "source": [
        "x = np.zeros((8,3)) #creamos un array de ceros de 8 filas y 3 columnas.\n",
        "x.reshape(6,4) #cambiamos la estructura a 6 filas y 4 columnas."
      ],
      "execution_count": null,
      "outputs": [
        {
          "output_type": "execute_result",
          "data": {
            "text/plain": [
              "array([[0., 0., 0., 0.],\n",
              "       [0., 0., 0., 0.],\n",
              "       [0., 0., 0., 0.],\n",
              "       [0., 0., 0., 0.],\n",
              "       [0., 0., 0., 0.],\n",
              "       [0., 0., 0., 0.]])"
            ]
          },
          "metadata": {
            "tags": []
          },
          "execution_count": 30
        }
      ]
    },
    {
      "cell_type": "code",
      "metadata": {
        "id": "IlGU9-Qv1ilp",
        "outputId": "912d5da3-c0b9-40af-8cea-1c547a920bac",
        "colab": {
          "base_uri": "https://localhost:8080/",
          "height": 54
        }
      },
      "source": [
        "a = np.arange(6)\n",
        "np.reshape(a, newshape=(2, 3), order='C') #El búfer de datos es típicamente lo que la gente considera matrices en C o Fortran, un bloque de memoria contiguo (y fijo) que contiene elementos de datos de tamaño fijo."
      ],
      "execution_count": null,
      "outputs": [
        {
          "output_type": "execute_result",
          "data": {
            "text/plain": [
              "array([[0, 1, 2],\n",
              "       [3, 4, 5]])"
            ]
          },
          "metadata": {
            "tags": []
          },
          "execution_count": 13
        }
      ]
    },
    {
      "cell_type": "markdown",
      "metadata": {
        "id": "nGS4Dfg0RrBl"
      },
      "source": [
        "#Función `transpose()`. Nos vale para transponer un array, es decir, cambiamos filas por columnas. Es decir, podemos invertir o cambiar los ejes de una matriz según los valores especificados.\n",
        "\n",
        "[Enlace](https://numpy.org/doc/1.19/reference/generated/numpy.transpose.html#numpy.transpose)"
      ]
    },
    {
      "cell_type": "code",
      "metadata": {
        "id": "nMFBx_xmRv-X",
        "outputId": "8bf69ad0-38f3-422f-d6f5-a7d3eb53713e",
        "colab": {
          "base_uri": "https://localhost:8080/",
          "height": 102
        }
      },
      "source": [
        "x = np.array([[1,2,3],[4,5,6]])\n",
        "print(x)\n",
        "np.transpose(x) #transponemos el vector"
      ],
      "execution_count": null,
      "outputs": [
        {
          "output_type": "stream",
          "text": [
            "[[1 2 3]\n",
            " [4 5 6]]\n"
          ],
          "name": "stdout"
        },
        {
          "output_type": "execute_result",
          "data": {
            "text/plain": [
              "array([[1, 4],\n",
              "       [2, 5],\n",
              "       [3, 6]])"
            ]
          },
          "metadata": {
            "tags": []
          },
          "execution_count": 23
        }
      ]
    },
    {
      "cell_type": "code",
      "metadata": {
        "id": "ZxaZleV96USc",
        "outputId": "870d4935-0323-4522-c612-dd1442a0fbb6",
        "colab": {
          "base_uri": "https://localhost:8080/",
          "height": 85
        }
      },
      "source": [
        "x = np.arange(4).reshape((2,2))\n",
        "print(x)\n",
        "np.transpose(x)"
      ],
      "execution_count": null,
      "outputs": [
        {
          "output_type": "stream",
          "text": [
            "[[0 1]\n",
            " [2 3]]\n"
          ],
          "name": "stdout"
        },
        {
          "output_type": "execute_result",
          "data": {
            "text/plain": [
              "array([[0, 2],\n",
              "       [1, 3]])"
            ]
          },
          "metadata": {
            "tags": []
          },
          "execution_count": 24
        }
      ]
    },
    {
      "cell_type": "markdown",
      "metadata": {
        "id": "n3cmpniQSJQi"
      },
      "source": [
        "#Función `resize()`. Para crear un nuevo array con la forma específica."
      ]
    },
    {
      "cell_type": "code",
      "metadata": {
        "id": "9897xktCSTvk",
        "outputId": "29ea1309-e240-49ee-ddad-704405c9b56c",
        "colab": {
          "base_uri": "https://localhost:8080/",
          "height": 102
        }
      },
      "source": [
        "x9 = np.array([[1,2,3],[4,5,6]])\n",
        "np.resize(x9,(5,3)) #del array original pedimos que cree uno de 5 filas y 3 columnas.\n",
        "#como nuestro array solo tiene 6 valores y queremos 15 de vuelta por las dimensiones 5 filas  y 3 columnas, cuando llega al final va repitiendo los valores."
      ],
      "execution_count": null,
      "outputs": [
        {
          "output_type": "execute_result",
          "data": {
            "text/plain": [
              "array([[1, 2, 3],\n",
              "       [4, 5, 6],\n",
              "       [1, 2, 3],\n",
              "       [4, 5, 6],\n",
              "       [1, 2, 3]])"
            ]
          },
          "metadata": {
            "tags": []
          },
          "execution_count": 39
        }
      ]
    },
    {
      "cell_type": "markdown",
      "metadata": {
        "id": "HESYm0UE2HC9"
      },
      "source": [
        "#**Cómo convertir una matriz 1D en una matriz 2D (cómo agregar un nuevo eje a una matriz).**"
      ]
    },
    {
      "cell_type": "markdown",
      "metadata": {
        "id": "N4RNVo0R3CIp"
      },
      "source": [
        "#La función `newaxis()`  nos permite agregar un nuevo eje."
      ]
    },
    {
      "cell_type": "code",
      "metadata": {
        "id": "AvasIGQA2ZB5",
        "outputId": "c570cc0d-fa40-4f28-9264-148a4a758b44",
        "colab": {
          "base_uri": "https://localhost:8080/",
          "height": 35
        }
      },
      "source": [
        "a = np.array([1, 2, 3, 4, 5, 6]) #Puede usar np.newaxis para agregar un nuevo eje.\n",
        "a2 = a[np.newaxis, :]\n",
        "a2.shape"
      ],
      "execution_count": null,
      "outputs": [
        {
          "output_type": "execute_result",
          "data": {
            "text/plain": [
              "(1, 6)"
            ]
          },
          "metadata": {
            "tags": []
          },
          "execution_count": 15
        }
      ]
    },
    {
      "cell_type": "markdown",
      "metadata": {
        "id": "_SI6oINZ2uI5"
      },
      "source": [
        "Podemos convertir explícitamente una matriz 1D con un vector de fila o un vector de columna usando np.newaxis. Por ejemplo, puede convertir una matriz 1D en un vector de fila insertando un eje a lo largo de la primera dimensión:"
      ]
    },
    {
      "cell_type": "code",
      "metadata": {
        "id": "djYEKakY2t0Y",
        "outputId": "b5cbaeeb-806b-4dde-f0f4-b2268e0a3163",
        "colab": {
          "base_uri": "https://localhost:8080/",
          "height": 35
        }
      },
      "source": [
        "a = np.array([1, 2, 3, 4, 5, 6])\n",
        "row_vector = a[np.newaxis, :]\n",
        "row_vector.shape"
      ],
      "execution_count": null,
      "outputs": [
        {
          "output_type": "execute_result",
          "data": {
            "text/plain": [
              "(1, 6)"
            ]
          },
          "metadata": {
            "tags": []
          },
          "execution_count": 16
        }
      ]
    },
    {
      "cell_type": "markdown",
      "metadata": {
        "id": "RYX_FWgn24qJ"
      },
      "source": [
        "O, para un vector de columna, puede insertar un eje a lo largo de la segunda dimensión:"
      ]
    },
    {
      "cell_type": "code",
      "metadata": {
        "id": "enaihOXY25pP",
        "outputId": "ecbf0b84-8ba6-4c85-d9f5-b583542ad354",
        "colab": {
          "base_uri": "https://localhost:8080/",
          "height": 35
        }
      },
      "source": [
        "a = np.array([1, 2, 3, 4, 5, 6])\n",
        "col_vector = a[:, np.newaxis]\n",
        "col_vector.shape"
      ],
      "execution_count": null,
      "outputs": [
        {
          "output_type": "execute_result",
          "data": {
            "text/plain": [
              "(6, 1)"
            ]
          },
          "metadata": {
            "tags": []
          },
          "execution_count": 17
        }
      ]
    },
    {
      "cell_type": "markdown",
      "metadata": {
        "id": "2K7NaWv-3Kvo"
      },
      "source": [
        "#También podemos expandir una matriz insertando un nuevo eje en una posición específica con `expand_dims()`."
      ]
    },
    {
      "cell_type": "code",
      "metadata": {
        "id": "3oArTezb3Wja",
        "outputId": "61f5db54-11d6-42c4-a4de-f85011debf0d",
        "colab": {
          "base_uri": "https://localhost:8080/",
          "height": 35
        }
      },
      "source": [
        "a = np.array([1, 2, 3, 4, 5, 6])\n",
        "a.shape"
      ],
      "execution_count": null,
      "outputs": [
        {
          "output_type": "execute_result",
          "data": {
            "text/plain": [
              "(6,)"
            ]
          },
          "metadata": {
            "tags": []
          },
          "execution_count": 18
        }
      ]
    },
    {
      "cell_type": "markdown",
      "metadata": {
        "id": "RjdYXjha3fMM"
      },
      "source": [
        "Puede usar `np.expand_dims` para agregar un eje en la posición de índice 1 con:"
      ]
    },
    {
      "cell_type": "code",
      "metadata": {
        "id": "X-fQVa013g1J",
        "outputId": "335624e5-1413-4177-b7ca-3aca660ca305",
        "colab": {
          "base_uri": "https://localhost:8080/",
          "height": 35
        }
      },
      "source": [
        "b = np.expand_dims(a, axis=1)\n",
        "b.shape"
      ],
      "execution_count": null,
      "outputs": [
        {
          "output_type": "execute_result",
          "data": {
            "text/plain": [
              "(6, 1)"
            ]
          },
          "metadata": {
            "tags": []
          },
          "execution_count": 19
        }
      ]
    },
    {
      "cell_type": "markdown",
      "metadata": {
        "id": "FYVvWBWm3o7u"
      },
      "source": [
        "Puede agregar un eje en la posición de índice 0 con:"
      ]
    },
    {
      "cell_type": "code",
      "metadata": {
        "id": "J-992OIe3pjG",
        "outputId": "5aacb8d2-38d4-4c08-bcd7-2e1658e0b3c3",
        "colab": {
          "base_uri": "https://localhost:8080/",
          "height": 35
        }
      },
      "source": [
        "a = np.array([1, 2, 3, 4, 5, 6])\n",
        "c = np.expand_dims(a, axis=0)\n",
        "c.shape"
      ],
      "execution_count": null,
      "outputs": [
        {
          "output_type": "execute_result",
          "data": {
            "text/plain": [
              "(1, 6)"
            ]
          },
          "metadata": {
            "tags": []
          },
          "execution_count": 20
        }
      ]
    },
    {
      "cell_type": "markdown",
      "metadata": {
        "id": "auYaraf48i1u"
      },
      "source": [
        "#**¿Cómo obtenemos información de la matriz?**"
      ]
    },
    {
      "cell_type": "markdown",
      "metadata": {
        "id": "knvPEItTU_ut"
      },
      "source": [
        "# Función `dtype()`. Nos sirve para conocer el tipo de datos que contiene la matriz."
      ]
    },
    {
      "cell_type": "code",
      "metadata": {
        "id": "82gvoM3MVIzy",
        "outputId": "49a19e33-2c3a-4076-e3a4-96c699161b35",
        "colab": {
          "base_uri": "https://localhost:8080/",
          "height": 68
        }
      },
      "source": [
        "x9 = np.array([[1,2,3],[4,5,6]])\n",
        "print(x9)\n",
        "print (\"El tipo de datos del array es: \", x9.dtype) #preguntamos el tipo de datos."
      ],
      "execution_count": null,
      "outputs": [
        {
          "output_type": "stream",
          "text": [
            "[[1 2 3]\n",
            " [4 5 6]]\n",
            "El tipo de datos del array es:  int64\n"
          ],
          "name": "stdout"
        }
      ]
    },
    {
      "cell_type": "markdown",
      "metadata": {
        "id": "-ktTxqhzWDvu"
      },
      "source": [
        "#Función `data()`. Es el buffer que contiene los elementos de la matriz. Indica una posición de memoria que es donde se ha almacenado la memoria de este array."
      ]
    },
    {
      "cell_type": "code",
      "metadata": {
        "id": "CsbekoOLXwBK",
        "outputId": "e86bca4d-89c4-40e4-e526-004cb2764a12",
        "colab": {
          "base_uri": "https://localhost:8080/",
          "height": 68
        }
      },
      "source": [
        "x = np.array([[1,2,3],[4,5,6]])\n",
        "print(x)\n",
        "print(\"La memoria de este array se almacenó en: \", x.data)"
      ],
      "execution_count": null,
      "outputs": [
        {
          "output_type": "stream",
          "text": [
            "[[1 2 3]\n",
            " [4 5 6]]\n",
            "La memoria de este array se almacenó en:  <memory at 0x7fd4e5bdc8b8>\n"
          ],
          "name": "stdout"
        }
      ]
    },
    {
      "cell_type": "markdown",
      "metadata": {
        "id": "OcXPgfkWYEkn"
      },
      "source": [
        "#**Selección o indexación de elementos y división en un array.**"
      ]
    },
    {
      "cell_type": "markdown",
      "metadata": {
        "id": "MeGVWADI5rNu"
      },
      "source": [
        "Unidimensionales."
      ]
    },
    {
      "cell_type": "code",
      "metadata": {
        "id": "2zbw4ABq48cT",
        "outputId": "cdc5057e-bd13-48f8-dfc7-a6a9d4a328f8",
        "colab": {
          "base_uri": "https://localhost:8080/",
          "height": 35
        }
      },
      "source": [
        "x = np.array([1, 2, 3, 4, 5, 6])\n",
        "x[4] #accedemos a la posición 4, que contiene el valor 5."
      ],
      "execution_count": null,
      "outputs": [
        {
          "output_type": "execute_result",
          "data": {
            "text/plain": [
              "5"
            ]
          },
          "metadata": {
            "tags": []
          },
          "execution_count": 24
        }
      ]
    },
    {
      "cell_type": "code",
      "metadata": {
        "id": "guyPrJMU4TET",
        "outputId": "ec4865bc-a326-4b16-965e-5ad87819288b",
        "colab": {
          "base_uri": "https://localhost:8080/",
          "height": 35
        }
      },
      "source": [
        "x = np.array([1, 2, 3, 4, 5, 6])\n",
        "x[-2:] #accedemos al valor 2 de atrás hacia adelante, y de ahi hasta el final."
      ],
      "execution_count": null,
      "outputs": [
        {
          "output_type": "execute_result",
          "data": {
            "text/plain": [
              "array([5, 6])"
            ]
          },
          "metadata": {
            "tags": []
          },
          "execution_count": 22
        }
      ]
    },
    {
      "cell_type": "code",
      "metadata": {
        "id": "fKHnNgAW4Fx4",
        "outputId": "d750962c-0b09-498b-ce57-1d00b70a2d43",
        "colab": {
          "base_uri": "https://localhost:8080/",
          "height": 35
        }
      },
      "source": [
        "x = np.array([1, 2, 3])\n",
        "x[1:] #accedemos a los valores de 1 en adelante."
      ],
      "execution_count": null,
      "outputs": [
        {
          "output_type": "execute_result",
          "data": {
            "text/plain": [
              "array([2, 3])"
            ]
          },
          "metadata": {
            "tags": []
          },
          "execution_count": 21
        }
      ]
    },
    {
      "cell_type": "code",
      "metadata": {
        "id": "Vc_b6A7gd03P",
        "outputId": "43b84a4d-105f-456a-8b4b-30f887e03f36",
        "colab": {
          "base_uri": "https://localhost:8080/",
          "height": 34
        }
      },
      "source": [
        "x = np.arange(12) #creamos un array lineal de 12 elementos.\n",
        "x[3:12:2] #ahora de pedimos los objetos del 3 al 12 pero de 2 en 2."
      ],
      "execution_count": null,
      "outputs": [
        {
          "output_type": "execute_result",
          "data": {
            "text/plain": [
              "array([ 3,  5,  7,  9, 11])"
            ]
          },
          "metadata": {
            "tags": []
          },
          "execution_count": 66
        }
      ]
    },
    {
      "cell_type": "code",
      "metadata": {
        "id": "qgR-ZcGYbZOB",
        "outputId": "dde26b17-9ea1-4eac-aeca-3b78bb135bbd",
        "colab": {
          "base_uri": "https://localhost:8080/",
          "height": 34
        }
      },
      "source": [
        "x = np.arange(12) #creamos un array lineal de 12 elementos.\n",
        "x[3:8] #ahora que es lineal este, podemos pedirle los valores del 3 al 8 por ejemplo."
      ],
      "execution_count": null,
      "outputs": [
        {
          "output_type": "execute_result",
          "data": {
            "text/plain": [
              "array([3, 4, 5, 6, 7])"
            ]
          },
          "metadata": {
            "tags": []
          },
          "execution_count": 65
        }
      ]
    },
    {
      "cell_type": "code",
      "metadata": {
        "id": "NZmDZqp3d8nn",
        "outputId": "10136b31-49f8-4dd0-88d3-4c5c6061aa76",
        "colab": {
          "base_uri": "https://localhost:8080/",
          "height": 34
        }
      },
      "source": [
        "#Si creamos 2 arrays podemos acceder a la posición de los valores de uno a través de otro.\n",
        "x = np.arange(20,30)\n",
        "y = [0,1,2,3,4]\n",
        "x[y] #aquí hacemos x en la posición y. Es decir, que valores de x se encuentran en la posición 0,1,2,3 y4."
      ],
      "execution_count": null,
      "outputs": [
        {
          "output_type": "execute_result",
          "data": {
            "text/plain": [
              "array([20, 21, 22, 23, 24])"
            ]
          },
          "metadata": {
            "tags": []
          },
          "execution_count": 73
        }
      ]
    },
    {
      "cell_type": "code",
      "metadata": {
        "id": "AX3uOqrzfVq_",
        "outputId": "147a6929-40e4-4822-a4d3-68bb84341538",
        "colab": {
          "base_uri": "https://localhost:8080/",
          "height": 51
        }
      },
      "source": [
        "#podemos seleccionar valores según diferentes criterios.\n",
        "x = np.arange(50) #creamos un array del 0 al 50.\n",
        "x[x>30] #seleccionamos del array los valores mayores que 30."
      ],
      "execution_count": null,
      "outputs": [
        {
          "output_type": "execute_result",
          "data": {
            "text/plain": [
              "array([31, 32, 33, 34, 35, 36, 37, 38, 39, 40, 41, 42, 43, 44, 45, 46, 47,\n",
              "       48, 49])"
            ]
          },
          "metadata": {
            "tags": []
          },
          "execution_count": 74
        }
      ]
    },
    {
      "cell_type": "markdown",
      "metadata": {
        "id": "DSdXjMk65uf-"
      },
      "source": [
        "ndimensionales"
      ]
    },
    {
      "cell_type": "code",
      "metadata": {
        "id": "HUsPdwbfYP0_",
        "outputId": "23ae418a-85e6-4e56-8cb4-2616c6da95a3",
        "colab": {
          "base_uri": "https://localhost:8080/",
          "height": 85
        }
      },
      "source": [
        "x = np.array([[1,2,3],[4,5,6], [7,8,9]])\n",
        "print(x)\n",
        "x[2] #accedemos a la fila 2 del array."
      ],
      "execution_count": null,
      "outputs": [
        {
          "output_type": "stream",
          "text": [
            "[[1 2 3]\n",
            " [4 5 6]\n",
            " [7 8 9]]\n"
          ],
          "name": "stdout"
        },
        {
          "output_type": "execute_result",
          "data": {
            "text/plain": [
              "array([7, 8, 9])"
            ]
          },
          "metadata": {
            "tags": []
          },
          "execution_count": 63
        }
      ]
    },
    {
      "cell_type": "code",
      "metadata": {
        "id": "k8Qk_u5UYlZB",
        "outputId": "c740a0fa-3be5-4e48-9e6c-52ee6c5e17b9",
        "colab": {
          "base_uri": "https://localhost:8080/",
          "height": 85
        }
      },
      "source": [
        "x = np.array([[1,2,3],[4,5,6], [7,8,9]])\n",
        "print(x)\n",
        "x[2,1] #accedemos al elemento que está en la fila 2 y columna 1 del array."
      ],
      "execution_count": null,
      "outputs": [
        {
          "output_type": "stream",
          "text": [
            "[[1 2 3]\n",
            " [4 5 6]\n",
            " [7 8 9]]\n"
          ],
          "name": "stdout"
        },
        {
          "output_type": "execute_result",
          "data": {
            "text/plain": [
              "8"
            ]
          },
          "metadata": {
            "tags": []
          },
          "execution_count": 55
        }
      ]
    },
    {
      "cell_type": "code",
      "metadata": {
        "id": "wQ-KljvqYxRq",
        "outputId": "8600737f-d6db-4d71-a7af-3f3e253fb1d2",
        "colab": {
          "base_uri": "https://localhost:8080/",
          "height": 119
        }
      },
      "source": [
        "x = np.array([[1,2,3,4,5],[6,7,8,9,10], [11,12,13,14,15],[16,17,18,19,20]])\n",
        "print(x)\n",
        "x[0:2,2:4] #queremos de la filas 0 a la 2, y de la columna 2 a la 4"
      ],
      "execution_count": null,
      "outputs": [
        {
          "output_type": "stream",
          "text": [
            "[[ 1  2  3  4  5]\n",
            " [ 6  7  8  9 10]\n",
            " [11 12 13 14 15]\n",
            " [16 17 18 19 20]]\n"
          ],
          "name": "stdout"
        },
        {
          "output_type": "execute_result",
          "data": {
            "text/plain": [
              "array([[3, 4],\n",
              "       [8, 9]])"
            ]
          },
          "metadata": {
            "tags": []
          },
          "execution_count": 62
        }
      ]
    },
    {
      "cell_type": "code",
      "metadata": {
        "id": "TYu3h-ZgA1L5",
        "outputId": "b4d3224b-50c3-4774-d761-da5e5962b42f",
        "colab": {
          "base_uri": "https://localhost:8080/",
          "height": 35
        }
      },
      "source": [
        "a = np.array([[1, 2, 3, 4], [5, 6, 7, 8], [9, 10, 11, 12]])\n",
        "b = a[0,:] #de a, la fila 0 y todas las columnas.\n",
        "b"
      ],
      "execution_count": null,
      "outputs": [
        {
          "output_type": "execute_result",
          "data": {
            "text/plain": [
              "array([1, 2, 3, 4])"
            ]
          },
          "metadata": {
            "tags": []
          },
          "execution_count": 48
        }
      ]
    },
    {
      "cell_type": "code",
      "metadata": {
        "id": "YP09e9Y3bvAJ",
        "outputId": "4a508c8a-baa4-4aa9-8e54-ac0f84b6194d",
        "colab": {
          "base_uri": "https://localhost:8080/",
          "height": 145
        }
      },
      "source": [
        "y = np.arange(35).reshape(5,7)\n",
        "print(y)\n",
        "y[1:5:2,::3] #tomamos la fila de la 1 a la 5 de 2 en 2 y tomamos 3 columnas dejando 2 por el medio."
      ],
      "execution_count": null,
      "outputs": [
        {
          "output_type": "stream",
          "text": [
            "[[ 0  1  2  3  4  5  6]\n",
            " [ 7  8  9 10 11 12 13]\n",
            " [14 15 16 17 18 19 20]\n",
            " [21 22 23 24 25 26 27]\n",
            " [28 29 30 31 32 33 34]]\n"
          ],
          "name": "stdout"
        },
        {
          "output_type": "execute_result",
          "data": {
            "text/plain": [
              "array([[ 7, 10, 13],\n",
              "       [21, 24, 27]])"
            ]
          },
          "metadata": {
            "tags": []
          },
          "execution_count": 13
        }
      ]
    },
    {
      "cell_type": "code",
      "metadata": {
        "id": "H4_u-Ew9f3ul",
        "outputId": "346fabee-ba34-4b2f-a04e-365b5397efe0",
        "colab": {
          "base_uri": "https://localhost:8080/",
          "height": 119
        }
      },
      "source": [
        "#podemos también crear condiciones y saber si se cumplen o no.\n",
        "x = np.arange(50) #creamos un array del 0 al 50.\n",
        "condicion = x > 15\n",
        "condicion #nos devuelve valores booleanos."
      ],
      "execution_count": null,
      "outputs": [
        {
          "output_type": "execute_result",
          "data": {
            "text/plain": [
              "array([False, False, False, False, False, False, False, False, False,\n",
              "       False, False, False, False, False, False, False,  True,  True,\n",
              "        True,  True,  True,  True,  True,  True,  True,  True,  True,\n",
              "        True,  True,  True,  True,  True,  True,  True,  True,  True,\n",
              "        True,  True,  True,  True,  True,  True,  True,  True,  True,\n",
              "        True,  True,  True,  True,  True])"
            ]
          },
          "metadata": {
            "tags": []
          },
          "execution_count": 75
        }
      ]
    },
    {
      "cell_type": "code",
      "metadata": {
        "id": "BmM35uDr6Dex",
        "outputId": "29cfd9dd-d99e-40d6-bf2e-1c0cbbf82a78",
        "colab": {
          "base_uri": "https://localhost:8080/",
          "height": 35
        }
      },
      "source": [
        "a = np.array([[1 , 2, 3, 4], [5, 6, 7, 8], [9, 10, 11, 12]])\n",
        "print(a[a < 5]) #nos devuelve los valores de a que son menores que 5."
      ],
      "execution_count": null,
      "outputs": [
        {
          "output_type": "stream",
          "text": [
            "[1 2 3 4]\n"
          ],
          "name": "stdout"
        }
      ]
    },
    {
      "cell_type": "code",
      "metadata": {
        "id": "_RMegv1k6MS7",
        "outputId": "63824447-0c3c-4347-c063-c44f61d537fd",
        "colab": {
          "base_uri": "https://localhost:8080/",
          "height": 35
        }
      },
      "source": [
        "#otra manera de hacerlo.\n",
        "a = np.array([[1 , 2, 3, 4], [5, 6, 7, 8], [9, 10, 11, 12]])\n",
        "five_up = (a >= 5)\n",
        "print(a[five_up])"
      ],
      "execution_count": null,
      "outputs": [
        {
          "output_type": "stream",
          "text": [
            "[ 5  6  7  8  9 10 11 12]\n"
          ],
          "name": "stdout"
        }
      ]
    },
    {
      "cell_type": "markdown",
      "metadata": {
        "id": "7jgrv2Ns6e8y"
      },
      "source": [
        "Podemos seleccionar elementos divisibles por 2:"
      ]
    },
    {
      "cell_type": "code",
      "metadata": {
        "id": "KRm3Uvzh6iYs",
        "outputId": "918565d3-e6f0-40c4-acf8-9d477ea33a07",
        "colab": {
          "base_uri": "https://localhost:8080/",
          "height": 35
        }
      },
      "source": [
        "a = np.array([[1 , 2, 3, 4], [5, 6, 7, 8], [9, 10, 11, 12]])\n",
        "divisible_by_2 = a[a%2==0] #aquí indicamos que el resto de a/2 debe ser 0.\n",
        "print(divisible_by_2)"
      ],
      "execution_count": null,
      "outputs": [
        {
          "output_type": "stream",
          "text": [
            "[ 2  4  6  8 10 12]\n"
          ],
          "name": "stdout"
        }
      ]
    },
    {
      "cell_type": "markdown",
      "metadata": {
        "id": "uNMvkBxO6vL7"
      },
      "source": [
        "O podemos seleccionar elementos que satisfagan dos condiciones usando los operadores &y |:"
      ]
    },
    {
      "cell_type": "code",
      "metadata": {
        "id": "NG-dj75g6xd7",
        "outputId": "bbbd6c60-7890-4ea3-b1cf-fd81a5992535",
        "colab": {
          "base_uri": "https://localhost:8080/",
          "height": 35
        }
      },
      "source": [
        "a = np.array([[1 , 2, 3, 4], [5, 6, 7, 8], [9, 10, 11, 12]])\n",
        "c = a[(a > 2) & (a < 11)]\n",
        "print(c)"
      ],
      "execution_count": null,
      "outputs": [
        {
          "output_type": "stream",
          "text": [
            "[ 3  4  5  6  7  8  9 10]\n"
          ],
          "name": "stdout"
        }
      ]
    },
    {
      "cell_type": "markdown",
      "metadata": {
        "id": "wpV_7Nhs67Lb"
      },
      "source": [
        "También puede hacer uso de los operadores lógicos & y | para devolver valores booleanos que especifican si los valores de una matriz cumplen o no una determinada condición. Esto puede resultar útil con matrices que contienen nombres u otros valores categóricos."
      ]
    },
    {
      "cell_type": "code",
      "metadata": {
        "id": "fUIVx8Yu68Pv",
        "outputId": "1bdda7fb-d420-42bf-feb5-136180395f0d",
        "colab": {
          "base_uri": "https://localhost:8080/",
          "height": 72
        }
      },
      "source": [
        "a = np.array([[1 , 2, 3, 4], [5, 6, 7, 8], [9, 10, 11, 12]])\n",
        "five_up = (a > 5) | (a == 5) #si a es mayor o igual que 5, print True.\n",
        "print(five_up)"
      ],
      "execution_count": null,
      "outputs": [
        {
          "output_type": "stream",
          "text": [
            "[[False False False False]\n",
            " [ True  True  True  True]\n",
            " [ True  True  True  True]]\n"
          ],
          "name": "stdout"
        }
      ]
    },
    {
      "cell_type": "markdown",
      "metadata": {
        "id": "NZiCD43s7QAr"
      },
      "source": [
        "#También podemos utilizar `np.nonzero()` para seleccionar elementos o índices de una matriz. Puede utilizar `np.nonzero()` para imprimir los índices de elementos que son, por ejemplo, menores que 5:"
      ]
    },
    {
      "cell_type": "code",
      "metadata": {
        "id": "TDLZA0nG7SKv",
        "outputId": "fe090e71-2eda-4a9b-b5fc-a35c1c9de4c2",
        "colab": {
          "base_uri": "https://localhost:8080/",
          "height": 35
        }
      },
      "source": [
        "a = np.array([[1, 2, 3, 4], [5, 6, 7, 8], [9, 10, 11, 12]])\n",
        "b = np.nonzero(a < 5)\n",
        "print(b)"
      ],
      "execution_count": null,
      "outputs": [
        {
          "output_type": "stream",
          "text": [
            "(array([0, 0, 0, 0]), array([0, 1, 2, 3]))\n"
          ],
          "name": "stdout"
        }
      ]
    },
    {
      "cell_type": "markdown",
      "metadata": {
        "id": "t8Q6XuZO7rc9"
      },
      "source": [
        "En este ejemplo, se devolvió una tupla de matrices: una para cada dimensión. La primera matriz representa los índices de fila donde se encuentran estos valores y la segunda matriz representa los índices de columna donde se encuentran los valores.\n",
        "\n",
        "Si desea generar una lista de coordenadas donde existen los elementos, puede comprimir las matrices, iterar sobre la lista de coordenadas e imprimirlas. Por ejemplo:"
      ]
    },
    {
      "cell_type": "code",
      "metadata": {
        "id": "OprGPlT07sdj",
        "outputId": "19e104c7-6829-4e6c-c7dc-f84ac4ee1ff7",
        "colab": {
          "base_uri": "https://localhost:8080/",
          "height": 90
        }
      },
      "source": [
        "list_of_coordinates= list(zip(b[0], b[1]))\n",
        "\n",
        "for coord in list_of_coordinates:\n",
        "  print(coord)"
      ],
      "execution_count": null,
      "outputs": [
        {
          "output_type": "stream",
          "text": [
            "(0, 0)\n",
            "(0, 1)\n",
            "(0, 2)\n",
            "(0, 3)\n"
          ],
          "name": "stdout"
        }
      ]
    },
    {
      "cell_type": "markdown",
      "metadata": {
        "id": "0I-Ub7IO7_E8"
      },
      "source": [
        "También puede usar np.nonzero()para imprimir los elementos en una matriz que son menos de 5 con:"
      ]
    },
    {
      "cell_type": "code",
      "metadata": {
        "id": "8W6UXJ1V7_8n",
        "outputId": "07208a49-8a68-47e0-afc6-af7b3e6a5d19",
        "colab": {
          "base_uri": "https://localhost:8080/",
          "height": 35
        }
      },
      "source": [
        "print(a[b])"
      ],
      "execution_count": null,
      "outputs": [
        {
          "output_type": "stream",
          "text": [
            "[1 2 3 4]\n"
          ],
          "name": "stdout"
        }
      ]
    },
    {
      "cell_type": "markdown",
      "metadata": {
        "id": "OVfHPcjr8FLy"
      },
      "source": [
        "Si el elemento que está buscando no existe en la matriz, la matriz de índices devuelta estará vacía. Por ejemplo:"
      ]
    },
    {
      "cell_type": "code",
      "metadata": {
        "id": "5x4OKiOI8Euq",
        "outputId": "1ca451fd-9d4f-4ba5-e457-6b18696ce414",
        "colab": {
          "base_uri": "https://localhost:8080/",
          "height": 35
        }
      },
      "source": [
        "a = np.array([[1, 2, 3, 4], [5, 6, 7, 8], [9, 10, 11, 12]])\n",
        "not_there = np.nonzero(a == 42)\n",
        "print(not_there)"
      ],
      "execution_count": null,
      "outputs": [
        {
          "output_type": "stream",
          "text": [
            "(array([], dtype=int64), array([], dtype=int64))\n"
          ],
          "name": "stdout"
        }
      ]
    },
    {
      "cell_type": "markdown",
      "metadata": {
        "id": "wiwPjakr8rMG"
      },
      "source": [
        "#**Cómo crear una matriz a partir de datos existentes. Manipulación**"
      ]
    },
    {
      "cell_type": "markdown",
      "metadata": {
        "id": "P2xmo8Po8zF5"
      },
      "source": [
        "Puede usar fácilmente crear una nueva matriz a partir de una sección de una matriz existente. Puede crear una nueva matriz a partir de una sección de su matriz en cualquier momento especificando dónde desea dividir su matriz."
      ]
    },
    {
      "cell_type": "code",
      "metadata": {
        "id": "3Y3NzdIE8yr1",
        "outputId": "0ce880f2-5605-4754-88b1-9601952c2139",
        "colab": {
          "base_uri": "https://localhost:8080/",
          "height": 35
        }
      },
      "source": [
        "a = np.array([1,  2,  3,  4,  5,  6,  7,  8,  9, 10])\n",
        "arr1 = a[3:8]\n",
        "arr1"
      ],
      "execution_count": null,
      "outputs": [
        {
          "output_type": "execute_result",
          "data": {
            "text/plain": [
              "array([4, 5, 6, 7, 8])"
            ]
          },
          "metadata": {
            "tags": []
          },
          "execution_count": 35
        }
      ]
    },
    {
      "cell_type": "markdown",
      "metadata": {
        "id": "78nAauKA9sKP"
      },
      "source": [
        "Aquí, tomó una sección de su matriz desde la posición de índice 3 hasta la posición de índice 8.\n",
        "\n",
        "También puede apilar dos matrices existentes, tanto vertical como horizontalmente. Digamos que tiene dos matrices a1y a2:"
      ]
    },
    {
      "cell_type": "code",
      "metadata": {
        "id": "mRLWY1ZS9bAs"
      },
      "source": [
        "a1 = np.array([[1, 1],[2, 2]])\n",
        "a2 = np.array([[3, 3],[4, 4]])"
      ],
      "execution_count": null,
      "outputs": []
    },
    {
      "cell_type": "markdown",
      "metadata": {
        "id": "26ejyFUl91IN"
      },
      "source": [
        "#Podemos apilarlos verticalmente con `vstack`:"
      ]
    },
    {
      "cell_type": "code",
      "metadata": {
        "id": "5t_attnG95nM",
        "outputId": "38cd79c7-0223-40de-c51f-ea548ece4f8e",
        "colab": {
          "base_uri": "https://localhost:8080/",
          "height": 90
        }
      },
      "source": [
        "np.vstack((a1, a2))"
      ],
      "execution_count": null,
      "outputs": [
        {
          "output_type": "execute_result",
          "data": {
            "text/plain": [
              "array([[1, 1],\n",
              "       [2, 2],\n",
              "       [3, 3],\n",
              "       [4, 4]])"
            ]
          },
          "metadata": {
            "tags": []
          },
          "execution_count": 38
        }
      ]
    },
    {
      "cell_type": "markdown",
      "metadata": {
        "id": "IjEXCQC--AuU"
      },
      "source": [
        "#O apilarlos horizontalmente con `hstack`:"
      ]
    },
    {
      "cell_type": "code",
      "metadata": {
        "id": "6ILK1QYp-FyQ",
        "outputId": "3d30229a-5f56-48c2-dd35-b0a7825e3a8f",
        "colab": {
          "base_uri": "https://localhost:8080/",
          "height": 54
        }
      },
      "source": [
        "np.hstack((a1, a2))"
      ],
      "execution_count": null,
      "outputs": [
        {
          "output_type": "execute_result",
          "data": {
            "text/plain": [
              "array([[1, 1, 3, 3],\n",
              "       [2, 2, 4, 4]])"
            ]
          },
          "metadata": {
            "tags": []
          },
          "execution_count": 39
        }
      ]
    },
    {
      "cell_type": "markdown",
      "metadata": {
        "id": "daktAud8-Nkg"
      },
      "source": [
        "#Podemos dividir una matriz en varias matrices más pequeñas utilizando `hsplit`. Puede especificar el número de matrices de igual forma que se devolverán o las columnas después de las cuales debería producirse la división."
      ]
    },
    {
      "cell_type": "code",
      "metadata": {
        "id": "EuhVexAL-Tiy",
        "outputId": "90b16bfa-3bee-4a9b-c173-76925f864080",
        "colab": {
          "base_uri": "https://localhost:8080/",
          "height": 54
        }
      },
      "source": [
        "#Digamos que tenemos esta matriz.\n",
        "x = np.arange(1, 25).reshape(2, 12)\n",
        "x"
      ],
      "execution_count": null,
      "outputs": [
        {
          "output_type": "execute_result",
          "data": {
            "text/plain": [
              "array([[ 1,  2,  3,  4,  5,  6,  7,  8,  9, 10, 11, 12],\n",
              "       [13, 14, 15, 16, 17, 18, 19, 20, 21, 22, 23, 24]])"
            ]
          },
          "metadata": {
            "tags": []
          },
          "execution_count": 40
        }
      ]
    },
    {
      "cell_type": "markdown",
      "metadata": {
        "id": "LxKLFsbN-dI5"
      },
      "source": [
        "Si quisieramos dividir esta matriz en tres matrices de igual forma, ejecutaría:"
      ]
    },
    {
      "cell_type": "code",
      "metadata": {
        "id": "EPqAhyHC-iXI",
        "outputId": "dd70773a-891e-4c1a-fa28-c4702e34d238",
        "colab": {
          "base_uri": "https://localhost:8080/",
          "height": 90
        }
      },
      "source": [
        "np.hsplit(x, 3)"
      ],
      "execution_count": null,
      "outputs": [
        {
          "output_type": "execute_result",
          "data": {
            "text/plain": [
              "[array([[ 1,  2,  3,  4],\n",
              "        [13, 14, 15, 16]]), array([[ 5,  6,  7,  8],\n",
              "        [17, 18, 19, 20]]), array([[ 9, 10, 11, 12],\n",
              "        [21, 22, 23, 24]])]"
            ]
          },
          "metadata": {
            "tags": []
          },
          "execution_count": 41
        }
      ]
    },
    {
      "cell_type": "markdown",
      "metadata": {
        "id": "JbmU95H4-o1H"
      },
      "source": [
        "Si quisieramos dividir la matriz después de la tercera y cuarta columna, ejecutaríamos:"
      ]
    },
    {
      "cell_type": "code",
      "metadata": {
        "id": "s49EdDrm-wS4",
        "outputId": "0d0e2dc2-4a3e-469f-fc34-f53dbcd44dae",
        "colab": {
          "base_uri": "https://localhost:8080/",
          "height": 90
        }
      },
      "source": [
        "np.hsplit(x, (3, 4))"
      ],
      "execution_count": null,
      "outputs": [
        {
          "output_type": "execute_result",
          "data": {
            "text/plain": [
              "[array([[ 1,  2,  3],\n",
              "        [13, 14, 15]]), array([[ 4],\n",
              "        [16]]), array([[ 5,  6,  7,  8,  9, 10, 11, 12],\n",
              "        [17, 18, 19, 20, 21, 22, 23, 24]])]"
            ]
          },
          "metadata": {
            "tags": []
          },
          "execution_count": 42
        }
      ]
    },
    {
      "cell_type": "markdown",
      "metadata": {
        "id": "AfgyVA5u_P-K"
      },
      "source": [
        "#Podemos utilizar el método `view()`  para crear un nuevo objeto de matriz que observe los mismos datos que la matriz original (una copia superficial )."
      ]
    },
    {
      "cell_type": "markdown",
      "metadata": {
        "id": "zFmohZSy_kJT"
      },
      "source": [
        "#El uso del método `copy()` hará una copia completa de la matriz y sus datos (una copia profunda). Para usar esto podemos ejecutar:"
      ]
    },
    {
      "cell_type": "code",
      "metadata": {
        "id": "DGQ_UdRP_Xq6",
        "outputId": "bb4ea215-7315-4dc0-87ff-6088d2e8f215",
        "colab": {
          "base_uri": "https://localhost:8080/",
          "height": 72
        }
      },
      "source": [
        "a = np.array([[1, 2, 3, 4], [5, 6, 7, 8], [9, 10, 11, 12]])\n",
        "b = a.copy()\n",
        "b"
      ],
      "execution_count": null,
      "outputs": [
        {
          "output_type": "execute_result",
          "data": {
            "text/plain": [
              "array([[ 1,  2,  3,  4],\n",
              "       [ 5,  6,  7,  8],\n",
              "       [ 9, 10, 11, 12]])"
            ]
          },
          "metadata": {
            "tags": []
          },
          "execution_count": 43
        }
      ]
    },
    {
      "cell_type": "code",
      "metadata": {
        "id": "mGGU1NUcJLGF"
      },
      "source": [
        ""
      ],
      "execution_count": null,
      "outputs": []
    },
    {
      "cell_type": "markdown",
      "metadata": {
        "id": "L3BJB3Rb9SS0"
      },
      "source": [
        "#**Cómo modificar una matriz**"
      ]
    },
    {
      "cell_type": "code",
      "metadata": {
        "id": "cTPLnFC0gfku",
        "outputId": "fe1b3b7b-f703-4798-f4d2-019e12d5a7d9",
        "colab": {
          "base_uri": "https://localhost:8080/",
          "height": 68
        }
      },
      "source": [
        "#ahora queremos seleccionar los elementos del 12 al 24 y en ellos queremos sustituir los valores actuales por 1.\n",
        "x = np.arange(50) #creamos un array del 0 al 50.\n",
        "x[12:24] = 1 #sustituimos los valores de la posición 12 a la 24 por unos.\n",
        "x"
      ],
      "execution_count": null,
      "outputs": [
        {
          "output_type": "execute_result",
          "data": {
            "text/plain": [
              "array([ 0,  1,  2,  3,  4,  5,  6,  7,  8,  9, 10, 11,  1,  1,  1,  1,  1,\n",
              "        1,  1,  1,  1,  1,  1,  1, 24, 25, 26, 27, 28, 29, 30, 31, 32, 33,\n",
              "       34, 35, 36, 37, 38, 39, 40, 41, 42, 43, 44, 45, 46, 47, 48, 49])"
            ]
          },
          "metadata": {
            "tags": []
          },
          "execution_count": 78
        }
      ]
    },
    {
      "cell_type": "code",
      "metadata": {
        "id": "9dD1FRz0g97a",
        "outputId": "759845ff-72cd-4b34-f3dd-26774ceff127",
        "colab": {
          "base_uri": "https://localhost:8080/",
          "height": 85
        }
      },
      "source": [
        "#podemos modificar un rango por los valores que queramos.\n",
        "x = np.arange(50) #creamos un array del 0 al 50.\n",
        "x[12:15] = [100,200,300] #sustituimos los valores de la posición 12 a la 15 por 100,200 y 300.\n",
        "x"
      ],
      "execution_count": null,
      "outputs": [
        {
          "output_type": "execute_result",
          "data": {
            "text/plain": [
              "array([  0,   1,   2,   3,   4,   5,   6,   7,   8,   9,  10,  11, 100,\n",
              "       200, 300,  15,  16,  17,  18,  19,  20,  21,  22,  23,  24,  25,\n",
              "        26,  27,  28,  29,  30,  31,  32,  33,  34,  35,  36,  37,  38,\n",
              "        39,  40,  41,  42,  43,  44,  45,  46,  47,  48,  49])"
            ]
          },
          "metadata": {
            "tags": []
          },
          "execution_count": 81
        }
      ]
    },
    {
      "cell_type": "markdown",
      "metadata": {
        "id": "0lqUdavzBKc3"
      },
      "source": [
        "#**Operaciones básicas con matrices.**"
      ]
    },
    {
      "cell_type": "markdown",
      "metadata": {
        "id": "Kmsv6xgeBPAo"
      },
      "source": [
        "Digamos, por ejemplo, que hemos creado dos matrices, una llamada \"data\" y otra llamada \"ones\""
      ]
    },
    {
      "cell_type": "code",
      "metadata": {
        "id": "UXTAmakKB7Zv",
        "outputId": "d9347186-4a26-49ff-8dfe-c4c4920b4c5c",
        "colab": {
          "base_uri": "https://localhost:8080/",
          "height": 54
        }
      },
      "source": [
        "data = np.array([1,2])\n",
        "ones = np.ones(2, dtype = int)\n",
        "print(data)\n",
        "print(ones)"
      ],
      "execution_count": null,
      "outputs": [
        {
          "output_type": "stream",
          "text": [
            "[1 2]\n",
            "[1 1]\n"
          ],
          "name": "stdout"
        }
      ]
    },
    {
      "cell_type": "markdown",
      "metadata": {
        "id": "JV_HZiIZCHZE"
      },
      "source": [
        "Podemos unir las matrices con el signo **+**:"
      ]
    },
    {
      "cell_type": "code",
      "metadata": {
        "id": "KTelP-_uCMl8",
        "outputId": "2129e77c-81a7-47ea-d19e-df5893d4e164",
        "colab": {
          "base_uri": "https://localhost:8080/",
          "height": 35
        }
      },
      "source": [
        "data+ones #suma los valores de todas las columnas (1+1 y 2+1)."
      ],
      "execution_count": null,
      "outputs": [
        {
          "output_type": "execute_result",
          "data": {
            "text/plain": [
              "array([2, 3])"
            ]
          },
          "metadata": {
            "tags": []
          },
          "execution_count": 52
        }
      ]
    },
    {
      "cell_type": "markdown",
      "metadata": {
        "id": "q-m8Ld3ACtXk"
      },
      "source": [
        "¡Por supuesto, puede hacer las demás operaciones!"
      ]
    },
    {
      "cell_type": "code",
      "metadata": {
        "id": "1x7dqdeMC3Fn",
        "outputId": "b8c0b427-c29f-461c-f817-b7dd36eb9bdb",
        "colab": {
          "base_uri": "https://localhost:8080/",
          "height": 35
        }
      },
      "source": [
        "data - ones #restamos"
      ],
      "execution_count": null,
      "outputs": [
        {
          "output_type": "execute_result",
          "data": {
            "text/plain": [
              "array([0, 1])"
            ]
          },
          "metadata": {
            "tags": []
          },
          "execution_count": 54
        }
      ]
    },
    {
      "cell_type": "code",
      "metadata": {
        "id": "IO4uibIrC7K5",
        "outputId": "897dfc44-14a7-4f10-c4d0-17af247ed74d",
        "colab": {
          "base_uri": "https://localhost:8080/",
          "height": 35
        }
      },
      "source": [
        "data * data #multiplicamos"
      ],
      "execution_count": null,
      "outputs": [
        {
          "output_type": "execute_result",
          "data": {
            "text/plain": [
              "array([1, 4])"
            ]
          },
          "metadata": {
            "tags": []
          },
          "execution_count": 55
        }
      ]
    },
    {
      "cell_type": "code",
      "metadata": {
        "id": "lrA2ab8sCw6G",
        "outputId": "0bd1db59-d875-45e8-b348-0382e5c5c7e0",
        "colab": {
          "base_uri": "https://localhost:8080/",
          "height": 35
        }
      },
      "source": [
        "data / data #dividimos"
      ],
      "execution_count": null,
      "outputs": [
        {
          "output_type": "execute_result",
          "data": {
            "text/plain": [
              "array([1., 1.])"
            ]
          },
          "metadata": {
            "tags": []
          },
          "execution_count": 56
        }
      ]
    },
    {
      "cell_type": "markdown",
      "metadata": {
        "id": "88OmCmTRDKD_"
      },
      "source": [
        "#Las operaciones básicas son simples con NumPy. **COMPLETAR EN EL ENLACE**\n",
        "[enlace](https://numpy.org/doc/stable/user/quickstart.html#quickstart-basic-operations)\n"
      ]
    },
    {
      "cell_type": "markdown",
      "metadata": {
        "id": "uMkmdN3NEkOa"
      },
      "source": [
        "#Si deseamos encontrar la suma de los elementos en una matriz, usaríamos `sum()`. Esto funciona para matrices 1D, matrices 2D y matrices en dimensiones más altas."
      ]
    },
    {
      "cell_type": "code",
      "metadata": {
        "id": "bSg0Iis5DtOJ",
        "outputId": "cfae4e22-38c4-4a61-e211-a79d613821a4",
        "colab": {
          "base_uri": "https://localhost:8080/",
          "height": 35
        }
      },
      "source": [
        "a = np.array([1, 2, 3, 4])\n",
        "a.sum()"
      ],
      "execution_count": null,
      "outputs": [
        {
          "output_type": "execute_result",
          "data": {
            "text/plain": [
              "10"
            ]
          },
          "metadata": {
            "tags": []
          },
          "execution_count": 57
        }
      ]
    },
    {
      "cell_type": "markdown",
      "metadata": {
        "id": "yr6ni_OFD1Gd"
      },
      "source": [
        "Para agregar filas o columnas en una matriz 2D, debemos especificar el eje."
      ]
    },
    {
      "cell_type": "markdown",
      "metadata": {
        "id": "L3iurZY2EItt"
      },
      "source": [
        "Sumamos por las filas:"
      ]
    },
    {
      "cell_type": "code",
      "metadata": {
        "id": "OWs40KbCD0pb",
        "outputId": "e0d35c70-248f-4470-e7a9-db4229d1bd05",
        "colab": {
          "base_uri": "https://localhost:8080/",
          "height": 35
        }
      },
      "source": [
        "b = np.array([[1, 1], [2, 2]])\n",
        "b.sum(axis=0) #sumamos por las columnas, axis = 0."
      ],
      "execution_count": null,
      "outputs": [
        {
          "output_type": "execute_result",
          "data": {
            "text/plain": [
              "array([3, 3])"
            ]
          },
          "metadata": {
            "tags": []
          },
          "execution_count": 58
        }
      ]
    },
    {
      "cell_type": "markdown",
      "metadata": {
        "id": "ZoROEi9yEK1j"
      },
      "source": [
        "Sumamos por las columnas:"
      ]
    },
    {
      "cell_type": "code",
      "metadata": {
        "id": "UsYVx4VzD_wK",
        "outputId": "8e2d275d-e4f3-445c-a179-0a8095b90ac7",
        "colab": {
          "base_uri": "https://localhost:8080/",
          "height": 35
        }
      },
      "source": [
        "b = np.array([[1, 1], [2, 2]])\n",
        "b.sum(axis=1)"
      ],
      "execution_count": null,
      "outputs": [
        {
          "output_type": "execute_result",
          "data": {
            "text/plain": [
              "array([2, 4])"
            ]
          },
          "metadata": {
            "tags": []
          },
          "execution_count": 61
        }
      ]
    },
    {
      "cell_type": "markdown",
      "metadata": {
        "id": "uLsLaesEEQod"
      },
      "source": [
        "#**Difusión**\n",
        "\n",
        "[Enlace](https://numpy.org/doc/stable/user/basics.broadcasting.html#basics-broadcasting)"
      ]
    },
    {
      "cell_type": "markdown",
      "metadata": {
        "id": "tZkCnidQES3D"
      },
      "source": [
        "Hay ocasiones en las que es posible que desee realizar una operación entre una matriz y un solo número (también llamada operación entre un vector y un escalar ) o entre matrices de dos tamaños diferentes. Por ejemplo, su matriz (la llamaremos \"datos\") puede contener información sobre la distancia en millas, pero desea convertir la información a kilómetros. Puede realizar esta operación con:"
      ]
    },
    {
      "cell_type": "code",
      "metadata": {
        "id": "wlNZ5FxHFL7E",
        "outputId": "404405ff-a0e6-4784-d960-9a335e038410",
        "colab": {
          "base_uri": "https://localhost:8080/",
          "height": 35
        }
      },
      "source": [
        "data = np.array([1.0, 2.0])\n",
        "data * 1.6"
      ],
      "execution_count": null,
      "outputs": [
        {
          "output_type": "execute_result",
          "data": {
            "text/plain": [
              "array([1.6, 3.2])"
            ]
          },
          "metadata": {
            "tags": []
          },
          "execution_count": 62
        }
      ]
    },
    {
      "cell_type": "markdown",
      "metadata": {
        "id": "vvrgsMdlFV67"
      },
      "source": [
        "NumPy entiende que la multiplicación debe ocurrir con cada celda. Ese concepto se llama radiodifusión . La difusión es un mecanismo que permite a NumPy realizar operaciones en matrices de diferentes formas. Las dimensiones de su matriz deben ser compatibles, por ejemplo, cuando las dimensiones de ambas matrices son iguales o cuando una de ellas es 1. Si las dimensiones no son compatibles, obtendrá un ValueError."
      ]
    },
    {
      "cell_type": "markdown",
      "metadata": {
        "id": "nKYHY_YUFlZh"
      },
      "source": [
        "#**Operaciones útiles con matrices.** COMPLETAR en el enlace.\n",
        "\n",
        "[Enlace](https://numpy.org/doc/stable/reference/arrays.ndarray.html#array-ndarray-methods)\n",
        "\n"
      ]
    },
    {
      "cell_type": "markdown",
      "metadata": {
        "id": "m3519oWEi98i"
      },
      "source": [
        "NumPy también realiza funciones de agregación. Además de `min`, `max` y `sum`, puede ejecutar fácilmente `mean` para obtener el promedio, `prod` para obtener el resultado de multiplicar los elementos, `std` para obtener la desviación estándar y más."
      ]
    },
    {
      "cell_type": "code",
      "metadata": {
        "id": "zS1XadgXFVhR",
        "outputId": "60b4b349-70f4-44b3-fdf4-bb88e578be48",
        "colab": {
          "base_uri": "https://localhost:8080/",
          "height": 68
        }
      },
      "source": [
        "a = np.array([[0.45053314, 0.17296777, 0.34376245, 0.5510652],\n",
        "...           [0.54627315, 0.05093587, 0.40067661, 0.55645993],\n",
        "...           [0.12697628, 0.82485143, 0.26590556, 0.56917101]])\n",
        "a"
      ],
      "execution_count": null,
      "outputs": [
        {
          "output_type": "execute_result",
          "data": {
            "text/plain": [
              "array([[0.45053314, 0.17296777, 0.34376245, 0.5510652 ],\n",
              "       [0.54627315, 0.05093587, 0.40067661, 0.55645993],\n",
              "       [0.12697628, 0.82485143, 0.26590556, 0.56917101]])"
            ]
          },
          "metadata": {
            "tags": []
          },
          "execution_count": 4
        }
      ]
    },
    {
      "cell_type": "markdown",
      "metadata": {
        "id": "RmMuvkbNjss8"
      },
      "source": [
        "#Sumamos todos los elementos con `sum()`:"
      ]
    },
    {
      "cell_type": "code",
      "metadata": {
        "id": "d43eVe0HjqdP",
        "outputId": "2b82725c-0878-4007-b012-45434cb1e297",
        "colab": {
          "base_uri": "https://localhost:8080/",
          "height": 34
        }
      },
      "source": [
        "a.sum()"
      ],
      "execution_count": null,
      "outputs": [
        {
          "output_type": "execute_result",
          "data": {
            "text/plain": [
              "4.8595784"
            ]
          },
          "metadata": {
            "tags": []
          },
          "execution_count": 5
        }
      ]
    },
    {
      "cell_type": "markdown",
      "metadata": {
        "id": "RP0NAULEjxu7"
      },
      "source": [
        "#Encontramos el menor de los elementos con `min()`:"
      ]
    },
    {
      "cell_type": "code",
      "metadata": {
        "id": "l5xjvZgFj0ah",
        "outputId": "c2054340-dd37-4a1b-ff96-c32acc81d3c1",
        "colab": {
          "base_uri": "https://localhost:8080/",
          "height": 34
        }
      },
      "source": [
        "a.min()"
      ],
      "execution_count": null,
      "outputs": [
        {
          "output_type": "execute_result",
          "data": {
            "text/plain": [
              "0.05093587"
            ]
          },
          "metadata": {
            "tags": []
          },
          "execution_count": 6
        }
      ]
    },
    {
      "cell_type": "markdown",
      "metadata": {
        "id": "GdhkSeWuj8Oq"
      },
      "source": [
        "Puede especificar en qué eje deseamos que se calcule la función de agregación. Por ejemplo, podemos encontrar el valor mínimo dentro de cada columna especificando axis=0."
      ]
    },
    {
      "cell_type": "code",
      "metadata": {
        "id": "-i5WyIj-kE2_",
        "outputId": "5e31138b-5421-45f2-816a-a54f9a3345fd",
        "colab": {
          "base_uri": "https://localhost:8080/",
          "height": 34
        }
      },
      "source": [
        "a.min(axis=0)"
      ],
      "execution_count": null,
      "outputs": [
        {
          "output_type": "execute_result",
          "data": {
            "text/plain": [
              "array([0.12697628, 0.05093587, 0.26590556, 0.5510652 ])"
            ]
          },
          "metadata": {
            "tags": []
          },
          "execution_count": 7
        }
      ]
    },
    {
      "cell_type": "markdown",
      "metadata": {
        "id": "7Az33MAzlZHx"
      },
      "source": [
        "#La función `max()` devuelve el valor máximo a lo largo de un eje dado:"
      ]
    },
    {
      "cell_type": "code",
      "metadata": {
        "id": "-ENxDyhFlh6M",
        "outputId": "c962c74c-acc6-4d94-aff8-906733f1b835",
        "colab": {
          "base_uri": "https://localhost:8080/",
          "height": 34
        }
      },
      "source": [
        "a.max(axis = 1) #obtenemos lo mayores valores de cada fila."
      ],
      "execution_count": null,
      "outputs": [
        {
          "output_type": "execute_result",
          "data": {
            "text/plain": [
              "array([0.5510652 , 0.55645993, 0.82485143])"
            ]
          },
          "metadata": {
            "tags": []
          },
          "execution_count": 8
        }
      ]
    },
    {
      "cell_type": "markdown",
      "metadata": {
        "id": "LSBFd-mDmDpT"
      },
      "source": [
        "#La función `argmax()` devuelve los índices de los valores máximos a lo largo del eje dado."
      ]
    },
    {
      "cell_type": "code",
      "metadata": {
        "id": "8Cic2favmG2e",
        "outputId": "1fa00910-40d4-404d-9f15-6377bd8cbffa",
        "colab": {
          "base_uri": "https://localhost:8080/",
          "height": 34
        }
      },
      "source": [
        "a.argmax() #devuelve el índice del valor máximo del array."
      ],
      "execution_count": null,
      "outputs": [
        {
          "output_type": "execute_result",
          "data": {
            "text/plain": [
              "9"
            ]
          },
          "metadata": {
            "tags": []
          },
          "execution_count": 9
        }
      ]
    },
    {
      "cell_type": "code",
      "metadata": {
        "id": "Xq-49tMgmbev",
        "outputId": "a3e62efb-c15b-4a60-9ed4-78939f1b7e71",
        "colab": {
          "base_uri": "https://localhost:8080/",
          "height": 34
        }
      },
      "source": [
        "a.argmax(axis = 0) #devuelve el índice del valor máximo del array por columnas."
      ],
      "execution_count": null,
      "outputs": [
        {
          "output_type": "execute_result",
          "data": {
            "text/plain": [
              "array([1, 2, 1, 2])"
            ]
          },
          "metadata": {
            "tags": []
          },
          "execution_count": 10
        }
      ]
    },
    {
      "cell_type": "code",
      "metadata": {
        "id": "We0EhPXLmzAN",
        "outputId": "cea6cdf5-76e2-4bf6-b0ab-af0fc171856f",
        "colab": {
          "base_uri": "https://localhost:8080/",
          "height": 68
        }
      },
      "source": [
        "a = np.arange(6).reshape(2,3) + 10\n",
        "print(a)\n",
        "np.argmax(a, axis=0) #arroja el índice del valor más grande por columna."
      ],
      "execution_count": null,
      "outputs": [
        {
          "output_type": "stream",
          "text": [
            "[[10 11 12]\n",
            " [13 14 15]]\n"
          ],
          "name": "stdout"
        },
        {
          "output_type": "execute_result",
          "data": {
            "text/plain": [
              "array([1, 1, 1])"
            ]
          },
          "metadata": {
            "tags": []
          },
          "execution_count": 13
        }
      ]
    },
    {
      "cell_type": "markdown",
      "metadata": {
        "id": "gw0jC7Q-mqMW"
      },
      "source": [
        "#La función `argmin()` devuelve índices de los valores mínimos a lo largo del eje dado."
      ]
    },
    {
      "cell_type": "code",
      "metadata": {
        "id": "iuQQy41InRWV",
        "outputId": "b817fe9e-82f5-4bc7-b1fe-54f3d8082301",
        "colab": {
          "base_uri": "https://localhost:8080/",
          "height": 68
        }
      },
      "source": [
        "a = np.arange(6).reshape(2,3) + 10\n",
        "print(a)\n",
        "np.argmin(a, axis=0) #arroja el índice del valor más \"pequeño\" por columna."
      ],
      "execution_count": null,
      "outputs": [
        {
          "output_type": "stream",
          "text": [
            "[[10 11 12]\n",
            " [13 14 15]]\n"
          ],
          "name": "stdout"
        },
        {
          "output_type": "execute_result",
          "data": {
            "text/plain": [
              "array([0, 0, 0])"
            ]
          },
          "metadata": {
            "tags": []
          },
          "execution_count": 14
        }
      ]
    },
    {
      "cell_type": "markdown",
      "metadata": {
        "id": "_gNOyws1pMUN"
      },
      "source": [
        "#`around()` redondea uniformemente al número dado de decimales."
      ]
    },
    {
      "cell_type": "code",
      "metadata": {
        "id": "OfeT6hwMnNTL",
        "outputId": "d7c4cd80-8f3a-49ca-a535-1cd765428b02",
        "colab": {
          "base_uri": "https://localhost:8080/",
          "height": 34
        }
      },
      "source": [
        "np.around([0.37, 1.64])"
      ],
      "execution_count": null,
      "outputs": [
        {
          "output_type": "execute_result",
          "data": {
            "text/plain": [
              "array([0., 2.])"
            ]
          },
          "metadata": {
            "tags": []
          },
          "execution_count": 15
        }
      ]
    },
    {
      "cell_type": "code",
      "metadata": {
        "id": "2JCdOSc_q0lh",
        "outputId": "9c5dfa8e-e590-4fdf-a906-52e54b65648b",
        "colab": {
          "base_uri": "https://localhost:8080/",
          "height": 34
        }
      },
      "source": [
        "np.around([0.37, 1.64], decimals=1)"
      ],
      "execution_count": null,
      "outputs": [
        {
          "output_type": "execute_result",
          "data": {
            "text/plain": [
              "array([0.4, 1.6])"
            ]
          },
          "metadata": {
            "tags": []
          },
          "execution_count": 16
        }
      ]
    },
    {
      "cell_type": "code",
      "metadata": {
        "id": "7B7RsgVjq66J",
        "outputId": "bdb31b6a-cda5-47a4-9689-496e84336439",
        "colab": {
          "base_uri": "https://localhost:8080/",
          "height": 34
        }
      },
      "source": [
        "np.around([1,2,3,11], decimals=-1)"
      ],
      "execution_count": null,
      "outputs": [
        {
          "output_type": "execute_result",
          "data": {
            "text/plain": [
              "array([ 0,  0,  0, 10])"
            ]
          },
          "metadata": {
            "tags": []
          },
          "execution_count": 17
        }
      ]
    },
    {
      "cell_type": "markdown",
      "metadata": {
        "id": "rUh2l_h6rBDr"
      },
      "source": [
        "#La función `trace()` devuelve la suma a lo largo de las diagonales de la matriz."
      ]
    },
    {
      "cell_type": "code",
      "metadata": {
        "id": "oEhlMld_rnB0",
        "outputId": "3606f74a-66cd-4ab6-891e-f0abbc24c6f3",
        "colab": {
          "base_uri": "https://localhost:8080/",
          "height": 68
        }
      },
      "source": [
        "np.eye(3)"
      ],
      "execution_count": null,
      "outputs": [
        {
          "output_type": "execute_result",
          "data": {
            "text/plain": [
              "array([[1., 0., 0.],\n",
              "       [0., 1., 0.],\n",
              "       [0., 0., 1.]])"
            ]
          },
          "metadata": {
            "tags": []
          },
          "execution_count": 20
        }
      ]
    },
    {
      "cell_type": "code",
      "metadata": {
        "id": "oRbPtDXMrdWo",
        "outputId": "3337a4de-1b3f-41de-80ab-31ad7cb1cf25",
        "colab": {
          "base_uri": "https://localhost:8080/",
          "height": 34
        }
      },
      "source": [
        "np.trace(np.eye(3)) #suma las diagonales de la matriz."
      ],
      "execution_count": null,
      "outputs": [
        {
          "output_type": "execute_result",
          "data": {
            "text/plain": [
              "3.0"
            ]
          },
          "metadata": {
            "tags": []
          },
          "execution_count": 18
        }
      ]
    },
    {
      "cell_type": "code",
      "metadata": {
        "id": "zN2KWYNFry-3",
        "outputId": "192ac482-7a76-4c4b-bd4d-7db0b193fd3a",
        "colab": {
          "base_uri": "https://localhost:8080/",
          "height": 119
        }
      },
      "source": [
        "#otro ejemplo.\n",
        "a = np.arange(8).reshape((2,2,2))\n",
        "print(a)\n",
        "np.trace(a)"
      ],
      "execution_count": null,
      "outputs": [
        {
          "output_type": "stream",
          "text": [
            "[[[0 1]\n",
            "  [2 3]]\n",
            "\n",
            " [[4 5]\n",
            "  [6 7]]]\n"
          ],
          "name": "stdout"
        },
        {
          "output_type": "execute_result",
          "data": {
            "text/plain": [
              "array([6, 8])"
            ]
          },
          "metadata": {
            "tags": []
          },
          "execution_count": 21
        }
      ]
    },
    {
      "cell_type": "code",
      "metadata": {
        "id": "7NL0oolTsFR9",
        "outputId": "9543d00e-6145-4a8d-cf46-4abd7bea9ddf",
        "colab": {
          "base_uri": "https://localhost:8080/",
          "height": 238
        }
      },
      "source": [
        "a = np.arange(24).reshape((2,2,2,3))\n",
        "print(a)\n",
        "np.trace(a).shape"
      ],
      "execution_count": null,
      "outputs": [
        {
          "output_type": "stream",
          "text": [
            "[[[[ 0  1  2]\n",
            "   [ 3  4  5]]\n",
            "\n",
            "  [[ 6  7  8]\n",
            "   [ 9 10 11]]]\n",
            "\n",
            "\n",
            " [[[12 13 14]\n",
            "   [15 16 17]]\n",
            "\n",
            "  [[18 19 20]\n",
            "   [21 22 23]]]]\n"
          ],
          "name": "stdout"
        },
        {
          "output_type": "execute_result",
          "data": {
            "text/plain": [
              "(2, 3)"
            ]
          },
          "metadata": {
            "tags": []
          },
          "execution_count": 22
        }
      ]
    },
    {
      "cell_type": "markdown",
      "metadata": {
        "id": "vPpVq_pIsm76"
      },
      "source": [
        "#Por otro lado `cumsum()` devuelve la suma acumulativa de los elementos a lo largo de un eje dado."
      ]
    },
    {
      "cell_type": "code",
      "metadata": {
        "id": "gqEePTopssfj",
        "outputId": "28be6309-ac54-41ce-b4d9-ac7a593421e4",
        "colab": {
          "base_uri": "https://localhost:8080/",
          "height": 68
        }
      },
      "source": [
        "a = np.array([[1,2,3], [4,5,6]])\n",
        "print(a)\n",
        "np.cumsum(a) #calcula la suma acumulada."
      ],
      "execution_count": null,
      "outputs": [
        {
          "output_type": "stream",
          "text": [
            "[[1 2 3]\n",
            " [4 5 6]]\n"
          ],
          "name": "stdout"
        },
        {
          "output_type": "execute_result",
          "data": {
            "text/plain": [
              "array([ 1,  3,  6, 10, 15, 21])"
            ]
          },
          "metadata": {
            "tags": []
          },
          "execution_count": 23
        }
      ]
    },
    {
      "cell_type": "code",
      "metadata": {
        "id": "CvY3ejzitBWM",
        "outputId": "85e9a05a-5161-4df8-fc03-df4bcb6065f8",
        "colab": {
          "base_uri": "https://localhost:8080/",
          "height": 85
        }
      },
      "source": [
        "a = np.array([[1,2,3], [4,5,6]])\n",
        "print(a)\n",
        "np.cumsum(a,axis=0) "
      ],
      "execution_count": null,
      "outputs": [
        {
          "output_type": "stream",
          "text": [
            "[[1 2 3]\n",
            " [4 5 6]]\n"
          ],
          "name": "stdout"
        },
        {
          "output_type": "execute_result",
          "data": {
            "text/plain": [
              "array([[1, 2, 3],\n",
              "       [5, 7, 9]])"
            ]
          },
          "metadata": {
            "tags": []
          },
          "execution_count": 25
        }
      ]
    },
    {
      "cell_type": "code",
      "metadata": {
        "id": "1eClCwg_tL8Z",
        "outputId": "6850600b-089e-4105-cc03-8027b8b9116e",
        "colab": {
          "base_uri": "https://localhost:8080/",
          "height": 85
        }
      },
      "source": [
        "a = np.array([[1,2,3], [4,5,6]])\n",
        "print(a)\n",
        "np.cumsum(a,axis=1)"
      ],
      "execution_count": null,
      "outputs": [
        {
          "output_type": "stream",
          "text": [
            "[[1 2 3]\n",
            " [4 5 6]]\n"
          ],
          "name": "stdout"
        },
        {
          "output_type": "execute_result",
          "data": {
            "text/plain": [
              "array([[ 1,  3,  6],\n",
              "       [ 4,  9, 15]])"
            ]
          },
          "metadata": {
            "tags": []
          },
          "execution_count": 26
        }
      ]
    },
    {
      "cell_type": "markdown",
      "metadata": {
        "id": "dQ6sPPvQtYHr"
      },
      "source": [
        "#La función `mean()` devuelve el promedio de los elementos de la matriz a lo largo del eje dado. Calcular la media en float64 es más preciso."
      ]
    },
    {
      "cell_type": "code",
      "metadata": {
        "id": "6YTyBWoGtdRF",
        "outputId": "20c7ba9f-43cd-4edc-ee96-e23cf242f989",
        "colab": {
          "base_uri": "https://localhost:8080/",
          "height": 34
        }
      },
      "source": [
        "a = np.array([[1, 2], [3, 4]])\n",
        "np.mean(a) #devuelve la media del array."
      ],
      "execution_count": null,
      "outputs": [
        {
          "output_type": "execute_result",
          "data": {
            "text/plain": [
              "2.5"
            ]
          },
          "metadata": {
            "tags": []
          },
          "execution_count": 27
        }
      ]
    },
    {
      "cell_type": "code",
      "metadata": {
        "id": "-M2AaAQVtx0m",
        "outputId": "d6143514-fc9b-421e-b10c-f0c31b363b99",
        "colab": {
          "base_uri": "https://localhost:8080/",
          "height": 68
        }
      },
      "source": [
        "a = np.array([[1, 2], [3, 4]])\n",
        "print(a)\n",
        "np.mean(a, axis=0) #devuelve la media de la columna."
      ],
      "execution_count": null,
      "outputs": [
        {
          "output_type": "stream",
          "text": [
            "[[1 2]\n",
            " [3 4]]\n"
          ],
          "name": "stdout"
        },
        {
          "output_type": "execute_result",
          "data": {
            "text/plain": [
              "array([2., 3.])"
            ]
          },
          "metadata": {
            "tags": []
          },
          "execution_count": 28
        }
      ]
    },
    {
      "cell_type": "markdown",
      "metadata": {
        "id": "BlbrmIyQuI6j"
      },
      "source": [
        "#Por otro lado `var()` devuelve la varianza de los elementos de la matriz, a lo largo del eje dado."
      ]
    },
    {
      "cell_type": "code",
      "metadata": {
        "id": "j7zLIEsMuSpp",
        "outputId": "47ac05e2-975a-4263-96c4-47b018d7ef5b",
        "colab": {
          "base_uri": "https://localhost:8080/",
          "height": 34
        }
      },
      "source": [
        "a = np.array([[1, 2], [3, 4]])\n",
        "np.var(a) #devuelve la varianza teniendo en cuenta todos los datos."
      ],
      "execution_count": null,
      "outputs": [
        {
          "output_type": "execute_result",
          "data": {
            "text/plain": [
              "1.25"
            ]
          },
          "metadata": {
            "tags": []
          },
          "execution_count": 29
        }
      ]
    },
    {
      "cell_type": "code",
      "metadata": {
        "id": "Qt-4fzjvupOr",
        "outputId": "bccf126e-0333-4919-ccd2-8e3cd9d50b8b",
        "colab": {
          "base_uri": "https://localhost:8080/",
          "height": 68
        }
      },
      "source": [
        "a = np.array([[1, 2, 6], [3, 4, 7]])\n",
        "print(a)\n",
        "np.var(a, axis=0) #devuelve la varianza de los valores por columna."
      ],
      "execution_count": null,
      "outputs": [
        {
          "output_type": "stream",
          "text": [
            "[[1 2 6]\n",
            " [3 4 7]]\n"
          ],
          "name": "stdout"
        },
        {
          "output_type": "execute_result",
          "data": {
            "text/plain": [
              "array([1.  , 1.  , 0.25])"
            ]
          },
          "metadata": {
            "tags": []
          },
          "execution_count": 32
        }
      ]
    },
    {
      "cell_type": "markdown",
      "metadata": {
        "id": "1aqy0SxYvHeB"
      },
      "source": [
        "#La función `std()` devuelve la desviación estándar de los elementos de la matriz a lo largo del eje dado."
      ]
    },
    {
      "cell_type": "code",
      "metadata": {
        "id": "_Kh_cu-nvTrF",
        "outputId": "0eab1a79-2c30-432f-e50c-6266a69ba90e",
        "colab": {
          "base_uri": "https://localhost:8080/",
          "height": 34
        }
      },
      "source": [
        "a = np.array([[1, 2], [3, 4]])\n",
        "np.std(a) #devuelve la desviación standart de los 4 valores."
      ],
      "execution_count": null,
      "outputs": [
        {
          "output_type": "execute_result",
          "data": {
            "text/plain": [
              "1.118033988749895"
            ]
          },
          "metadata": {
            "tags": []
          },
          "execution_count": 33
        }
      ]
    },
    {
      "cell_type": "code",
      "metadata": {
        "id": "HE-s5Iaevgl0",
        "outputId": "48e30dcb-03a3-4845-9d43-43d5005d2c7e",
        "colab": {
          "base_uri": "https://localhost:8080/",
          "height": 68
        }
      },
      "source": [
        "a = np.array([[1, 2], [3, 4]])\n",
        "print(a)\n",
        "np.std(a, axis=0) #devuelve la desviación estandar de los valores por columna."
      ],
      "execution_count": null,
      "outputs": [
        {
          "output_type": "stream",
          "text": [
            "[[1 2]\n",
            " [3 4]]\n"
          ],
          "name": "stdout"
        },
        {
          "output_type": "execute_result",
          "data": {
            "text/plain": [
              "array([1., 1.])"
            ]
          },
          "metadata": {
            "tags": []
          },
          "execution_count": 35
        }
      ]
    },
    {
      "cell_type": "markdown",
      "metadata": {
        "id": "UCcdCLv2v09Q"
      },
      "source": [
        "#En este caso `prod()` devuelve el producto de los elementos de la matriz sobre el eje dado"
      ]
    },
    {
      "cell_type": "code",
      "metadata": {
        "id": "FQEV8IcdwC-k",
        "outputId": "d3b725a7-06a9-4f3e-aaba-036430369ccb",
        "colab": {
          "base_uri": "https://localhost:8080/",
          "height": 34
        }
      },
      "source": [
        "np.prod([[1.,2.],[3.,4.]])"
      ],
      "execution_count": null,
      "outputs": [
        {
          "output_type": "execute_result",
          "data": {
            "text/plain": [
              "24.0"
            ]
          },
          "metadata": {
            "tags": []
          },
          "execution_count": 36
        }
      ]
    },
    {
      "cell_type": "code",
      "metadata": {
        "id": "JYJLvIx-wR_A",
        "outputId": "c25396ec-36fd-47e9-a701-33b4b82b1cf3",
        "colab": {
          "base_uri": "https://localhost:8080/",
          "height": 34
        }
      },
      "source": [
        "np.prod([[1.,2.],[3.,4.]], axis=1) #podemos especificar que eje vamos a multiplicar."
      ],
      "execution_count": null,
      "outputs": [
        {
          "output_type": "execute_result",
          "data": {
            "text/plain": [
              "array([ 2., 12.])"
            ]
          },
          "metadata": {
            "tags": []
          },
          "execution_count": 37
        }
      ]
    },
    {
      "cell_type": "code",
      "metadata": {
        "id": "uwDCESwewdjw",
        "outputId": "e9189eab-b3b0-4f0c-f6e5-04fed5709269",
        "colab": {
          "base_uri": "https://localhost:8080/",
          "height": 34
        }
      },
      "source": [
        "np.prod([1., np.nan, 3.], where=[True, False, True]) #podemos seleccionar que elementos multiplicar."
      ],
      "execution_count": null,
      "outputs": [
        {
          "output_type": "execute_result",
          "data": {
            "text/plain": [
              "3.0"
            ]
          },
          "metadata": {
            "tags": []
          },
          "execution_count": 38
        }
      ]
    },
    {
      "cell_type": "markdown",
      "metadata": {
        "id": "BAbiizZ_wnsa"
      },
      "source": [
        "Si el tipo de x no tiene signo, entonces el tipo de salida es el entero de plataforma sin signo:"
      ]
    },
    {
      "cell_type": "code",
      "metadata": {
        "id": "4fHjh1K5wptg",
        "outputId": "6f927f3e-3320-436c-c16f-0e66b66f2ee8",
        "colab": {
          "base_uri": "https://localhost:8080/",
          "height": 34
        }
      },
      "source": [
        "x = np.array([1, 2, 3], dtype=np.uint8)\n",
        "np.prod(x).dtype == np.uint"
      ],
      "execution_count": null,
      "outputs": [
        {
          "output_type": "execute_result",
          "data": {
            "text/plain": [
              "True"
            ]
          },
          "metadata": {
            "tags": []
          },
          "execution_count": 39
        }
      ]
    },
    {
      "cell_type": "markdown",
      "metadata": {
        "id": "zgJ43pNKwy3n"
      },
      "source": [
        "Si x es de un tipo de entero con signo, entonces el tipo de salida es el entero de plataforma predeterminado:"
      ]
    },
    {
      "cell_type": "code",
      "metadata": {
        "id": "E3G9v6mUwyVA",
        "outputId": "38df5f07-94bd-453a-f81f-9206d65e2324",
        "colab": {
          "base_uri": "https://localhost:8080/",
          "height": 34
        }
      },
      "source": [
        "x = np.array([1, 2, 3], dtype=np.int8)\n",
        "np.prod(x).dtype == int"
      ],
      "execution_count": null,
      "outputs": [
        {
          "output_type": "execute_result",
          "data": {
            "text/plain": [
              "True"
            ]
          },
          "metadata": {
            "tags": []
          },
          "execution_count": 40
        }
      ]
    },
    {
      "cell_type": "markdown",
      "metadata": {
        "id": "7489rrurw5C5"
      },
      "source": [
        "También podemos iniciar el producto con un valor diferente a uno:"
      ]
    },
    {
      "cell_type": "code",
      "metadata": {
        "id": "6mI01IK3w7Xz",
        "outputId": "a0c35a8b-0caf-45bb-a23a-0185394cc453",
        "colab": {
          "base_uri": "https://localhost:8080/",
          "height": 34
        }
      },
      "source": [
        "np.prod([1, 2], initial=5)"
      ],
      "execution_count": null,
      "outputs": [
        {
          "output_type": "execute_result",
          "data": {
            "text/plain": [
              "10"
            ]
          },
          "metadata": {
            "tags": []
          },
          "execution_count": 41
        }
      ]
    },
    {
      "cell_type": "markdown",
      "metadata": {
        "id": "viNpBNZNxElR"
      },
      "source": [
        "#La función `cumprod()` devuelve el producto acumulativo de los elementos a lo largo del eje dado."
      ]
    },
    {
      "cell_type": "code",
      "metadata": {
        "id": "k0Zd0Su2yI-q",
        "outputId": "85a2f99e-3212-4259-9a0b-e2ad2efb502f",
        "colab": {
          "base_uri": "https://localhost:8080/",
          "height": 34
        }
      },
      "source": [
        "a = np.array([1,2,3])\n",
        "np.cumprod(a)"
      ],
      "execution_count": null,
      "outputs": [
        {
          "output_type": "execute_result",
          "data": {
            "text/plain": [
              "array([1, 2, 6])"
            ]
          },
          "metadata": {
            "tags": []
          },
          "execution_count": 44
        }
      ]
    },
    {
      "cell_type": "code",
      "metadata": {
        "id": "Q58UDXeIyKfG",
        "outputId": "f76e2427-91b7-4e93-8ed4-ff6870d9fe33",
        "colab": {
          "base_uri": "https://localhost:8080/",
          "height": 119
        }
      },
      "source": [
        "a = np.array([[1, 2, 3], [4, 5, 6], [1,2,3]])\n",
        "print(a)\n",
        "np.cumprod(a,axis=0)"
      ],
      "execution_count": null,
      "outputs": [
        {
          "output_type": "stream",
          "text": [
            "[[1 2 3]\n",
            " [4 5 6]\n",
            " [1 2 3]]\n"
          ],
          "name": "stdout"
        },
        {
          "output_type": "execute_result",
          "data": {
            "text/plain": [
              "array([[ 1,  2,  3],\n",
              "       [ 4, 10, 18],\n",
              "       [ 4, 20, 54]])"
            ]
          },
          "metadata": {
            "tags": []
          },
          "execution_count": 46
        }
      ]
    },
    {
      "cell_type": "markdown",
      "metadata": {
        "id": "qSchkbLwxRBs"
      },
      "source": [
        "#Pruebe si todos los elementos de la matriz a lo largo de un eje dado se evalúan como True con `all()`."
      ]
    },
    {
      "cell_type": "code",
      "metadata": {
        "id": "cED6EKJtxi_w",
        "outputId": "13c59572-8fba-4056-cd92-a23bafe48a53",
        "colab": {
          "base_uri": "https://localhost:8080/",
          "height": 34
        }
      },
      "source": [
        "np.all([[True,False],[True,True]]) #no todos son True."
      ],
      "execution_count": null,
      "outputs": [
        {
          "output_type": "execute_result",
          "data": {
            "text/plain": [
              "False"
            ]
          },
          "metadata": {
            "tags": []
          },
          "execution_count": 42
        }
      ]
    },
    {
      "cell_type": "code",
      "metadata": {
        "id": "YlGKUTrIxqAr",
        "outputId": "b2edcbc3-65b4-4707-a2e7-471218b0ee17",
        "colab": {
          "base_uri": "https://localhost:8080/",
          "height": 34
        }
      },
      "source": [
        "np.all([[True,False],[True,True]], axis=0) #en la primer columna todos son True,  en la segunda no."
      ],
      "execution_count": null,
      "outputs": [
        {
          "output_type": "execute_result",
          "data": {
            "text/plain": [
              "array([ True, False])"
            ]
          },
          "metadata": {
            "tags": []
          },
          "execution_count": 43
        }
      ]
    },
    {
      "cell_type": "markdown",
      "metadata": {
        "id": "YkrfUR--yrTC"
      },
      "source": [
        "#Con `any()` devuelve True si alguno de los elementos de una evaluación es True."
      ]
    },
    {
      "cell_type": "code",
      "metadata": {
        "id": "sT8pNODLy1XR",
        "outputId": "a85ebf36-f121-42ea-a986-aeffab78183a",
        "colab": {
          "base_uri": "https://localhost:8080/",
          "height": 34
        }
      },
      "source": [
        "np.any([[True, False], [True, True]])"
      ],
      "execution_count": null,
      "outputs": [
        {
          "output_type": "execute_result",
          "data": {
            "text/plain": [
              "True"
            ]
          },
          "metadata": {
            "tags": []
          },
          "execution_count": 47
        }
      ]
    },
    {
      "cell_type": "code",
      "metadata": {
        "id": "SfpBHoMFy8Ar",
        "outputId": "76e24b92-fa74-4b68-d3c0-b4621d52043d",
        "colab": {
          "base_uri": "https://localhost:8080/",
          "height": 34
        }
      },
      "source": [
        "np.any([[True, False], [False, False]], axis=0)"
      ],
      "execution_count": null,
      "outputs": [
        {
          "output_type": "execute_result",
          "data": {
            "text/plain": [
              "array([ True, False])"
            ]
          },
          "metadata": {
            "tags": []
          },
          "execution_count": 48
        }
      ]
    },
    {
      "cell_type": "code",
      "metadata": {
        "id": "rMf_h-8_zPDK",
        "outputId": "4d174836-704d-4ca8-f19d-ac22fca46a14",
        "colab": {
          "base_uri": "https://localhost:8080/",
          "height": 34
        }
      },
      "source": [
        "np.any(np.nan)"
      ],
      "execution_count": null,
      "outputs": [
        {
          "output_type": "execute_result",
          "data": {
            "text/plain": [
              "True"
            ]
          },
          "metadata": {
            "tags": []
          },
          "execution_count": 49
        }
      ]
    },
    {
      "cell_type": "markdown",
      "metadata": {
        "id": "UCFRGFUIzrxo"
      },
      "source": [
        "#**Creando Matrices.**\n",
        "\n",
        "[Enlace](https://numpy.org/doc/1.19/reference/routines.array-creation.html#routines-array-creation)"
      ]
    },
    {
      "cell_type": "markdown",
      "metadata": {
        "id": "OEteAaCMzxE7"
      },
      "source": [
        "Podemos pasar listas de Python para crear una matriz 2-D para representarlas en NumPy."
      ]
    },
    {
      "cell_type": "code",
      "metadata": {
        "id": "pygJWksX0Vb1",
        "outputId": "23f3887c-ebb2-4b97-c03a-35cc4ec77a49",
        "colab": {
          "base_uri": "https://localhost:8080/",
          "height": 51
        }
      },
      "source": [
        "data = np.array([[1, 2], [3, 4]])\n",
        "data"
      ],
      "execution_count": null,
      "outputs": [
        {
          "output_type": "execute_result",
          "data": {
            "text/plain": [
              "array([[1, 2],\n",
              "       [3, 4]])"
            ]
          },
          "metadata": {
            "tags": []
          },
          "execution_count": 50
        }
      ]
    },
    {
      "cell_type": "markdown",
      "metadata": {
        "id": "vHz_w6TZ0azY"
      },
      "source": [
        "![Captura.PNG](data:image/png;base64,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)"
      ]
    },
    {
      "cell_type": "markdown",
      "metadata": {
        "id": "B8cmMk-b1Dsi"
      },
      "source": [
        "Las operaciones de indexación y división son útiles cuando manipula matrices:"
      ]
    },
    {
      "cell_type": "code",
      "metadata": {
        "id": "gEFJBzMp1Gou",
        "outputId": "926550f5-e1c0-4fc2-ec54-7cb05201322c",
        "colab": {
          "base_uri": "https://localhost:8080/",
          "height": 136
        }
      },
      "source": [
        "data = np.array([[1, 2], [3, 4], [5, 6]])\n",
        "print(data)\n",
        "print(data[0, 1]) #imprimimos el valor de la fila 0 y columna 1.\n",
        "print(data[1:3]) #imprimimos las filas de la 1 a la 3.\n",
        "print(data[0:2, 0]) #imprimimos la filas de la 0 a la 2, y la columna 0."
      ],
      "execution_count": null,
      "outputs": [
        {
          "output_type": "stream",
          "text": [
            "[[1 2]\n",
            " [3 4]\n",
            " [5 6]]\n",
            "2\n",
            "[[3 4]\n",
            " [5 6]]\n",
            "[1 3]\n"
          ],
          "name": "stdout"
        }
      ]
    },
    {
      "cell_type": "markdown",
      "metadata": {
        "id": "LYKKkFmx19yz"
      },
      "source": [
        "![Captura.PNG](data:image/png;base64,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)"
      ]
    },
    {
      "cell_type": "markdown",
      "metadata": {
        "id": "HfNb75q62PaT"
      },
      "source": [
        "Puede agregar matrices de la misma manera que agregó vectores:"
      ]
    },
    {
      "cell_type": "code",
      "metadata": {
        "id": "O4cZ12OV2QcY",
        "outputId": "200041e6-77de-400c-95aa-d913b88917a8",
        "colab": {
          "base_uri": "https://localhost:8080/",
          "height": 68
        }
      },
      "source": [
        "print(data.max())\n",
        "print(data.min())\n",
        "print(data.sum())"
      ],
      "execution_count": null,
      "outputs": [
        {
          "output_type": "stream",
          "text": [
            "6\n",
            "1\n",
            "21\n"
          ],
          "name": "stdout"
        }
      ]
    },
    {
      "cell_type": "markdown",
      "metadata": {
        "id": "xRKDWGgp2mpP"
      },
      "source": [
        "![Captura.PNG](data:image/png;base64,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)"
      ]
    },
    {
      "cell_type": "markdown",
      "metadata": {
        "id": "J4tMawWM2qtO"
      },
      "source": [
        "Podemos tomar todos los valores en una matriz y analizarlos en columnas o filas usando el parámetro `axis`:"
      ]
    },
    {
      "cell_type": "code",
      "metadata": {
        "id": "B2KNRxwC283i",
        "outputId": "5a839532-5138-44b2-82de-20564a020c68",
        "colab": {
          "base_uri": "https://localhost:8080/",
          "height": 102
        }
      },
      "source": [
        "print(data)\n",
        "print(data.max(axis=0))\n",
        "print(data.max(axis=1))"
      ],
      "execution_count": null,
      "outputs": [
        {
          "output_type": "stream",
          "text": [
            "[[1 2]\n",
            " [3 4]\n",
            " [5 6]]\n",
            "[5 6]\n",
            "[2 4 6]\n"
          ],
          "name": "stdout"
        }
      ]
    },
    {
      "cell_type": "markdown",
      "metadata": {
        "id": "yXrF4fvO3wRq"
      },
      "source": [
        "Una vez que haya creado sus matrices, puede sumarlas y multiplicarlas usando operadores aritméticos si tiene dos matrices del mismo tamaño."
      ]
    },
    {
      "cell_type": "code",
      "metadata": {
        "id": "FsqJcddz3xmS",
        "outputId": "5bc18e5b-bcc1-4aae-83be-a31e17d79ea0",
        "colab": {
          "base_uri": "https://localhost:8080/",
          "height": 119
        }
      },
      "source": [
        "data = np.array([[1, 2], [3, 4]])\n",
        "ones = np.array([[1, 1], [1, 1]])\n",
        "print(data)\n",
        "print(ones)\n",
        "data + ones"
      ],
      "execution_count": null,
      "outputs": [
        {
          "output_type": "stream",
          "text": [
            "[[1 2]\n",
            " [3 4]]\n",
            "[[1 1]\n",
            " [1 1]]\n"
          ],
          "name": "stdout"
        },
        {
          "output_type": "execute_result",
          "data": {
            "text/plain": [
              "array([[2, 3],\n",
              "       [4, 5]])"
            ]
          },
          "metadata": {
            "tags": []
          },
          "execution_count": 58
        }
      ]
    },
    {
      "cell_type": "markdown",
      "metadata": {
        "id": "RjmhRzKF4ER2"
      },
      "source": [
        "![Captura.PNG](data:image/png;base64,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)"
      ]
    },
    {
      "cell_type": "markdown",
      "metadata": {
        "id": "riz2JIMx4KHp"
      },
      "source": [
        "Puede realizar estas operaciones aritméticas en matrices de diferentes tamaños, pero solo si una matriz tiene solo una columna o una fila. En este caso, NumPy usará sus reglas de transmisión para la operación."
      ]
    },
    {
      "cell_type": "code",
      "metadata": {
        "id": "AE_E1zxa4O1I",
        "outputId": "21bd7e76-f97d-43dc-e774-4ea2e6d2cc50",
        "colab": {
          "base_uri": "https://localhost:8080/",
          "height": 68
        }
      },
      "source": [
        "data = np.array([[1, 2], [3, 4], [5, 6]])\n",
        "ones_row = np.array([[1, 1]])\n",
        "data + ones_row"
      ],
      "execution_count": null,
      "outputs": [
        {
          "output_type": "execute_result",
          "data": {
            "text/plain": [
              "array([[2, 3],\n",
              "       [4, 5],\n",
              "       [6, 7]])"
            ]
          },
          "metadata": {
            "tags": []
          },
          "execution_count": 59
        }
      ]
    },
    {
      "cell_type": "markdown",
      "metadata": {
        "id": "okiDI6s-4UVO"
      },
      "source": [
        "![Captura.PNG](data:image/png;base64,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)"
      ]
    },
    {
      "cell_type": "markdown",
      "metadata": {
        "id": "ZScwHF_D4zuJ"
      },
      "source": [
        "Tenga en cuenta que cuando NumPy imprime matrices N-dimensionales, el último eje se coloca sobre el más rápido, mientras que el primer eje es el más lento. Por ejemplo:"
      ]
    },
    {
      "cell_type": "code",
      "metadata": {
        "id": "dGOGqBn_40yq",
        "outputId": "9733cdb3-69ed-4e3e-94cc-c48ea7f1f04c",
        "colab": {
          "base_uri": "https://localhost:8080/",
          "height": 272
        }
      },
      "source": [
        "np.ones((4, 3, 2)) #4 dimensiones, 3 filas y 2 columnas."
      ],
      "execution_count": null,
      "outputs": [
        {
          "output_type": "execute_result",
          "data": {
            "text/plain": [
              "array([[[1., 1.],\n",
              "        [1., 1.],\n",
              "        [1., 1.]],\n",
              "\n",
              "       [[1., 1.],\n",
              "        [1., 1.],\n",
              "        [1., 1.]],\n",
              "\n",
              "       [[1., 1.],\n",
              "        [1., 1.],\n",
              "        [1., 1.]],\n",
              "\n",
              "       [[1., 1.],\n",
              "        [1., 1.],\n",
              "        [1., 1.]]])"
            ]
          },
          "metadata": {
            "tags": []
          },
          "execution_count": 60
        }
      ]
    },
    {
      "cell_type": "markdown",
      "metadata": {
        "id": "RdOn3J8f48tG"
      },
      "source": [
        "A menudo hay casos en los que queremos que NumPy inicialice los valores de una matriz. NumPy ofrece funciones como ones()y zeros(), y la random.Generatorclase para la generación de números aleatorios para eso. Todo lo que necesita hacer es pasar la cantidad de elementos que desea que genere:"
      ]
    },
    {
      "cell_type": "code",
      "metadata": {
        "id": "TRIN3ZZg5E-e",
        "outputId": "ec23efc1-0762-4b84-edcd-e8e899b97183",
        "colab": {
          "base_uri": "https://localhost:8080/",
          "height": 34
        }
      },
      "source": [
        "rng = np.random.default_rng(0) \n",
        "rng.random(3) #generamos 3 valores aleatorios."
      ],
      "execution_count": null,
      "outputs": [
        {
          "output_type": "execute_result",
          "data": {
            "text/plain": [
              "array([0.63696169, 0.26978671, 0.04097352])"
            ]
          },
          "metadata": {
            "tags": []
          },
          "execution_count": 69
        }
      ]
    },
    {
      "cell_type": "markdown",
      "metadata": {
        "id": "h9FP_1A25xE8"
      },
      "source": [
        "También puede usar `ones(), zeros()y random()` para crear una matriz 2D si les da una tupla que describa las dimensiones de la matriz:"
      ]
    },
    {
      "cell_type": "markdown",
      "metadata": {
        "id": "oAamnwcE57nW"
      },
      "source": [
        "![Captura.PNG](data:image/png;base64,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)"
      ]
    },
    {
      "cell_type": "code",
      "metadata": {
        "id": "aHNYah1Z5yja"
      },
      "source": [
        ""
      ],
      "execution_count": null,
      "outputs": []
    },
    {
      "cell_type": "markdown",
      "metadata": {
        "id": "8MSDtnxB042Q"
      },
      "source": [
        "#**Cómo generar números aleatorios.**"
      ]
    },
    {
      "cell_type": "markdown",
      "metadata": {
        "id": "PaduprE609PA"
      },
      "source": [
        "El uso de la generación de números aleatorios es una parte importante de la configuración y evaluación de muchos algoritmos numéricos y de aprendizaje automático. Si necesita inicializar aleatoriamente pesos en una red neuronal artificial, dividir datos en conjuntos aleatorios o barajar aleatoriamente su conjunto de datos, ser capaz de generar números aleatorios (en realidad, números pseudoaleatorios repetibles) es esencial.\n",
        "\n",
        "Con , puede generar enteros aleatorios de bajo (recuerde que esto es inclusivo con NumPy) a alto (exclusivo). Puede configurar para que el número alto sea inclusivo.Generator.integersendpoint=True\n",
        "\n",
        "Puede generar una matriz de 2 x 4 enteros aleatorios entre 0 y 4 con:"
      ]
    },
    {
      "cell_type": "code",
      "metadata": {
        "id": "7LlpUwuU1L1B",
        "outputId": "08e7e866-6760-4355-9c7d-797566e8f6ff",
        "colab": {
          "base_uri": "https://localhost:8080/",
          "height": 51
        }
      },
      "source": [
        "rng = np.random.default_rng(0) #establecemos una raiz.\n",
        "rng.integers(5, size=(2, 4)) #le decimos que los valores aleatorios sean menores que 5, y que el array tenga 2 filas y 4 columnas."
      ],
      "execution_count": null,
      "outputs": [
        {
          "output_type": "execute_result",
          "data": {
            "text/plain": [
              "array([[4, 3, 2, 1],\n",
              "       [1, 0, 0, 0]])"
            ]
          },
          "metadata": {
            "tags": []
          },
          "execution_count": 9
        }
      ]
    },
    {
      "cell_type": "markdown",
      "metadata": {
        "id": "zCAKI2Ou12vm"
      },
      "source": [
        "#**Con `unique()` podemos obtener artículos y recuentos únicos.**\n",
        "\n",
        "[Enlace](https://numpy.org/doc/1.19/reference/generated/numpy.unique.html#numpy.unique)"
      ]
    },
    {
      "cell_type": "markdown",
      "metadata": {
        "id": "_kjoyE4g2Arn"
      },
      "source": [
        "Con esta orden podemos obtener como resultado una lista con todos los elementos del array, sin repetir."
      ]
    },
    {
      "cell_type": "code",
      "metadata": {
        "id": "dVzzR9Fy2XXR",
        "outputId": "0b7004e3-5537-4b21-ae58-c253d76731a7",
        "colab": {
          "base_uri": "https://localhost:8080/",
          "height": 34
        }
      },
      "source": [
        "a = np.array([11, 11, 12, 13, 14, 15, 16, 17, 12, 13, 11, 14, 18, 19, 20])\n",
        "unique_values = np.unique(a) #nos devuelve los valores pero sin repetir.\n",
        "print(unique_values)"
      ],
      "execution_count": null,
      "outputs": [
        {
          "output_type": "stream",
          "text": [
            "[11 12 13 14 15 16 17 18 19 20]\n"
          ],
          "name": "stdout"
        }
      ]
    },
    {
      "cell_type": "markdown",
      "metadata": {
        "id": "X1gaAh6W2lzl"
      },
      "source": [
        "Para obtener los índices de valores únicos en una matriz NumPy (una matriz de primeras posiciones de índice de valores únicos en la matriz), simplemente pase el argumento, así como la `matriz.return_indexnp.unique()`"
      ]
    },
    {
      "cell_type": "code",
      "metadata": {
        "id": "903_LnHO2o-Z",
        "outputId": "f45340b0-1ced-4609-855f-7b889aef0b47",
        "colab": {
          "base_uri": "https://localhost:8080/",
          "height": 34
        }
      },
      "source": [
        "unique_values, indices_list = np.unique(a, return_index=True) #con los elementos únicos, imprimimos sus índices en la matriz principal.\n",
        "print(indices_list)"
      ],
      "execution_count": null,
      "outputs": [
        {
          "output_type": "stream",
          "text": [
            "[ 0  2  3  4  5  6  7 12 13 14]\n"
          ],
          "name": "stdout"
        }
      ]
    },
    {
      "cell_type": "markdown",
      "metadata": {
        "id": "VMYUx2pF3SqG"
      },
      "source": [
        "Puede pasar el argumento junto con la matriz para obtener el recuento de frecuencias de valores únicos en una matriz `NumPy.return_countsnp.unique()`"
      ]
    },
    {
      "cell_type": "code",
      "metadata": {
        "id": "IQtVoSby3V89",
        "outputId": "92471485-5eb1-4ea5-e591-1297cd484300",
        "colab": {
          "base_uri": "https://localhost:8080/",
          "height": 34
        }
      },
      "source": [
        "unique_values, occurrence_count = np.unique(a, return_counts=True)\n",
        "print(occurrence_count)"
      ],
      "execution_count": null,
      "outputs": [
        {
          "output_type": "stream",
          "text": [
            "[3 2 2 2 1 1 1 1 1 1]\n"
          ],
          "name": "stdout"
        }
      ]
    },
    {
      "cell_type": "markdown",
      "metadata": {
        "id": "U8BOcIcp3eL6"
      },
      "source": [
        "¡Esto también funciona con matrices 2D! Si comenzamos con esta matriz:"
      ]
    },
    {
      "cell_type": "code",
      "metadata": {
        "id": "Lhsx6dbv3hFs",
        "outputId": "daec6239-0c9e-41b4-fde7-11cdb21e32cd",
        "colab": {
          "base_uri": "https://localhost:8080/",
          "height": 85
        }
      },
      "source": [
        "a_2d = np.array([[1, 2, 3, 4], [5, 6, 7, 8], [9, 10, 11, 12], [1, 2, 3, 4]])\n",
        "a_2d"
      ],
      "execution_count": null,
      "outputs": [
        {
          "output_type": "execute_result",
          "data": {
            "text/plain": [
              "array([[ 1,  2,  3,  4],\n",
              "       [ 5,  6,  7,  8],\n",
              "       [ 9, 10, 11, 12],\n",
              "       [ 1,  2,  3,  4]])"
            ]
          },
          "metadata": {
            "tags": []
          },
          "execution_count": 14
        }
      ]
    },
    {
      "cell_type": "markdown",
      "metadata": {
        "id": "kWcH6hzE3ppq"
      },
      "source": [
        "Podemos encontrar los valores únicos con:"
      ]
    },
    {
      "cell_type": "code",
      "metadata": {
        "id": "yxEnIHuJ3uff",
        "outputId": "c8696d0b-85bf-4ecd-d5a3-3d3be35dab51",
        "colab": {
          "base_uri": "https://localhost:8080/",
          "height": 34
        }
      },
      "source": [
        "unique_values = np.unique(a_2d)\n",
        "print(unique_values)"
      ],
      "execution_count": null,
      "outputs": [
        {
          "output_type": "stream",
          "text": [
            "[ 1  2  3  4  5  6  7  8  9 10 11 12]\n"
          ],
          "name": "stdout"
        }
      ]
    },
    {
      "cell_type": "markdown",
      "metadata": {
        "id": "-4vy7X-Y32wg"
      },
      "source": [
        "Si no se pasa el argumento axis, la matriz 2D se acoplará. Si deseamos obtener las filas o columnas únicas, asegúrese de pasar el argumento. Para buscar las filas únicas, especifique `axis = 0` y para las columnas, especifique `axis = 1`."
      ]
    },
    {
      "cell_type": "code",
      "metadata": {
        "id": "MofRXcpF4Bro",
        "outputId": "c687c29a-5057-46d6-bbaa-1fcbd93ffde9",
        "colab": {
          "base_uri": "https://localhost:8080/",
          "height": 68
        }
      },
      "source": [
        "unique_rows = np.unique(a_2d, axis=0)\n",
        "print(unique_rows)"
      ],
      "execution_count": null,
      "outputs": [
        {
          "output_type": "stream",
          "text": [
            "[[ 1  2  3  4]\n",
            " [ 5  6  7  8]\n",
            " [ 9 10 11 12]]\n"
          ],
          "name": "stdout"
        }
      ]
    },
    {
      "cell_type": "markdown",
      "metadata": {
        "id": "cU3rUXHa4aBB"
      },
      "source": [
        "Para obtener las filas únicas, la posición del índice y el recuento de apariciones, puede utilizar:\n",
        "\n"
      ]
    },
    {
      "cell_type": "code",
      "metadata": {
        "id": "aGpDkuY14jKE",
        "outputId": "a11e2bc8-7b9a-46b2-db22-c7a5bc9314f0",
        "colab": {
          "base_uri": "https://localhost:8080/",
          "height": 102
        }
      },
      "source": [
        "unique_rows, indices, occurrence_count = np.unique(a_2d, axis=0, return_counts=True, return_index=True)\n",
        "print(unique_rows)\n",
        "print(indices)\n",
        "print(occurrence_count)"
      ],
      "execution_count": null,
      "outputs": [
        {
          "output_type": "stream",
          "text": [
            "[[ 1  2  3  4]\n",
            " [ 5  6  7  8]\n",
            " [ 9 10 11 12]]\n",
            "[0 1 2]\n",
            "[2 1 1]\n"
          ],
          "name": "stdout"
        }
      ]
    },
    {
      "cell_type": "markdown",
      "metadata": {
        "id": "Qw6VdPJ-7jCK"
      },
      "source": [
        "#**Cómo invertir una matriz.**"
      ]
    },
    {
      "cell_type": "markdown",
      "metadata": {
        "id": "bUkRwt007n4y"
      },
      "source": [
        "#Esto lo podemos lograr con `flip()`. "
      ]
    },
    {
      "cell_type": "markdown",
      "metadata": {
        "id": "siZG3xSD70Pm"
      },
      "source": [
        "La función de NumPy le permite voltear, o invertir, el contenido de una matriz a lo largo de un eje. Al utilizar , especifique la matriz que desea invertir y el eje. Si no especifica el eje, NumPy invertirá el contenido a lo largo de todos los ejes de la matriz de entrada con `np.flip()`."
      ]
    },
    {
      "cell_type": "code",
      "metadata": {
        "id": "t-EFLyE27zza",
        "outputId": "799a081a-8ad3-4f3d-a6fc-2af5bae2ff52",
        "colab": {
          "base_uri": "https://localhost:8080/",
          "height": 51
        }
      },
      "source": [
        "arr = np.array([1, 2, 3, 4, 5, 6, 7, 8])\n",
        "print(arr)\n",
        "reversed_arr = np.flip(arr)\n",
        "print('Reversed Array: ', reversed_arr)"
      ],
      "execution_count": null,
      "outputs": [
        {
          "output_type": "stream",
          "text": [
            "[1 2 3 4 5 6 7 8]\n",
            "Reversed Array:  [8 7 6 5 4 3 2 1]\n"
          ],
          "name": "stdout"
        }
      ]
    },
    {
      "cell_type": "markdown",
      "metadata": {
        "id": "A9oK5OeR8Qtd"
      },
      "source": [
        "Invertir una matriz 2D funciona de la misma manera."
      ]
    },
    {
      "cell_type": "code",
      "metadata": {
        "id": "shlHiAjk8TAX",
        "outputId": "43d87f9e-15a4-4627-dad3-0cacf9a3ff90",
        "colab": {
          "base_uri": "https://localhost:8080/",
          "height": 68
        }
      },
      "source": [
        "arr_2d = np.array([[1, 2, 3, 4], [5, 6, 7, 8], [9, 10, 11, 12]])\n",
        "print(arr_2d)"
      ],
      "execution_count": null,
      "outputs": [
        {
          "output_type": "stream",
          "text": [
            "[[ 1  2  3  4]\n",
            " [ 5  6  7  8]\n",
            " [ 9 10 11 12]]\n"
          ],
          "name": "stdout"
        }
      ]
    },
    {
      "cell_type": "markdown",
      "metadata": {
        "id": "lGj0iP078X5Y"
      },
      "source": [
        "Puede invertir el contenido de todas las filas y todas las columnas con:"
      ]
    },
    {
      "cell_type": "code",
      "metadata": {
        "id": "PZIIBKfG8oEZ",
        "outputId": "df47a603-4bb4-4bb1-c98d-104921601bcb",
        "colab": {
          "base_uri": "https://localhost:8080/",
          "height": 68
        }
      },
      "source": [
        "reversed_arr = np.flip(arr_2d)\n",
        "print(reversed_arr)"
      ],
      "execution_count": null,
      "outputs": [
        {
          "output_type": "stream",
          "text": [
            "[[12 11 10  9]\n",
            " [ 8  7  6  5]\n",
            " [ 4  3  2  1]]\n"
          ],
          "name": "stdout"
        }
      ]
    },
    {
      "cell_type": "markdown",
      "metadata": {
        "id": "olvEgxBN8wHY"
      },
      "source": [
        "Podemos invertir fácilmente solo las filas con:"
      ]
    },
    {
      "cell_type": "code",
      "metadata": {
        "id": "pDR7578E8xF9",
        "outputId": "247e0c8b-256f-40a4-8b4f-cb0d39e17d87",
        "colab": {
          "base_uri": "https://localhost:8080/",
          "height": 68
        }
      },
      "source": [
        "reversed_arr_rows = np.flip(arr_2d, axis=0)\n",
        "print(reversed_arr_rows)"
      ],
      "execution_count": null,
      "outputs": [
        {
          "output_type": "stream",
          "text": [
            "[[ 9 10 11 12]\n",
            " [ 5  6  7  8]\n",
            " [ 1  2  3  4]]\n"
          ],
          "name": "stdout"
        }
      ]
    },
    {
      "cell_type": "markdown",
      "metadata": {
        "id": "xjseIPMT87FO"
      },
      "source": [
        "O invertir solo las columnas con:"
      ]
    },
    {
      "cell_type": "code",
      "metadata": {
        "id": "FJ4B6crx89oz",
        "outputId": "bb60d47d-528b-4c97-8aa8-5e37a54bb870",
        "colab": {
          "base_uri": "https://localhost:8080/",
          "height": 68
        }
      },
      "source": [
        "reversed_arr_columns = np.flip(arr_2d, axis=1)\n",
        "print(reversed_arr_columns)"
      ],
      "execution_count": null,
      "outputs": [
        {
          "output_type": "stream",
          "text": [
            "[[ 4  3  2  1]\n",
            " [ 8  7  6  5]\n",
            " [12 11 10  9]]\n"
          ],
          "name": "stdout"
        }
      ]
    },
    {
      "cell_type": "markdown",
      "metadata": {
        "id": "rE_GCg-79Hq3"
      },
      "source": [
        "También podemos invertir el contenido de una sola columna o fila. Por ejemplo, podemos invertir el contenido de la fila en la posición de índice 1 (la segunda fila):"
      ]
    },
    {
      "cell_type": "code",
      "metadata": {
        "id": "WXyV2rkv9L8T",
        "outputId": "5f3913c1-9d6c-466c-fca2-78270bcee6e5",
        "colab": {
          "base_uri": "https://localhost:8080/",
          "height": 68
        }
      },
      "source": [
        "arr_2d[1] = np.flip(arr_2d[1])\n",
        "print(arr_2d)"
      ],
      "execution_count": null,
      "outputs": [
        {
          "output_type": "stream",
          "text": [
            "[[ 1  2  3  4]\n",
            " [ 8  7  6  5]\n",
            " [ 9 10 11 12]]\n"
          ],
          "name": "stdout"
        }
      ]
    },
    {
      "cell_type": "markdown",
      "metadata": {
        "id": "RNUHH2F69os7"
      },
      "source": [
        "También podemos invertir la columna en la posición de índice 1 (la segunda columna):"
      ]
    },
    {
      "cell_type": "code",
      "metadata": {
        "id": "Lbd0PNQR9q4o",
        "outputId": "b459ce04-5333-4481-d66e-0623a3c988e1",
        "colab": {
          "base_uri": "https://localhost:8080/",
          "height": 68
        }
      },
      "source": [
        "arr_2d[:,1] = np.flip(arr_2d[:,1])\n",
        "print(arr_2d)"
      ],
      "execution_count": null,
      "outputs": [
        {
          "output_type": "stream",
          "text": [
            "[[ 1 10  3  4]\n",
            " [ 8  7  6  5]\n",
            " [ 9  2 11 12]]\n"
          ],
          "name": "stdout"
        }
      ]
    },
    {
      "cell_type": "markdown",
      "metadata": {
        "id": "ZVmsTZvp7YsS"
      },
      "source": [
        "#**Remodelación y aplanación de matrices multidimensionales.**"
      ]
    },
    {
      "cell_type": "markdown",
      "metadata": {
        "id": "yHd7TTxsPn-W"
      },
      "source": [
        "#Función `ravel()`. Devuelve el mismo array pero en forma unidimensional. Con esta función modificamos el original."
      ]
    },
    {
      "cell_type": "code",
      "metadata": {
        "id": "QQ3u3zQEPwas",
        "outputId": "64ffd5f0-6ce4-4661-ebc9-ff25935748c6",
        "colab": {
          "base_uri": "https://localhost:8080/",
          "height": 68
        }
      },
      "source": [
        "x9 = np.array([[1,2,3],[4,5,6]])\n",
        "print(x9)\n",
        "np.ravel(x9) #aplanamos el array, de dimensional lo pasamos a unidimensional"
      ],
      "execution_count": null,
      "outputs": [
        {
          "output_type": "stream",
          "text": [
            "[[1 2 3]\n",
            " [4 5 6]]\n"
          ],
          "name": "stdout"
        },
        {
          "output_type": "execute_result",
          "data": {
            "text/plain": [
              "array([1, 2, 3, 4, 5, 6])"
            ]
          },
          "metadata": {
            "tags": []
          },
          "execution_count": 31
        }
      ]
    },
    {
      "cell_type": "markdown",
      "metadata": {
        "id": "Pz59x1pOQhcS"
      },
      "source": [
        "#Función `flatten()`. No aplana el propio vector, sino que devuelve una copia del mismo vector colapsado en una dimensión, es la diferencia con `ravel`, con esta función no modificamos el original, creamos una copia."
      ]
    },
    {
      "cell_type": "code",
      "metadata": {
        "id": "0n_CgJTyREkc",
        "outputId": "1f5f8052-8c81-48ff-dbda-510d696e860d",
        "colab": {
          "base_uri": "https://localhost:8080/",
          "height": 68
        }
      },
      "source": [
        "x = np.array([[1,2,3],[4,5,6]]) \n",
        "print(x)\n",
        "x.flatten() #aplanamos el array, de dimensional lo pasamos a unidimensional"
      ],
      "execution_count": null,
      "outputs": [
        {
          "output_type": "stream",
          "text": [
            "[[1 2 3]\n",
            " [4 5 6]]\n"
          ],
          "name": "stdout"
        },
        {
          "output_type": "execute_result",
          "data": {
            "text/plain": [
              "array([1, 2, 3, 4, 5, 6])"
            ]
          },
          "metadata": {
            "tags": []
          },
          "execution_count": 47
        }
      ]
    },
    {
      "cell_type": "code",
      "metadata": {
        "id": "ATVJwlzY-FMB",
        "outputId": "4b8eef27-161b-4ccf-a79f-0ef969d60ee2",
        "colab": {
          "base_uri": "https://localhost:8080/",
          "height": 85
        }
      },
      "source": [
        "x = np.array([[1 , 2, 3, 4], [5, 6, 7, 8], [9, 10, 11, 12]])\n",
        "print(x)\n",
        "x.flatten()"
      ],
      "execution_count": null,
      "outputs": [
        {
          "output_type": "stream",
          "text": [
            "[[ 1  2  3  4]\n",
            " [ 5  6  7  8]\n",
            " [ 9 10 11 12]]\n"
          ],
          "name": "stdout"
        },
        {
          "output_type": "execute_result",
          "data": {
            "text/plain": [
              "array([ 1,  2,  3,  4,  5,  6,  7,  8,  9, 10, 11, 12])"
            ]
          },
          "metadata": {
            "tags": []
          },
          "execution_count": 48
        }
      ]
    },
    {
      "cell_type": "markdown",
      "metadata": {
        "id": "0xwQQzo5-YGk"
      },
      "source": [
        "#**Cómo acceder a la docstring para obtener más información.**"
      ]
    },
    {
      "cell_type": "markdown",
      "metadata": {
        "id": "9gwn4V-L-a1w"
      },
      "source": [
        "Cuando se trata del ecosistema de ciencia de datos, Python y NumPy se construyen pensando en el usuario. Uno de los mejores ejemplos de esto es el acceso integrado a la documentación. Cada objeto contiene la referencia a una cadena, que se conoce como docstring. En la mayoría de los casos, esta cadena de documentos contiene un resumen rápido y conciso del objeto y cómo usarlo. Python tiene una función integrada que puede ayudarle a acceder a esta información. Esto significa que casi cada vez que necesite más información, puede utilizar para encontrar rápidamente la información que necesita con `.help()`"
      ]
    },
    {
      "cell_type": "code",
      "metadata": {
        "id": "HhUI4zv_-rcC",
        "outputId": "dd0c5d44-2209-43d5-9d6c-7d4f4ab3027c",
        "colab": {
          "base_uri": "https://localhost:8080/",
          "height": 204
        }
      },
      "source": [
        "help(max)"
      ],
      "execution_count": null,
      "outputs": [
        {
          "output_type": "stream",
          "text": [
            "Help on built-in function max in module builtins:\n",
            "\n",
            "max(...)\n",
            "    max(iterable, *[, default=obj, key=func]) -> value\n",
            "    max(arg1, arg2, *args, *[, key=func]) -> value\n",
            "    \n",
            "    With a single iterable argument, return its biggest item. The\n",
            "    default keyword-only argument specifies an object to return if\n",
            "    the provided iterable is empty.\n",
            "    With two or more arguments, return the largest argument.\n",
            "\n"
          ],
          "name": "stdout"
        }
      ]
    },
    {
      "cell_type": "markdown",
      "metadata": {
        "id": "I_jg9j0j__gE"
      },
      "source": [
        "Dado que el acceso a información adicional es tan útil, IPython utiliza el carácter como una abreviatura para acceder a esta documentación junto con otra información relevante. IPython es un shell de comandos para la informática interactiva en varios idiomas.\n",
        "\n",
        "[Enlace](https://ipython.org/)"
      ]
    },
    {
      "cell_type": "code",
      "metadata": {
        "id": "HwHPkjyfBBtP"
      },
      "source": [
        "max? #y abrimos la ayuda."
      ],
      "execution_count": null,
      "outputs": []
    },
    {
      "cell_type": "markdown",
      "metadata": {
        "id": "9_0yl76xAjfi"
      },
      "source": [
        "Incluso puede utilizar esta notación parafunciones,  los propios métodos y objetos de objeto."
      ]
    },
    {
      "cell_type": "code",
      "metadata": {
        "id": "cpCwiq-2A89m"
      },
      "source": [
        "a = np.array([1, 2, 3, 4, 5, 6])\n",
        "a? #abrimos la ayuda y nos brinda toda la información de este array."
      ],
      "execution_count": null,
      "outputs": []
    },
    {
      "cell_type": "markdown",
      "metadata": {
        "id": "3CQeYgb4B4jp"
      },
      "source": [
        "#**Trabajar con fórmulas matemáticas.**"
      ]
    },
    {
      "cell_type": "markdown",
      "metadata": {
        "id": "UgA_3CRQB98r"
      },
      "source": [
        "La facilidad de implementar fórmulas matemáticas que funcionan en arreglos de discos es una de las cosas que hacen que NumPy sea tan ampliamente utilizado en la comunidad científica de Python.\n",
        "\n",
        "Por ejemplo, esta es la fórmula de error cuadrado medio (una fórmula central utilizada en modelos de aprendizaje automático supervisado que tratan con regresión):"
      ]
    },
    {
      "cell_type": "markdown",
      "metadata": {
        "id": "Hogrvry1CD7d"
      },
      "source": [
        "![Captura.PNG](data:image/png;base64,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)"
      ]
    },
    {
      "cell_type": "markdown",
      "metadata": {
        "id": "AyplDW06CPmi"
      },
      "source": [
        "La implementación de esta fórmula es simple y directa en NumPy:"
      ]
    },
    {
      "cell_type": "markdown",
      "metadata": {
        "id": "SPy-FgSaCR7K"
      },
      "source": [
        "`error = (1/n)*np.sum(np.square(predictions - labels))`"
      ]
    },
    {
      "cell_type": "markdown",
      "metadata": {
        "id": "aMxJw7mbChCl"
      },
      "source": [
        "Lo que hace que esto funcione tan bien es eso y puede contener uno o mil valores. Sólo tienen que ser del mismo tamaño `predictions y labels.` Podemos visualizarlo de esta manera:"
      ]
    },
    {
      "cell_type": "markdown",
      "metadata": {
        "id": "lmqammNNCzE2"
      },
      "source": [
        "![Captura.PNG](data:image/png;base64,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)"
      ]
    },
    {
      "cell_type": "markdown",
      "metadata": {
        "id": "rxHM6n_3C9kL"
      },
      "source": [
        "En este ejemplo, tanto los vectores de predicciones como los de etiquetas contienen tres valores, lo que significa que tiene un valor de tres. Después de llevar a cabo restas los valores en el vector son al cuadrado. A continuación, NumPy suma los valores y el resultado es el valor de error para esa predicción y una puntuación para la calidad del modelo n."
      ]
    },
    {
      "cell_type": "markdown",
      "metadata": {
        "id": "G7L0LoDZDAR2"
      },
      "source": [
        "![Captura.PNG](data:image/png;base64,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)"
      ]
    },
    {
      "cell_type": "markdown",
      "metadata": {
        "id": "23POFQEDDKfU"
      },
      "source": [
        "#**Cómo guardar y cargar objetos NumPy.**"
      ]
    },
    {
      "cell_type": "markdown",
      "metadata": {
        "id": "qaDPs58QDS9x"
      },
      "source": [
        "En algún momento, querrá guardar las matrices en el disco y cargarlas de nuevo sin tener que volver a ejecutar el código. Afortunadamente, hay varias maneras de guardar y cargar objetos con NumPy. Los objetos ndarray se pueden guardar y cargar desde los archivos de disco con `loadtxt` y `savetxt`  que manejan archivos de texto normales, y las funciones `load` y `save` manejan archivos binarios NumPy con una extensión de archivo .npy, y una función `savez()` que controla los archivos NumPy con una extensión de archivo `.npz`.\n",
        "\n",
        "Los archivos `.npy` y `.npz` almacenan datos, forma, dtype y otra información necesaria para reconstruir los ndarray de una manera que permita recuperar correctamente la matriz, incluso cuando el archivo está en otro equipo con una arquitectura diferente.\n",
        "\n",
        "Si deseamos almacenar un único objeto ndarray, guardémoslo como un archivo `.npy` mediante `np.save` . Si deseamos almacenar más de un objeto ndarray en un único archivo, guárdelo como un archivo `.npz` mediante `np.savez`. También puede guardar varias matrices en un único archivo en formato npz comprimido con `savez_compressed`.\n",
        "\n",
        "Es fácil de guardar y cargar y matriz con `np.save()` . Sólo asegúrese de especificar la matriz que desea guardar y un nombre de archivo. Por ejemplo, si crea esta matriz:"
      ]
    },
    {
      "cell_type": "code",
      "metadata": {
        "id": "bIaYO1xKDNDh"
      },
      "source": [
        "a = np.array([1, 2, 3, 4, 5, 6])\n",
        "np.save('filename', a) #salvamos la matriz con formato .npy. Primero ponemos el nombre de archivo a guardar y luego la matriz a guardar."
      ],
      "execution_count": null,
      "outputs": []
    },
    {
      "cell_type": "markdown",
      "metadata": {
        "id": "66tS8zS5Go0m"
      },
      "source": [
        "Podemos utilizar para reconstruir la matriz `np.load()`."
      ]
    },
    {
      "cell_type": "code",
      "metadata": {
        "id": "T5pldaYAGshn",
        "outputId": "a43c1fae-beb8-480b-b4f7-af8a9e086b90",
        "colab": {
          "base_uri": "https://localhost:8080/",
          "height": 34
        }
      },
      "source": [
        "b = np.load('filename.npy')\n",
        "print(b)"
      ],
      "execution_count": null,
      "outputs": [
        {
          "output_type": "stream",
          "text": [
            "[1 2 3 4 5 6]\n"
          ],
          "name": "stdout"
        }
      ]
    },
    {
      "cell_type": "markdown",
      "metadata": {
        "id": "4_dKdFoDG1TH"
      },
      "source": [
        "También podemos guardar una matriz NumPy como un archivo de texto sin formato como un archivo `.csv` o `.txt` con `np.savetxt`"
      ]
    },
    {
      "cell_type": "code",
      "metadata": {
        "id": "NqElQJevHB0s"
      },
      "source": [
        "csv_arr = np.array([[1,2,3],[4,5,6]], dtype = \"int\")\n",
        "np.savetxt('new_file.csv', csv_arr) #guardamos la matriz \"csv_arr\" como \"new_file.csv\""
      ],
      "execution_count": null,
      "outputs": []
    },
    {
      "cell_type": "code",
      "metadata": {
        "id": "DbRN4sgvHUuH"
      },
      "source": [
        "#Podemos descargarlo de la siguiente forma.\n",
        "from google.colab import files\n",
        "files.download(\"new_file.csv\") #descargamos el archivo al ordenador."
      ],
      "execution_count": null,
      "outputs": []
    },
    {
      "cell_type": "markdown",
      "metadata": {
        "id": "uFC9-QfEIQt-"
      },
      "source": [
        "Puede cargar de forma rápida y fácilmente el archivo de texto guardado utilizando:`loadtxt()`"
      ]
    },
    {
      "cell_type": "code",
      "metadata": {
        "id": "pbFjGf9jIWp5",
        "outputId": "c6c54601-5b34-4857-ca00-7ffdc6770b56",
        "colab": {
          "resources": {
            "http://localhost:8080/nbextensions/google.colab/files.js": {
              "data": "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",
              "ok": true,
              "headers": [
                [
                  "content-type",
                  "application/javascript"
                ]
              ],
              "status": 200,
              "status_text": ""
            }
          },
          "base_uri": "https://localhost:8080/",
          "height": 106
        }
      },
      "source": [
        "from google.colab import files\n",
        "files.upload() #cargamos el archivo csv desde el ordenador.\n",
        "np.loadtxt('new_file.csv') #leemos el archivo e imprimimos su contenido."
      ],
      "execution_count": null,
      "outputs": [
        {
          "output_type": "display_data",
          "data": {
            "text/html": [
              "\n",
              "     <input type=\"file\" id=\"files-93b309d2-85a2-412c-b192-e4da543b9657\" name=\"files[]\" multiple disabled\n",
              "        style=\"border:none\" />\n",
              "     <output id=\"result-93b309d2-85a2-412c-b192-e4da543b9657\">\n",
              "      Upload widget is only available when the cell has been executed in the\n",
              "      current browser session. Please rerun this cell to enable.\n",
              "      </output>\n",
              "      <script src=\"/nbextensions/google.colab/files.js\"></script> "
            ],
            "text/plain": [
              "<IPython.core.display.HTML object>"
            ]
          },
          "metadata": {
            "tags": []
          }
        },
        {
          "output_type": "stream",
          "text": [
            "Saving new_file.csv to new_file (2).csv\n"
          ],
          "name": "stdout"
        },
        {
          "output_type": "execute_result",
          "data": {
            "text/plain": [
              "array([[1., 2., 3.],\n",
              "       [4., 5., 6.]])"
            ]
          },
          "metadata": {
            "tags": []
          },
          "execution_count": 66
        }
      ]
    },
    {
      "cell_type": "markdown",
      "metadata": {
        "id": "f1ubliE6JWcE"
      },
      "source": [
        "#**Importación y exportación de un CSV.**"
      ]
    },
    {
      "cell_type": "markdown",
      "metadata": {
        "id": "8MJDxbaRJu7h"
      },
      "source": [
        "Es fácil de leer en un CSV que contiene información existente. La mejor y más fácil manera de hacerlo es usar Pandas."
      ]
    },
    {
      "cell_type": "code",
      "metadata": {
        "id": "Jq6In4yVK4n-"
      },
      "source": [
        "import pandas as pd #importamos pandas."
      ],
      "execution_count": null,
      "outputs": []
    },
    {
      "cell_type": "code",
      "metadata": {
        "id": "CGiU4xZOJbWv"
      },
      "source": [
        "# Si todas las columnas son del mismo tipo:\n",
        "x = pd.read_csv('music.csv', header=0).values #\n",
        "print(x)\n",
        "\n",
        "[['Billie Holiday' 'Jazz' 1300000 27000000]\n",
        " ['Jimmie Hendrix' 'Rock' 2700000 70000000]\n",
        " ['Miles Davis' 'Jazz' 1500000 48000000]\n",
        " ['SIA' 'Pop' 2000000 74000000]]\n",
        "\n",
        "#Podemos también selecionar solo las columnas que necesitemos:\n",
        "x = pd.read_csv('music.csv', usecols=['Artist', 'Plays']).values\n",
        "print(x)\n",
        "\n",
        "[['Billie Holiday' 27000000]\n",
        " ['Jimmie Hendrix' 70000000]\n",
        " ['Miles Davis' 48000000]\n",
        " ['SIA' 74000000]]"
      ],
      "execution_count": null,
      "outputs": []
    },
    {
      "cell_type": "markdown",
      "metadata": {
        "id": "Wzh_GrXSKNKI"
      },
      "source": [
        "![Captura.PNG](data:image/png;base64,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)"
      ]
    },
    {
      "cell_type": "markdown",
      "metadata": {
        "id": "UcpqHK5yKkIF"
      },
      "source": [
        "Es fácil usar `Pandas` para exportar tu matriz también. Si eres nuevo en NumPy, es posible que quieras crear una trama de datos Pandas a partir de los valores de tu matriz y luego escribir el marco de datos en un archivo CSV con Pandas. por ejemplo:"
      ]
    },
    {
      "cell_type": "code",
      "metadata": {
        "id": "uB9E9eiAKp9Z"
      },
      "source": [
        "a = np.array([[-2.58289208,  0.43014843, -1.24082018, 1.59572603],\n",
        "             [ 0.99027828, 1.17150989,  0.94125714, -0.14692469],\n",
        "             [ 0.76989341,  0.81299683, -0.95068423, 0.11769564],\n",
        "             [ 0.20484034,  0.34784527,  1.96979195, 0.51992837]])"
      ],
      "execution_count": null,
      "outputs": []
    },
    {
      "cell_type": "code",
      "metadata": {
        "id": "Ksqy4n95K0XX",
        "outputId": "516028cc-045c-4649-c9d0-6077d1e2f848",
        "colab": {
          "base_uri": "https://localhost:8080/",
          "height": 102
        }
      },
      "source": [
        "df = pd.DataFrame(a) #creamos un dataframe a partir de una matriz.\n",
        "print(df)"
      ],
      "execution_count": null,
      "outputs": [
        {
          "output_type": "stream",
          "text": [
            "          0         1         2         3\n",
            "0 -2.582892  0.430148 -1.240820  1.595726\n",
            "1  0.990278  1.171510  0.941257 -0.146925\n",
            "2  0.769893  0.812997 -0.950684  0.117696\n",
            "3  0.204840  0.347845  1.969792  0.519928\n"
          ],
          "name": "stdout"
        }
      ]
    },
    {
      "cell_type": "markdown",
      "metadata": {
        "id": "b_9Rbxj9LEEV"
      },
      "source": [
        "Podemos guardar fácilmente el marco de datos con `to_csv()`:"
      ]
    },
    {
      "cell_type": "code",
      "metadata": {
        "id": "NfaNBz6SLJNs",
        "outputId": "cb8600ff-8bf9-4a76-f777-7d3923dd7d01",
        "colab": {
          "base_uri": "https://localhost:8080/",
          "height": 17
        }
      },
      "source": [
        "df.to_csv('pd.csv', sep =',') #guardamos df como pd.csv.\n",
        "from google.colab import files\n",
        "files.download(\"pd.csv\") #descargamos el csv separado por comas al ordenador."
      ],
      "execution_count": null,
      "outputs": [
        {
          "output_type": "display_data",
          "data": {
            "application/javascript": [
              "\n",
              "    async function download(id, filename, size) {\n",
              "      if (!google.colab.kernel.accessAllowed) {\n",
              "        return;\n",
              "      }\n",
              "      const div = document.createElement('div');\n",
              "      const label = document.createElement('label');\n",
              "      label.textContent = `Downloading \"${filename}\": `;\n",
              "      div.appendChild(label);\n",
              "      const progress = document.createElement('progress');\n",
              "      progress.max = size;\n",
              "      div.appendChild(progress);\n",
              "      document.body.appendChild(div);\n",
              "\n",
              "      const buffers = [];\n",
              "      let downloaded = 0;\n",
              "\n",
              "      const channel = await google.colab.kernel.comms.open(id);\n",
              "      // Send a message to notify the kernel that we're ready.\n",
              "      channel.send({})\n",
              "\n",
              "      for await (const message of channel.messages) {\n",
              "        // Send a message to notify the kernel that we're ready.\n",
              "        channel.send({})\n",
              "        if (message.buffers) {\n",
              "          for (const buffer of message.buffers) {\n",
              "            buffers.push(buffer);\n",
              "            downloaded += buffer.byteLength;\n",
              "            progress.value = downloaded;\n",
              "          }\n",
              "        }\n",
              "      }\n",
              "      const blob = new Blob(buffers, {type: 'application/binary'});\n",
              "      const a = document.createElement('a');\n",
              "      a.href = window.URL.createObjectURL(blob);\n",
              "      a.download = filename;\n",
              "      div.appendChild(a);\n",
              "      a.click();\n",
              "      div.remove();\n",
              "    }\n",
              "  "
            ],
            "text/plain": [
              "<IPython.core.display.Javascript object>"
            ]
          },
          "metadata": {
            "tags": []
          }
        },
        {
          "output_type": "display_data",
          "data": {
            "application/javascript": [
              "download(\"download_8e2470ef-a6b3-4648-bf27-20cfc6b1b0ba\", \"pd.csv\", 197)"
            ],
            "text/plain": [
              "<IPython.core.display.Javascript object>"
            ]
          },
          "metadata": {
            "tags": []
          }
        }
      ]
    },
    {
      "cell_type": "markdown",
      "metadata": {
        "id": "XAeUziJ5L2mT"
      },
      "source": [
        "También podemos guardar la matriz con el método `NumPy.savetxt()`"
      ]
    },
    {
      "cell_type": "code",
      "metadata": {
        "id": "krUp0r6TL6Zh",
        "outputId": "112d4ac7-c0c8-4bca-92fe-c2cdee1b011b",
        "colab": {
          "base_uri": "https://localhost:8080/",
          "height": 17
        }
      },
      "source": [
        " np.savetxt('np.csv', a, fmt='%.2f', delimiter=',', header='1,  2,  3,  4')\n",
        "from google.colab import files\n",
        "files.download(\"np.csv\") #descargamos el csv separado por comas al ordenador."
      ],
      "execution_count": null,
      "outputs": [
        {
          "output_type": "display_data",
          "data": {
            "application/javascript": [
              "\n",
              "    async function download(id, filename, size) {\n",
              "      if (!google.colab.kernel.accessAllowed) {\n",
              "        return;\n",
              "      }\n",
              "      const div = document.createElement('div');\n",
              "      const label = document.createElement('label');\n",
              "      label.textContent = `Downloading \"${filename}\": `;\n",
              "      div.appendChild(label);\n",
              "      const progress = document.createElement('progress');\n",
              "      progress.max = size;\n",
              "      div.appendChild(progress);\n",
              "      document.body.appendChild(div);\n",
              "\n",
              "      const buffers = [];\n",
              "      let downloaded = 0;\n",
              "\n",
              "      const channel = await google.colab.kernel.comms.open(id);\n",
              "      // Send a message to notify the kernel that we're ready.\n",
              "      channel.send({})\n",
              "\n",
              "      for await (const message of channel.messages) {\n",
              "        // Send a message to notify the kernel that we're ready.\n",
              "        channel.send({})\n",
              "        if (message.buffers) {\n",
              "          for (const buffer of message.buffers) {\n",
              "            buffers.push(buffer);\n",
              "            downloaded += buffer.byteLength;\n",
              "            progress.value = downloaded;\n",
              "          }\n",
              "        }\n",
              "      }\n",
              "      const blob = new Blob(buffers, {type: 'application/binary'});\n",
              "      const a = document.createElement('a');\n",
              "      a.href = window.URL.createObjectURL(blob);\n",
              "      a.download = filename;\n",
              "      div.appendChild(a);\n",
              "      a.click();\n",
              "      div.remove();\n",
              "    }\n",
              "  "
            ],
            "text/plain": [
              "<IPython.core.display.Javascript object>"
            ]
          },
          "metadata": {
            "tags": []
          }
        },
        {
          "output_type": "display_data",
          "data": {
            "application/javascript": [
              "download(\"download_45a70346-2c75-4ba5-8225-5eb196f7be44\", \"np.csv\", 100)"
            ],
            "text/plain": [
              "<IPython.core.display.Javascript object>"
            ]
          },
          "metadata": {
            "tags": []
          }
        }
      ]
    },
    {
      "cell_type": "markdown",
      "metadata": {
        "id": "hw9I7qXjM9n5"
      },
      "source": [
        "#**Trazado de matrices con Matplotlib.**"
      ]
    },
    {
      "cell_type": "markdown",
      "metadata": {
        "id": "Uf9mwrlnNAzd"
      },
      "source": [
        "Si necesitamos generar una gráfica para nuestros valores, es muy simple con Matplotlib. Por ejemplo, podemos tener una matriz como esta:"
      ]
    },
    {
      "cell_type": "code",
      "metadata": {
        "id": "UBOd2dkCNAYt",
        "outputId": "34f3547a-655d-4a9b-cf7e-1436f59027bc",
        "colab": {
          "base_uri": "https://localhost:8080/",
          "height": 265
        }
      },
      "source": [
        "a = np.array([2, 1, 5, 7, 4, 6, 8, 14, 10, 9, 18, 20, 22])\n",
        "import matplotlib.pyplot as plt\n",
        "plt.plot(a)\n",
        "plt.show()"
      ],
      "execution_count": null,
      "outputs": [
        {
          "output_type": "display_data",
          "data": {
            "image/png": "[encoded data removed]",
            "text/plain": [
              "<Figure size 432x288 with 1 Axes>"
            ]
          },
          "metadata": {
            "tags": [],
            "needs_background": "light"
          }
        }
      ]
    },
    {
      "cell_type": "markdown",
      "metadata": {
        "id": "Z47iwdHzNXH9"
      },
      "source": [
        "Por ejemplo, podemos trazar una matriz 1D como esta:"
      ]
    },
    {
      "cell_type": "code",
      "metadata": {
        "id": "A4JFuZzyNaxn",
        "outputId": "c019a131-344a-470d-afa9-3e7a472e5435",
        "colab": {
          "base_uri": "https://localhost:8080/",
          "height": 282
        }
      },
      "source": [
        " x = np.linspace(0, 5, 20)\n",
        "y = np.linspace(0, 10, 20)\n",
        "plt.plot(x, y, 'purple') # line\n",
        "plt.plot(x, y, 'o')      # dots"
      ],
      "execution_count": null,
      "outputs": [
        {
          "output_type": "execute_result",
          "data": {
            "text/plain": [
              "[<matplotlib.lines.Line2D at 0x7fb2a710d198>]"
            ]
          },
          "metadata": {
            "tags": []
          },
          "execution_count": 80
        },
        {
          "output_type": "display_data",
          "data": {
            "image/png": "[encoded data removed]",
            "text/plain": [
              "<Figure size 432x288 with 1 Axes>"
            ]
          },
          "metadata": {
            "tags": [],
            "needs_background": "light"
          }
        }
      ]
    },
    {
      "cell_type": "markdown",
      "metadata": {
        "id": "TjcP-5WRNiQs"
      },
      "source": [
        "Con Matplotlib, tiene acceso a un gran número de opciones de visualización."
      ]
    },
    {
      "cell_type": "code",
      "metadata": {
        "id": "NI4G-Jp_NjAE",
        "outputId": "4998fb30-5ddd-4d23-d855-8410d8a33fcb",
        "colab": {
          "base_uri": "https://localhost:8080/",
          "height": 336
        }
      },
      "source": [
        "from mpl_toolkits.mplot3d import Axes3D\n",
        "\n",
        "fig = plt.figure()\n",
        "ax = Axes3D(fig)\n",
        "X = np.arange(-5, 5, 0.15)\n",
        "Y = np.arange(-5, 5, 0.15)\n",
        "X, Y = np.meshgrid(X, Y)\n",
        "R = np.sqrt(X**2 + Y**2)\n",
        "Z = np.sin(R)\n",
        "\n",
        "ax.plot_surface(X, Y, Z, rstride=1, cstride=1, cmap='viridis')"
      ],
      "execution_count": null,
      "outputs": [
        {
          "output_type": "execute_result",
          "data": {
            "text/plain": [
              "<mpl_toolkits.mplot3d.art3d.Poly3DCollection at 0x7fb2a6c040f0>"
            ]
          },
          "metadata": {
            "tags": []
          },
          "execution_count": 81
        },
        {
          "output_type": "display_data",
          "data": {
            "image/png": "[encoded data removed]",
            "text/plain": [
              "<Figure size 432x288 with 1 Axes>"
            ]
          },
          "metadata": {
            "tags": [],
            "needs_background": "light"
          }
        }
      ]
    },
    {
      "cell_type": "markdown",
      "metadata": {
        "id": "3B7TUO2yY0Dd"
      },
      "source": [
        "#**Dividir las líneas en columnas.**"
      ]
    },
    {
      "cell_type": "markdown",
      "metadata": {
        "id": "VFcy72haZ1DL"
      },
      "source": [
        "#El argumento `delimiter`."
      ]
    },
    {
      "cell_type": "markdown",
      "metadata": {
        "id": "ShyQlDFYY-KQ"
      },
      "source": [
        "Una vez que el archivo está definido y abierto para lectura, genfromtxt divide cada línea no vacía en una secuencia de cadenas. Las líneas vacías o comentadas simplemente se saltan. El argumento `delimiter` se utiliza para definir cómo se debe realizar la división.\n",
        "\n",
        "Muy a menudo, un solo carácter marca la separación entre columnas. Por ejemplo, los archivos separados por comas (CSV) usan una coma ( ,) o un punto y coma ( ;) como delimitador:"
      ]
    },
    {
      "cell_type": "code",
      "metadata": {
        "id": "prTQ7AQzZMCi",
        "outputId": "bc1f1cd9-6215-4ec8-e37f-b8247f2faf6d",
        "colab": {
          "base_uri": "https://localhost:8080/",
          "height": 90
        }
      },
      "source": [
        "import numpy as np\n",
        "from io import StringIO\n",
        "\n",
        "data = u\"1, 2, 3\\n4, 5, 6\"\n",
        "print(data)\n",
        "np.genfromtxt(StringIO(data), delimiter=\",\")"
      ],
      "execution_count": null,
      "outputs": [
        {
          "output_type": "stream",
          "text": [
            "1, 2, 3\n",
            "4, 5, 6\n"
          ],
          "name": "stdout"
        },
        {
          "output_type": "execute_result",
          "data": {
            "text/plain": [
              "array([[1., 2., 3.],\n",
              "       [4., 5., 6.]])"
            ]
          },
          "metadata": {
            "tags": []
          },
          "execution_count": 6
        }
      ]
    },
    {
      "cell_type": "markdown",
      "metadata": {
        "id": "WIrKLxWDaNfb"
      },
      "source": [
        "#El argumento `comments`."
      ]
    },
    {
      "cell_type": "markdown",
      "metadata": {
        "id": "sspapK_YaR4T"
      },
      "source": [
        "El argumento opcional `comments` se usa para definir una cadena de caracteres que marca el comienzo de un comentario. Por defecto, `genfromtxt` asume `comments='#'`. El marcador de comentario puede aparecer en cualquier parte de la línea. Cualquier carácter presente después de los marcadores de comentario simplemente se ignora:"
      ]
    },
    {
      "cell_type": "code",
      "metadata": {
        "id": "9BAnXJK7ahPz",
        "outputId": "bb04792f-c2dd-43a6-a431-d43d9402b014",
        "colab": {
          "base_uri": "https://localhost:8080/",
          "height": 108
        }
      },
      "source": [
        "import numpy as np\n",
        "from io import StringIO\n",
        "\n",
        "data = u\"\"\"#\n",
        "# Skip me !\n",
        "# Skip me too !\n",
        "1, 2\n",
        "3, 4\n",
        "5, 6 #This is the third line of the data\n",
        "7, 8\n",
        "# And here comes the last line\n",
        "9, 0\n",
        "\"\"\"\n",
        "np.genfromtxt(StringIO(data), comments=\"#\", delimiter=\",\") #ignoramos todo lo que esté delante de #."
      ],
      "execution_count": null,
      "outputs": [
        {
          "output_type": "execute_result",
          "data": {
            "text/plain": [
              "array([[1., 2.],\n",
              "       [3., 4.],\n",
              "       [5., 6.],\n",
              "       [7., 8.],\n",
              "       [9., 0.]])"
            ]
          },
          "metadata": {
            "tags": []
          },
          "execution_count": 9
        }
      ]
    },
    {
      "cell_type": "markdown",
      "metadata": {
        "id": "ECyxWyZQa2yc"
      },
      "source": [
        "#El argumento `usecols`."
      ]
    },
    {
      "cell_type": "markdown",
      "metadata": {
        "id": "V_vrsViPbEFb"
      },
      "source": [
        "En algunos casos, no nos interesan todas las columnas de los datos, sino solo algunas de ellas. Podemos seleccionar qué columnas importar con el argumento `usecols`. Este argumento acepta un solo entero o una secuencia de enteros correspondientes a los índices de las columnas a importar."
      ]
    },
    {
      "cell_type": "code",
      "metadata": {
        "id": "yIPIEa-2bDoa",
        "outputId": "2a110cd7-d5fd-4c2d-e41e-9044f164c7fd",
        "colab": {
          "base_uri": "https://localhost:8080/",
          "height": 54
        }
      },
      "source": [
        "import numpy as np\n",
        "from io import StringIO\n",
        "\n",
        "data = u\"1 2 3\\n4 5 6\"\n",
        "np.genfromtxt(StringIO(data), usecols=(0, -1))"
      ],
      "execution_count": null,
      "outputs": [
        {
          "output_type": "execute_result",
          "data": {
            "text/plain": [
              "array([[1., 3.],\n",
              "       [4., 6.]])"
            ]
          },
          "metadata": {
            "tags": []
          },
          "execution_count": 10
        }
      ]
    },
    {
      "cell_type": "markdown",
      "metadata": {
        "id": "k2rOpixQdfC4"
      },
      "source": [
        "#**Matrices estructuradas.**"
      ]
    },
    {
      "cell_type": "markdown",
      "metadata": {
        "id": "ZtazvioRdhIk"
      },
      "source": [
        "Las matrices estructuradas son ndarrays cuyo tipo de datos es una composición de tipos de datos más simples organizados como una secuencia de campos con nombre . Por ejemplo:"
      ]
    },
    {
      "cell_type": "code",
      "metadata": {
        "id": "y1V73NfNa6S8",
        "outputId": "4f3add1e-324d-4c8b-a8ec-b88ab0ecc9e2",
        "colab": {
          "base_uri": "https://localhost:8080/",
          "height": 35
        }
      },
      "source": [
        "x = np.array([('Rex', 9, 81.0), ('Fido', 3, 27.0)],\n",
        "            dtype=[('name', 'U10'), ('age', 'i4'), ('weight', 'f4')])\n",
        "print(x)"
      ],
      "execution_count": null,
      "outputs": [
        {
          "output_type": "stream",
          "text": [
            "[('Rex', 9, 81.) ('Fido', 3, 27.)]\n"
          ],
          "name": "stdout"
        }
      ]
    },
    {
      "cell_type": "markdown",
      "metadata": {
        "id": "0q1fV09Fdom0"
      },
      "source": [
        "Aquí xhay una matriz unidimensional de longitud dos cuyo tipo de datos es una estructura con tres campos: 1. Una cadena de longitud 10 o menos llamada 'nombre', 2. un entero de 32 bits llamado 'edad' y 3. un dato de 32 -bit flotante llamado 'peso'.\n",
        "\n",
        "Si indexa xen la posición 1, obtiene una estructura:"
      ]
    },
    {
      "cell_type": "code",
      "metadata": {
        "id": "69YITrBpdwf1",
        "outputId": "90bc665e-7e01-4a57-f985-1ae4f9749b50",
        "colab": {
          "base_uri": "https://localhost:8080/",
          "height": 35
        }
      },
      "source": [
        "x[1]"
      ],
      "execution_count": null,
      "outputs": [
        {
          "output_type": "execute_result",
          "data": {
            "text/plain": [
              "('Fido', 3, 27.)"
            ]
          },
          "metadata": {
            "tags": []
          },
          "execution_count": 16
        }
      ]
    },
    {
      "cell_type": "markdown",
      "metadata": {
        "id": "_iY9HrkWd04R"
      },
      "source": [
        "Podemos acceder y modificar campos individuales de una matriz estructurada indexando con el nombre del campo:"
      ]
    },
    {
      "cell_type": "code",
      "metadata": {
        "id": "_OKV7dPBd3J1",
        "outputId": "1b0099bd-715b-45c7-dee9-eb923fe77435",
        "colab": {
          "base_uri": "https://localhost:8080/",
          "height": 35
        }
      },
      "source": [
        "x['age']"
      ],
      "execution_count": null,
      "outputs": [
        {
          "output_type": "execute_result",
          "data": {
            "text/plain": [
              "array([9, 3], dtype=int32)"
            ]
          },
          "metadata": {
            "tags": []
          },
          "execution_count": 17
        }
      ]
    },
    {
      "cell_type": "markdown",
      "metadata": {
        "id": "fX2xcORId7ag"
      },
      "source": [
        "También podemos modificar algún campo de la siguiente forma:"
      ]
    },
    {
      "cell_type": "code",
      "metadata": {
        "id": "gCJ43TwVeD5E",
        "outputId": "8dfd49b0-c075-418d-bc90-7a8c59085713",
        "colab": {
          "base_uri": "https://localhost:8080/",
          "height": 54
        }
      },
      "source": [
        "x['age'] = 5\n",
        "x"
      ],
      "execution_count": null,
      "outputs": [
        {
          "output_type": "execute_result",
          "data": {
            "text/plain": [
              "array([('Rex', 5, 81.), ('Fido', 5, 27.)],\n",
              "      dtype=[('name', '<U10'), ('age', '<i4'), ('weight', '<f4')])"
            ]
          },
          "metadata": {
            "tags": []
          },
          "execution_count": 18
        }
      ]
    }
  ]
}