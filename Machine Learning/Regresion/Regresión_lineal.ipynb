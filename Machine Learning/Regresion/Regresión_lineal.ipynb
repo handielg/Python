{
  "nbformat": 4,
  "nbformat_minor": 0,
  "metadata": {
    "kernelspec": {
      "display_name": "Python 3",
      "language": "python",
      "name": "python3"
    },
    "language_info": {
      "codemirror_mode": {
        "name": "ipython",
        "version": 3
      },
      "file_extension": ".py",
      "mimetype": "text/x-python",
      "name": "python",
      "nbconvert_exporter": "python",
      "pygments_lexer": "ipython3",
      "version": "3.6.4"
    },
    "colab": {
      "name": "Regresión lineal.ipynb",
      "provenance": [],
      "include_colab_link": true
    }
  },
  "cells": [
    {
      "cell_type": "markdown",
      "metadata": {
        "id": "view-in-github",
        "colab_type": "text"
      },
      "source": [
        "<a href=\"https://colab.research.google.com/github/handielg/Python/blob/main/Regresi%C3%B3n_lineal.ipynb\" target=\"_parent\"><img src=\"https://colab.research.google.com/assets/colab-badge.svg\" alt=\"Open In Colab\"/></a>"
      ]
    },
    {
      "cell_type": "markdown",
      "metadata": {
        "id": "tpz1xoGXnjO7"
      },
      "source": [
        "[Material de Estudio](https://github.com/joanby/machinelearning-az/blob/master/additional%20materials/transparencias/Part%202%20-%20Regression/Section%204%20-%20Simple%20Linear%20Regression/s2.pdf)"
      ]
    },
    {
      "cell_type": "code",
      "metadata": {
        "id": "DMF3xIVtnvan"
      },
      "source": [
        "# Regresión Lineal Simple\r\n",
        "# Cómo importar las librerías\r\n",
        "import numpy as np\r\n",
        "import matplotlib.pyplot as plt\r\n",
        "import pandas as pd\r\n",
        "from sklearn.linear_model import LinearRegression #para descargar el modelo lineal simple que vamos a usar."
      ],
      "execution_count": 14,
      "outputs": []
    },
    {
      "cell_type": "code",
      "metadata": {
        "id": "W57CGwM1sn-4"
      },
      "source": [
        ""
      ],
      "execution_count": null,
      "outputs": []
    },
    {
      "cell_type": "code",
      "metadata": {
        "id": "LBHpt5xeskIM"
      },
      "source": [
        "dataset = pd.DataFrame({\"Metros Cuadrados\": [1940,1300,1420,1680,1270,1850,1000,1100,1600,1000,2150,1900,2200,1100,860,1325,1350,1600, 950,1250], \"Precio\": [1116000,860000,818400,1000000,640000,1010000,600000,700000,1100000,570000,860000,1085000,1250000,850000,640000,900000,730000,750000,650000,680000]})"
      ],
      "execution_count": 62,
      "outputs": []
    },
    {
      "cell_type": "code",
      "metadata": {
        "colab": {
          "base_uri": "https://localhost:8080/",
          "height": 669
        },
        "id": "egEVS2EIs1wX",
        "outputId": "569a2a93-6d36-4316-a19d-bc5d6c64f2ab"
      },
      "source": [
        "dataset"
      ],
      "execution_count": 63,
      "outputs": [
        {
          "output_type": "execute_result",
          "data": {
            "text/html": [
              "<div>\n",
              "<style scoped>\n",
              "    .dataframe tbody tr th:only-of-type {\n",
              "        vertical-align: middle;\n",
              "    }\n",
              "\n",
              "    .dataframe tbody tr th {\n",
              "        vertical-align: top;\n",
              "    }\n",
              "\n",
              "    .dataframe thead th {\n",
              "        text-align: right;\n",
              "    }\n",
              "</style>\n",
              "<table border=\"1\" class=\"dataframe\">\n",
              "  <thead>\n",
              "    <tr style=\"text-align: right;\">\n",
              "      <th></th>\n",
              "      <th>Metros Cuadrados</th>\n",
              "      <th>Precio</th>\n",
              "    </tr>\n",
              "  </thead>\n",
              "  <tbody>\n",
              "    <tr>\n",
              "      <th>0</th>\n",
              "      <td>1940</td>\n",
              "      <td>1116000</td>\n",
              "    </tr>\n",
              "    <tr>\n",
              "      <th>1</th>\n",
              "      <td>1300</td>\n",
              "      <td>860000</td>\n",
              "    </tr>\n",
              "    <tr>\n",
              "      <th>2</th>\n",
              "      <td>1420</td>\n",
              "      <td>818400</td>\n",
              "    </tr>\n",
              "    <tr>\n",
              "      <th>3</th>\n",
              "      <td>1680</td>\n",
              "      <td>1000000</td>\n",
              "    </tr>\n",
              "    <tr>\n",
              "      <th>4</th>\n",
              "      <td>1270</td>\n",
              "      <td>640000</td>\n",
              "    </tr>\n",
              "    <tr>\n",
              "      <th>5</th>\n",
              "      <td>1850</td>\n",
              "      <td>1010000</td>\n",
              "    </tr>\n",
              "    <tr>\n",
              "      <th>6</th>\n",
              "      <td>1000</td>\n",
              "      <td>600000</td>\n",
              "    </tr>\n",
              "    <tr>\n",
              "      <th>7</th>\n",
              "      <td>1100</td>\n",
              "      <td>700000</td>\n",
              "    </tr>\n",
              "    <tr>\n",
              "      <th>8</th>\n",
              "      <td>1600</td>\n",
              "      <td>1100000</td>\n",
              "    </tr>\n",
              "    <tr>\n",
              "      <th>9</th>\n",
              "      <td>1000</td>\n",
              "      <td>570000</td>\n",
              "    </tr>\n",
              "    <tr>\n",
              "      <th>10</th>\n",
              "      <td>2150</td>\n",
              "      <td>860000</td>\n",
              "    </tr>\n",
              "    <tr>\n",
              "      <th>11</th>\n",
              "      <td>1900</td>\n",
              "      <td>1085000</td>\n",
              "    </tr>\n",
              "    <tr>\n",
              "      <th>12</th>\n",
              "      <td>2200</td>\n",
              "      <td>1250000</td>\n",
              "    </tr>\n",
              "    <tr>\n",
              "      <th>13</th>\n",
              "      <td>1100</td>\n",
              "      <td>850000</td>\n",
              "    </tr>\n",
              "    <tr>\n",
              "      <th>14</th>\n",
              "      <td>860</td>\n",
              "      <td>640000</td>\n",
              "    </tr>\n",
              "    <tr>\n",
              "      <th>15</th>\n",
              "      <td>1325</td>\n",
              "      <td>900000</td>\n",
              "    </tr>\n",
              "    <tr>\n",
              "      <th>16</th>\n",
              "      <td>1350</td>\n",
              "      <td>730000</td>\n",
              "    </tr>\n",
              "    <tr>\n",
              "      <th>17</th>\n",
              "      <td>1600</td>\n",
              "      <td>750000</td>\n",
              "    </tr>\n",
              "    <tr>\n",
              "      <th>18</th>\n",
              "      <td>950</td>\n",
              "      <td>650000</td>\n",
              "    </tr>\n",
              "    <tr>\n",
              "      <th>19</th>\n",
              "      <td>1250</td>\n",
              "      <td>680000</td>\n",
              "    </tr>\n",
              "  </tbody>\n",
              "</table>\n",
              "</div>"
            ],
            "text/plain": [
              "    Metros Cuadrados   Precio\n",
              "0               1940  1116000\n",
              "1               1300   860000\n",
              "2               1420   818400\n",
              "3               1680  1000000\n",
              "4               1270   640000\n",
              "5               1850  1010000\n",
              "6               1000   600000\n",
              "7               1100   700000\n",
              "8               1600  1100000\n",
              "9               1000   570000\n",
              "10              2150   860000\n",
              "11              1900  1085000\n",
              "12              2200  1250000\n",
              "13              1100   850000\n",
              "14               860   640000\n",
              "15              1325   900000\n",
              "16              1350   730000\n",
              "17              1600   750000\n",
              "18               950   650000\n",
              "19              1250   680000"
            ]
          },
          "metadata": {
            "tags": []
          },
          "execution_count": 63
        }
      ]
    },
    {
      "cell_type": "code",
      "metadata": {
        "id": "OLu-PDcGs-CT"
      },
      "source": [
        "X = dataset.iloc[:, :-1].values #debemos hacerlo de esta forma para que nos quede como abajo o X.reshape(-1, 1) en otros casos.\r\n",
        "y = dataset.iloc[:, 1].values"
      ],
      "execution_count": 114,
      "outputs": []
    },
    {
      "cell_type": "code",
      "metadata": {
        "colab": {
          "base_uri": "https://localhost:8080/"
        },
        "id": "uK3SpGaqut4l",
        "outputId": "12c6df85-c42e-40f5-ff3c-5873da2bb0c1"
      },
      "source": [
        "X"
      ],
      "execution_count": 88,
      "outputs": [
        {
          "output_type": "execute_result",
          "data": {
            "text/plain": [
              "array([[1940],\n",
              "       [1300],\n",
              "       [1420],\n",
              "       [1680],\n",
              "       [1270],\n",
              "       [1850],\n",
              "       [1000],\n",
              "       [1100],\n",
              "       [1600],\n",
              "       [1000],\n",
              "       [2150],\n",
              "       [1900],\n",
              "       [2200],\n",
              "       [1100],\n",
              "       [ 860],\n",
              "       [1325],\n",
              "       [1350],\n",
              "       [1600],\n",
              "       [ 950],\n",
              "       [1250]])"
            ]
          },
          "metadata": {
            "tags": []
          },
          "execution_count": 88
        }
      ]
    },
    {
      "cell_type": "code",
      "metadata": {
        "colab": {
          "base_uri": "https://localhost:8080/"
        },
        "id": "Bvvlx6I0uilw",
        "outputId": "8573ce7a-3963-447b-85b0-91791d9486fe"
      },
      "source": [
        "y"
      ],
      "execution_count": 87,
      "outputs": [
        {
          "output_type": "execute_result",
          "data": {
            "text/plain": [
              "array([1116000,  860000,  818400, 1000000,  640000, 1010000,  600000,\n",
              "        700000, 1100000,  570000,  860000, 1085000, 1250000,  850000,\n",
              "        640000,  900000,  730000,  750000,  650000,  680000])"
            ]
          },
          "metadata": {
            "tags": []
          },
          "execution_count": 87
        }
      ]
    },
    {
      "cell_type": "code",
      "metadata": {
        "id": "og7B3XIcn0tj"
      },
      "source": [
        "# Dividir el data set en conjunto de entrenamiento y conjunto de testing\r\n",
        "from sklearn.model_selection import train_test_split\r\n",
        "X_train, X_test, y_train, y_test = train_test_split(X, y, test_size = 1/3, random_state = 0) #definimos 1/3 para que sea 66 % entrenamiento y 33 % test. Y creamos 4 variables nuevas."
      ],
      "execution_count": 76,
      "outputs": []
    },
    {
      "cell_type": "code",
      "metadata": {
        "colab": {
          "base_uri": "https://localhost:8080/",
          "height": 35
        },
        "id": "eKCAikgOn30s",
        "outputId": "b35b6403-285c-48bf-bcda-da58f8228f4b"
      },
      "source": [
        "# Escalado de variables. No aplica en este algoritmo.\r\n",
        "\"\"\"\r\n",
        "from sklearn.preprocessing import StandardScaler\r\n",
        "sc_X = StandardScaler()\r\n",
        "X_train = sc_X.fit_transform(X_train)\r\n",
        "X_test = sc_X.transform(X_test)\r\n",
        "\"\"\""
      ],
      "execution_count": 44,
      "outputs": [
        {
          "output_type": "execute_result",
          "data": {
            "application/vnd.google.colaboratory.intrinsic+json": {
              "type": "string"
            },
            "text/plain": [
              "'\\nfrom sklearn.preprocessing import StandardScaler\\nsc_X = StandardScaler()\\nX_train = sc_X.fit_transform(X_train)\\nX_test = sc_X.transform(X_test)\\n'"
            ]
          },
          "metadata": {
            "tags": []
          },
          "execution_count": 44
        }
      ]
    },
    {
      "cell_type": "code",
      "metadata": {
        "colab": {
          "base_uri": "https://localhost:8080/"
        },
        "id": "P9g8twpWn6Gw",
        "outputId": "3ea30df3-8a62-4862-ab2e-939eedadcef4"
      },
      "source": [
        "# Crear modelo de Regresión Lienal Simple con el conjunto de entrenamiento\r\n",
        "regression = LinearRegression()\r\n",
        "regression.fit(X_train, y_train) #le pasamos al modelo la X de entrenamiento y la y de entrenamiento. El método fit se utiliza para ajustar la regresión lineal, y acepta 2 parámetros, los dos que les pasamos, X_train y y_train.\r\n",
        "\r\n",
        "# Predecir el conjunto de test\r\n",
        "y_pred = regression.predict(X_test) #predecimos la variable dependiente con X_test. X_test solo contiene la primer columna.\r\n",
        "y_pred "
      ],
      "execution_count": 83,
      "outputs": [
        {
          "output_type": "execute_result",
          "data": {
            "text/plain": [
              "array([ 628411.24014739,  793801.58737529,  770174.39491416,\n",
              "        935564.74214206, 1195463.85921447,  935564.74214206,\n",
              "        652038.43260852])"
            ]
          },
          "metadata": {
            "tags": []
          },
          "execution_count": 83
        }
      ]
    },
    {
      "cell_type": "code",
      "metadata": {
        "colab": {
          "base_uri": "https://localhost:8080/",
          "height": 295
        },
        "id": "3XgIS4Fkn77A",
        "outputId": "766d53c8-fe6d-484e-9a18-6fc7274d48ac"
      },
      "source": [
        "# Visualizar los resultados de entrenamiento\r\n",
        "plt.scatter(X_train, y_train, color = \"red\") #Graficamos los puntos correspondientes al conjunto de entrenamiento.\r\n",
        "plt.plot(X_train, regression.predict(X_train), color = \"blue\") #Graficamos la línea de la ecuación obtenida en el entrenamiento.\r\n",
        "plt.title(\"Título del Gráfico (Conjunto de Entrenamiento)\")\r\n",
        "plt.xlabel(\"Etiqueta eje x\")\r\n",
        "plt.ylabel(\"Etiqueta eje y\")\r\n",
        "plt.show()"
      ],
      "execution_count": 78,
      "outputs": [
        {
          "output_type": "display_data",
          "data": {
            "image/png": "[encoded data removed]",
            "text/plain": [
              "<Figure size 432x288 with 1 Axes>"
            ]
          },
          "metadata": {
            "tags": [],
            "needs_background": "light"
          }
        }
      ]
    },
    {
      "cell_type": "code",
      "metadata": {
        "colab": {
          "base_uri": "https://localhost:8080/",
          "height": 295
        },
        "id": "aVVoQ0tunhnm",
        "outputId": "b7595754-a85a-46a4-80dc-cb47a3c67e00"
      },
      "source": [
        "# Visualizar los resultados de test\r\n",
        "plt.scatter(X_test, y_test, color = \"red\") #Graficamos los puntos (scatter) de la variable independiente y la variable dependiente predicha por el modelo de regresión.\r\n",
        "plt.plot(X_train, regression.predict(X_train), color = \"blue\") #Dibujamos la misma línea anterior para ver como se ajustan los puntos predichos.\r\n",
        "plt.title(\"Título del Gráfico (Conjunto de Testing)\")\r\n",
        "plt.xlabel(\"Etiqueta eje x\")\r\n",
        "plt.ylabel(\"Etiqueta eje y\")\r\n",
        "plt.show()"
      ],
      "execution_count": 79,
      "outputs": [
        {
          "output_type": "display_data",
          "data": {
            "image/png": "[encoded data removed]",
            "text/plain": [
              "<Figure size 432x288 with 1 Axes>"
            ]
          },
          "metadata": {
            "tags": [],
            "needs_background": "light"
          }
        }
      ]
    },
    {
      "cell_type": "markdown",
      "metadata": {
        "id": "sWDxlADHuBsy"
      },
      "source": [
        "**Pendiente**"
      ]
    },
    {
      "cell_type": "code",
      "metadata": {
        "colab": {
          "base_uri": "https://localhost:8080/"
        },
        "id": "aWCWXhqWt8kl",
        "outputId": "3cdf6588-e663-419c-b3d6-b50b418ac9f9"
      },
      "source": [
        "regression.coef_.item()"
      ],
      "execution_count": 116,
      "outputs": [
        {
          "output_type": "execute_result",
          "data": {
            "text/plain": [
              "472.54384922256315"
            ]
          },
          "metadata": {
            "tags": []
          },
          "execution_count": 116
        }
      ]
    },
    {
      "cell_type": "markdown",
      "metadata": {
        "id": "T1sowZvfuD62"
      },
      "source": [
        "**Intercepto**"
      ]
    },
    {
      "cell_type": "code",
      "metadata": {
        "colab": {
          "base_uri": "https://localhost:8080/"
        },
        "id": "N1bY9PDvuDv3",
        "outputId": "c0a9b454-90f6-4549-db08-4510f0af3c32"
      },
      "source": [
        "regression.intercept_"
      ],
      "execution_count": 113,
      "outputs": [
        {
          "output_type": "execute_result",
          "data": {
            "text/plain": [
              "179494.58338595484"
            ]
          },
          "metadata": {
            "tags": []
          },
          "execution_count": 113
        }
      ]
    },
    {
      "cell_type": "markdown",
      "metadata": {
        "id": "yf6e8Ad70GkQ"
      },
      "source": [
        "**Coeficiente de determinación**"
      ]
    },
    {
      "cell_type": "code",
      "metadata": {
        "colab": {
          "base_uri": "https://localhost:8080/"
        },
        "id": "g6VtTYCZy5i-",
        "outputId": "26d36663-fb6f-4d33-9bfb-cef1ee5b668c"
      },
      "source": [
        "regression.score(X, y)"
      ],
      "execution_count": 115,
      "outputs": [
        {
          "output_type": "execute_result",
          "data": {
            "text/plain": [
              "0.6459717095840944"
            ]
          },
          "metadata": {
            "tags": []
          },
          "execution_count": 115
        }
      ]
    },
    {
      "cell_type": "markdown",
      "metadata": {
        "id": "M-VqANLtit9N"
      },
      "source": [
        "#Este es **otro ejemplo** de regresión lineal, encontrarremos la rwlaciín entre los metros cuadrados de las casas y su precio.\r\n",
        "\r\n",
        "Necesitamos una herramienta que nos permita medir dicha propiedad y nos permita distinguir las regresiones con un buen poder explicativo razonable y pobre. Para eso usamos un indicador que se llama $$R^2$$.\r\n",
        "\r\n",
        "Por lo general, nuestro R cuadrado se considera como un valor porcentual y puede variar de 0 a 100 por ciento. Cuanto mayor sea, mayor será el poder explicativo del modelo de regresión. Típicamente, una regresión simple con una R al cuadrado de menos del 10 por ciento tiene poco valor predictivo. Una regresión variable con una R al cuadrado del 30 por ciento o más son indicadores sólidos de rendimiento futuro."
      ]
    },
    {
      "cell_type": "code",
      "metadata": {
        "colab": {
          "base_uri": "https://localhost:8080/"
        },
        "id": "-mTofiS5hjaR",
        "outputId": "18440157-246b-42e9-e408-2eeb2a22e8b0"
      },
      "source": [
        "import numpy as np\n",
        "import pandas as pd\n",
        "\n",
        "from scipy import stats\n",
        "import statsmodels.api as sm \n",
        "\n",
        "import matplotlib.pyplot as plt"
      ],
      "execution_count": 1,
      "outputs": [
        {
          "output_type": "stream",
          "text": [
            "/usr/local/lib/python3.6/dist-packages/statsmodels/tools/_testing.py:19: FutureWarning: pandas.util.testing is deprecated. Use the functions in the public API at pandas.testing instead.\n",
            "  import pandas.util.testing as tm\n"
          ],
          "name": "stderr"
        }
      ]
    },
    {
      "cell_type": "code",
      "metadata": {
        "id": "_lp6KsT3hjab"
      },
      "source": [
        "data = pd.read_excel('D:/Python/Data_Files/Housing.xlsx')"
      ],
      "execution_count": null,
      "outputs": []
    },
    {
      "cell_type": "code",
      "metadata": {
        "scrolled": true,
        "id": "XVg_2O3Mhjac",
        "outputId": "990475d5-8e2d-49fd-c6e5-1268129b7ca5"
      },
      "source": [
        "data"
      ],
      "execution_count": null,
      "outputs": [
        {
          "output_type": "execute_result",
          "data": {
            "text/html": [
              "<div>\n",
              "<style scoped>\n",
              "    .dataframe tbody tr th:only-of-type {\n",
              "        vertical-align: middle;\n",
              "    }\n",
              "\n",
              "    .dataframe tbody tr th {\n",
              "        vertical-align: top;\n",
              "    }\n",
              "\n",
              "    .dataframe thead th {\n",
              "        text-align: right;\n",
              "    }\n",
              "</style>\n",
              "<table border=\"1\" class=\"dataframe\">\n",
              "  <thead>\n",
              "    <tr style=\"text-align: right;\">\n",
              "      <th></th>\n",
              "      <th>House Price</th>\n",
              "      <th>House Size (sq.ft.)</th>\n",
              "      <th>State</th>\n",
              "      <th>Number of Rooms</th>\n",
              "      <th>Year of Construction</th>\n",
              "    </tr>\n",
              "  </thead>\n",
              "  <tbody>\n",
              "    <tr>\n",
              "      <th>0</th>\n",
              "      <td>1116000</td>\n",
              "      <td>1940</td>\n",
              "      <td>IN</td>\n",
              "      <td>8</td>\n",
              "      <td>2002</td>\n",
              "    </tr>\n",
              "    <tr>\n",
              "      <th>1</th>\n",
              "      <td>860000</td>\n",
              "      <td>1300</td>\n",
              "      <td>IN</td>\n",
              "      <td>5</td>\n",
              "      <td>1992</td>\n",
              "    </tr>\n",
              "    <tr>\n",
              "      <th>2</th>\n",
              "      <td>818400</td>\n",
              "      <td>1420</td>\n",
              "      <td>IN</td>\n",
              "      <td>6</td>\n",
              "      <td>1987</td>\n",
              "    </tr>\n",
              "    <tr>\n",
              "      <th>3</th>\n",
              "      <td>1000000</td>\n",
              "      <td>1680</td>\n",
              "      <td>IN</td>\n",
              "      <td>7</td>\n",
              "      <td>2000</td>\n",
              "    </tr>\n",
              "    <tr>\n",
              "      <th>4</th>\n",
              "      <td>640000</td>\n",
              "      <td>1270</td>\n",
              "      <td>IN</td>\n",
              "      <td>5</td>\n",
              "      <td>1995</td>\n",
              "    </tr>\n",
              "    <tr>\n",
              "      <th>5</th>\n",
              "      <td>1010000</td>\n",
              "      <td>1850</td>\n",
              "      <td>IN</td>\n",
              "      <td>7</td>\n",
              "      <td>1998</td>\n",
              "    </tr>\n",
              "    <tr>\n",
              "      <th>6</th>\n",
              "      <td>600000</td>\n",
              "      <td>1000</td>\n",
              "      <td>IN</td>\n",
              "      <td>4</td>\n",
              "      <td>2015</td>\n",
              "    </tr>\n",
              "    <tr>\n",
              "      <th>7</th>\n",
              "      <td>700000</td>\n",
              "      <td>1100</td>\n",
              "      <td>LA</td>\n",
              "      <td>4</td>\n",
              "      <td>2014</td>\n",
              "    </tr>\n",
              "    <tr>\n",
              "      <th>8</th>\n",
              "      <td>1100000</td>\n",
              "      <td>1600</td>\n",
              "      <td>LA</td>\n",
              "      <td>7</td>\n",
              "      <td>2017</td>\n",
              "    </tr>\n",
              "    <tr>\n",
              "      <th>9</th>\n",
              "      <td>570000</td>\n",
              "      <td>1000</td>\n",
              "      <td>NY</td>\n",
              "      <td>5</td>\n",
              "      <td>1997</td>\n",
              "    </tr>\n",
              "    <tr>\n",
              "      <th>10</th>\n",
              "      <td>860000</td>\n",
              "      <td>2150</td>\n",
              "      <td>NY</td>\n",
              "      <td>9</td>\n",
              "      <td>1997</td>\n",
              "    </tr>\n",
              "    <tr>\n",
              "      <th>11</th>\n",
              "      <td>1085000</td>\n",
              "      <td>1900</td>\n",
              "      <td>NY</td>\n",
              "      <td>9</td>\n",
              "      <td>2000</td>\n",
              "    </tr>\n",
              "    <tr>\n",
              "      <th>12</th>\n",
              "      <td>1250000</td>\n",
              "      <td>2200</td>\n",
              "      <td>NY</td>\n",
              "      <td>9</td>\n",
              "      <td>2014</td>\n",
              "    </tr>\n",
              "    <tr>\n",
              "      <th>13</th>\n",
              "      <td>850000</td>\n",
              "      <td>1100</td>\n",
              "      <td>TX</td>\n",
              "      <td>4</td>\n",
              "      <td>2017</td>\n",
              "    </tr>\n",
              "    <tr>\n",
              "      <th>14</th>\n",
              "      <td>640000</td>\n",
              "      <td>860</td>\n",
              "      <td>TX</td>\n",
              "      <td>4</td>\n",
              "      <td>1997</td>\n",
              "    </tr>\n",
              "    <tr>\n",
              "      <th>15</th>\n",
              "      <td>900000</td>\n",
              "      <td>1325</td>\n",
              "      <td>TX</td>\n",
              "      <td>6</td>\n",
              "      <td>1997</td>\n",
              "    </tr>\n",
              "    <tr>\n",
              "      <th>16</th>\n",
              "      <td>730000</td>\n",
              "      <td>1350</td>\n",
              "      <td>TX</td>\n",
              "      <td>6</td>\n",
              "      <td>2000</td>\n",
              "    </tr>\n",
              "    <tr>\n",
              "      <th>17</th>\n",
              "      <td>750000</td>\n",
              "      <td>1600</td>\n",
              "      <td>TX</td>\n",
              "      <td>6</td>\n",
              "      <td>1992</td>\n",
              "    </tr>\n",
              "    <tr>\n",
              "      <th>18</th>\n",
              "      <td>650000</td>\n",
              "      <td>950</td>\n",
              "      <td>TX</td>\n",
              "      <td>2</td>\n",
              "      <td>1987</td>\n",
              "    </tr>\n",
              "    <tr>\n",
              "      <th>19</th>\n",
              "      <td>680000</td>\n",
              "      <td>1250</td>\n",
              "      <td>TX</td>\n",
              "      <td>4</td>\n",
              "      <td>2000</td>\n",
              "    </tr>\n",
              "  </tbody>\n",
              "</table>\n",
              "</div>"
            ],
            "text/plain": [
              "    House Price  House Size (sq.ft.) State  Number of Rooms  \\\n",
              "0       1116000                 1940    IN                8   \n",
              "1        860000                 1300    IN                5   \n",
              "2        818400                 1420    IN                6   \n",
              "3       1000000                 1680    IN                7   \n",
              "4        640000                 1270    IN                5   \n",
              "5       1010000                 1850    IN                7   \n",
              "6        600000                 1000    IN                4   \n",
              "7        700000                 1100   LA                 4   \n",
              "8       1100000                 1600   LA                 7   \n",
              "9        570000                 1000    NY                5   \n",
              "10       860000                 2150    NY                9   \n",
              "11      1085000                 1900    NY                9   \n",
              "12      1250000                 2200    NY                9   \n",
              "13       850000                 1100    TX                4   \n",
              "14       640000                  860    TX                4   \n",
              "15       900000                 1325    TX                6   \n",
              "16       730000                 1350    TX                6   \n",
              "17       750000                 1600    TX                6   \n",
              "18       650000                  950    TX                2   \n",
              "19       680000                 1250    TX                4   \n",
              "\n",
              "    Year of Construction  \n",
              "0                   2002  \n",
              "1                   1992  \n",
              "2                   1987  \n",
              "3                   2000  \n",
              "4                   1995  \n",
              "5                   1998  \n",
              "6                   2015  \n",
              "7                   2014  \n",
              "8                   2017  \n",
              "9                   1997  \n",
              "10                  1997  \n",
              "11                  2000  \n",
              "12                  2014  \n",
              "13                  2017  \n",
              "14                  1997  \n",
              "15                  1997  \n",
              "16                  2000  \n",
              "17                  1992  \n",
              "18                  1987  \n",
              "19                  2000  "
            ]
          },
          "metadata": {
            "tags": []
          },
          "execution_count": 3
        }
      ]
    },
    {
      "cell_type": "code",
      "metadata": {
        "scrolled": true,
        "id": "RTaAVrg3hjad",
        "outputId": "1a0e033f-4494-4ab0-e5de-1890d3636464"
      },
      "source": [
        "data[['House Price', 'House Size (sq.ft.)']]"
      ],
      "execution_count": null,
      "outputs": [
        {
          "output_type": "execute_result",
          "data": {
            "text/html": [
              "<div>\n",
              "<style scoped>\n",
              "    .dataframe tbody tr th:only-of-type {\n",
              "        vertical-align: middle;\n",
              "    }\n",
              "\n",
              "    .dataframe tbody tr th {\n",
              "        vertical-align: top;\n",
              "    }\n",
              "\n",
              "    .dataframe thead th {\n",
              "        text-align: right;\n",
              "    }\n",
              "</style>\n",
              "<table border=\"1\" class=\"dataframe\">\n",
              "  <thead>\n",
              "    <tr style=\"text-align: right;\">\n",
              "      <th></th>\n",
              "      <th>House Price</th>\n",
              "      <th>House Size (sq.ft.)</th>\n",
              "    </tr>\n",
              "  </thead>\n",
              "  <tbody>\n",
              "    <tr>\n",
              "      <th>0</th>\n",
              "      <td>1116000</td>\n",
              "      <td>1940</td>\n",
              "    </tr>\n",
              "    <tr>\n",
              "      <th>1</th>\n",
              "      <td>860000</td>\n",
              "      <td>1300</td>\n",
              "    </tr>\n",
              "    <tr>\n",
              "      <th>2</th>\n",
              "      <td>818400</td>\n",
              "      <td>1420</td>\n",
              "    </tr>\n",
              "    <tr>\n",
              "      <th>3</th>\n",
              "      <td>1000000</td>\n",
              "      <td>1680</td>\n",
              "    </tr>\n",
              "    <tr>\n",
              "      <th>4</th>\n",
              "      <td>640000</td>\n",
              "      <td>1270</td>\n",
              "    </tr>\n",
              "    <tr>\n",
              "      <th>5</th>\n",
              "      <td>1010000</td>\n",
              "      <td>1850</td>\n",
              "    </tr>\n",
              "    <tr>\n",
              "      <th>6</th>\n",
              "      <td>600000</td>\n",
              "      <td>1000</td>\n",
              "    </tr>\n",
              "    <tr>\n",
              "      <th>7</th>\n",
              "      <td>700000</td>\n",
              "      <td>1100</td>\n",
              "    </tr>\n",
              "    <tr>\n",
              "      <th>8</th>\n",
              "      <td>1100000</td>\n",
              "      <td>1600</td>\n",
              "    </tr>\n",
              "    <tr>\n",
              "      <th>9</th>\n",
              "      <td>570000</td>\n",
              "      <td>1000</td>\n",
              "    </tr>\n",
              "    <tr>\n",
              "      <th>10</th>\n",
              "      <td>860000</td>\n",
              "      <td>2150</td>\n",
              "    </tr>\n",
              "    <tr>\n",
              "      <th>11</th>\n",
              "      <td>1085000</td>\n",
              "      <td>1900</td>\n",
              "    </tr>\n",
              "    <tr>\n",
              "      <th>12</th>\n",
              "      <td>1250000</td>\n",
              "      <td>2200</td>\n",
              "    </tr>\n",
              "    <tr>\n",
              "      <th>13</th>\n",
              "      <td>850000</td>\n",
              "      <td>1100</td>\n",
              "    </tr>\n",
              "    <tr>\n",
              "      <th>14</th>\n",
              "      <td>640000</td>\n",
              "      <td>860</td>\n",
              "    </tr>\n",
              "    <tr>\n",
              "      <th>15</th>\n",
              "      <td>900000</td>\n",
              "      <td>1325</td>\n",
              "    </tr>\n",
              "    <tr>\n",
              "      <th>16</th>\n",
              "      <td>730000</td>\n",
              "      <td>1350</td>\n",
              "    </tr>\n",
              "    <tr>\n",
              "      <th>17</th>\n",
              "      <td>750000</td>\n",
              "      <td>1600</td>\n",
              "    </tr>\n",
              "    <tr>\n",
              "      <th>18</th>\n",
              "      <td>650000</td>\n",
              "      <td>950</td>\n",
              "    </tr>\n",
              "    <tr>\n",
              "      <th>19</th>\n",
              "      <td>680000</td>\n",
              "      <td>1250</td>\n",
              "    </tr>\n",
              "  </tbody>\n",
              "</table>\n",
              "</div>"
            ],
            "text/plain": [
              "    House Price  House Size (sq.ft.)\n",
              "0       1116000                 1940\n",
              "1        860000                 1300\n",
              "2        818400                 1420\n",
              "3       1000000                 1680\n",
              "4        640000                 1270\n",
              "5       1010000                 1850\n",
              "6        600000                 1000\n",
              "7        700000                 1100\n",
              "8       1100000                 1600\n",
              "9        570000                 1000\n",
              "10       860000                 2150\n",
              "11      1085000                 1900\n",
              "12      1250000                 2200\n",
              "13       850000                 1100\n",
              "14       640000                  860\n",
              "15       900000                 1325\n",
              "16       730000                 1350\n",
              "17       750000                 1600\n",
              "18       650000                  950\n",
              "19       680000                 1250"
            ]
          },
          "metadata": {
            "tags": []
          },
          "execution_count": 4
        }
      ]
    },
    {
      "cell_type": "markdown",
      "metadata": {
        "id": "ypGrSftIhjad"
      },
      "source": [
        "### Univariate Regression"
      ]
    },
    {
      "cell_type": "code",
      "metadata": {
        "id": "iXxW58nohsig"
      },
      "source": [
        "#X es el valor de los metros cuadrados de las casas.\r\n",
        "X = np.array([1940,1300,1420,1680,1270,1850,1000,1100,1600,1000,2150,1900,2200,1100,860,1325,1350,1600, 950,1250])\r\n",
        "#Y representa el precio de las casas\r\n",
        "Y = np.array([1116000,860000,818400,1000000,640000,1010000,600000,700000,1100000,570000,860000,1085000,1250000,850000,640000,900000,730000,750000,650000,680000])"
      ],
      "execution_count": 119,
      "outputs": []
    },
    {
      "cell_type": "code",
      "metadata": {
        "colab": {
          "base_uri": "https://localhost:8080/"
        },
        "id": "RQroJ5-cv8hY",
        "outputId": "eadbecb9-5740-4384-e4a6-1e0a19a2c59c"
      },
      "source": [
        "X.reshape(-1, 1)"
      ],
      "execution_count": 94,
      "outputs": [
        {
          "output_type": "execute_result",
          "data": {
            "text/plain": [
              "array([[1940],\n",
              "       [1300],\n",
              "       [1420],\n",
              "       [1680],\n",
              "       [1270],\n",
              "       [1850],\n",
              "       [1000],\n",
              "       [1100],\n",
              "       [1600],\n",
              "       [1000],\n",
              "       [2150],\n",
              "       [1900],\n",
              "       [2200],\n",
              "       [1100],\n",
              "       [ 860],\n",
              "       [1325],\n",
              "       [1350],\n",
              "       [1600],\n",
              "       [ 950],\n",
              "       [1250]])"
            ]
          },
          "metadata": {
            "tags": []
          },
          "execution_count": 94
        }
      ]
    },
    {
      "cell_type": "code",
      "metadata": {
        "colab": {
          "base_uri": "https://localhost:8080/"
        },
        "id": "6XdJB5Zav-JW",
        "outputId": "c7120f5d-63a1-447f-aacb-71b264254837"
      },
      "source": [
        "Y"
      ],
      "execution_count": 95,
      "outputs": [
        {
          "output_type": "execute_result",
          "data": {
            "text/plain": [
              "array([1116000,  860000,  818400, 1000000,  640000, 1010000,  600000,\n",
              "        700000, 1100000,  570000,  860000, 1085000, 1250000,  850000,\n",
              "        640000,  900000,  730000,  750000,  650000,  680000])"
            ]
          },
          "metadata": {
            "tags": []
          },
          "execution_count": 95
        }
      ]
    },
    {
      "cell_type": "code",
      "metadata": {
        "scrolled": true,
        "colab": {
          "base_uri": "https://localhost:8080/",
          "height": 276
        },
        "id": "PDdZIwrFhjaf",
        "outputId": "402ace12-e687-4c10-d382-c9c100d4172a"
      },
      "source": [
        "plt.scatter(X,Y)\n",
        "plt.show()"
      ],
      "execution_count": 120,
      "outputs": [
        {
          "output_type": "display_data",
          "data": {
            "image/png": "[encoded data removed]",
            "text/plain": [
              "<Figure size 432x288 with 1 Axes>"
            ]
          },
          "metadata": {
            "tags": [],
            "needs_background": "light"
          }
        }
      ]
    },
    {
      "cell_type": "code",
      "metadata": {
        "scrolled": false,
        "colab": {
          "base_uri": "https://localhost:8080/",
          "height": 290
        },
        "id": "m1mbtFGahjag",
        "outputId": "41ff284b-2013-4549-aa61-14d4b43ba920"
      },
      "source": [
        "plt.scatter(X,Y)\n",
        "plt.axis([0, 2500, 0, 1500000]) #ajustamos los ejes, el primer gráfico es engañoso.\n",
        "plt.ylabel('House Price')\n",
        "plt.xlabel('House Size (sq.ft)')\n",
        "plt.show()"
      ],
      "execution_count": 121,
      "outputs": [
        {
          "output_type": "display_data",
          "data": {
            "image/png": "[encoded data removed]",
            "text/plain": [
              "<Figure size 432x288 with 1 Axes>"
            ]
          },
          "metadata": {
            "tags": [],
            "needs_background": "light"
          }
        }
      ]
    },
    {
      "cell_type": "code",
      "metadata": {
        "id": "6DkmKn43x0UO"
      },
      "source": [
        "X1 = sm.add_constant(X) #creamos una constante con la variable X.\r\n",
        "reg = sm.OLS(Y, X1).fit() #entrenamos el modelo."
      ],
      "execution_count": 122,
      "outputs": []
    },
    {
      "cell_type": "code",
      "metadata": {
        "colab": {
          "base_uri": "https://localhost:8080/",
          "height": 478
        },
        "id": "H15UTNFmyBC3",
        "outputId": "92d203c4-f044-4497-e059-e0234e4cf483"
      },
      "source": [
        "reg.summary()"
      ],
      "execution_count": 123,
      "outputs": [
        {
          "output_type": "execute_result",
          "data": {
            "text/html": [
              "<table class=\"simpletable\">\n",
              "<caption>OLS Regression Results</caption>\n",
              "<tr>\n",
              "  <th>Dep. Variable:</th>            <td>y</td>        <th>  R-squared:         </th> <td>   0.678</td>\n",
              "</tr>\n",
              "<tr>\n",
              "  <th>Model:</th>                   <td>OLS</td>       <th>  Adj. R-squared:    </th> <td>   0.660</td>\n",
              "</tr>\n",
              "<tr>\n",
              "  <th>Method:</th>             <td>Least Squares</td>  <th>  F-statistic:       </th> <td>   37.95</td>\n",
              "</tr>\n",
              "<tr>\n",
              "  <th>Date:</th>             <td>Sun, 14 Feb 2021</td> <th>  Prob (F-statistic):</th> <td>8.13e-06</td>\n",
              "</tr>\n",
              "<tr>\n",
              "  <th>Time:</th>                 <td>18:42:41</td>     <th>  Log-Likelihood:    </th> <td> -260.43</td>\n",
              "</tr>\n",
              "<tr>\n",
              "  <th>No. Observations:</th>      <td>    20</td>      <th>  AIC:               </th> <td>   524.9</td>\n",
              "</tr>\n",
              "<tr>\n",
              "  <th>Df Residuals:</th>          <td>    18</td>      <th>  BIC:               </th> <td>   526.8</td>\n",
              "</tr>\n",
              "<tr>\n",
              "  <th>Df Model:</th>              <td>     1</td>      <th>                     </th>     <td> </td>   \n",
              "</tr>\n",
              "<tr>\n",
              "  <th>Covariance Type:</th>      <td>nonrobust</td>    <th>                     </th>     <td> </td>   \n",
              "</tr>\n",
              "</table>\n",
              "<table class=\"simpletable\">\n",
              "<tr>\n",
              "    <td></td>       <th>coef</th>     <th>std err</th>      <th>t</th>      <th>P>|t|</th>  <th>[0.025</th>    <th>0.975]</th>  \n",
              "</tr>\n",
              "<tr>\n",
              "  <th>const</th> <td> 2.608e+05</td> <td> 9.76e+04</td> <td>    2.673</td> <td> 0.016</td> <td> 5.58e+04</td> <td> 4.66e+05</td>\n",
              "</tr>\n",
              "<tr>\n",
              "  <th>x1</th>    <td>  401.9163</td> <td>   65.243</td> <td>    6.160</td> <td> 0.000</td> <td>  264.846</td> <td>  538.987</td>\n",
              "</tr>\n",
              "</table>\n",
              "<table class=\"simpletable\">\n",
              "<tr>\n",
              "  <th>Omnibus:</th>       <td> 1.238</td> <th>  Durbin-Watson:     </th> <td>   1.810</td>\n",
              "</tr>\n",
              "<tr>\n",
              "  <th>Prob(Omnibus):</th> <td> 0.538</td> <th>  Jarque-Bera (JB):  </th> <td>   0.715</td>\n",
              "</tr>\n",
              "<tr>\n",
              "  <th>Skew:</th>          <td>-0.459</td> <th>  Prob(JB):          </th> <td>   0.699</td>\n",
              "</tr>\n",
              "<tr>\n",
              "  <th>Kurtosis:</th>      <td> 2.884</td> <th>  Cond. No.          </th> <td>5.66e+03</td>\n",
              "</tr>\n",
              "</table><br/><br/>Warnings:<br/>[1] Standard Errors assume that the covariance matrix of the errors is correctly specified.<br/>[2] The condition number is large, 5.66e+03. This might indicate that there are<br/>strong multicollinearity or other numerical problems."
            ],
            "text/plain": [
              "<class 'statsmodels.iolib.summary.Summary'>\n",
              "\"\"\"\n",
              "                            OLS Regression Results                            \n",
              "==============================================================================\n",
              "Dep. Variable:                      y   R-squared:                       0.678\n",
              "Model:                            OLS   Adj. R-squared:                  0.660\n",
              "Method:                 Least Squares   F-statistic:                     37.95\n",
              "Date:                Sun, 14 Feb 2021   Prob (F-statistic):           8.13e-06\n",
              "Time:                        18:42:41   Log-Likelihood:                -260.43\n",
              "No. Observations:                  20   AIC:                             524.9\n",
              "Df Residuals:                      18   BIC:                             526.8\n",
              "Df Model:                           1                                         \n",
              "Covariance Type:            nonrobust                                         \n",
              "==============================================================================\n",
              "                 coef    std err          t      P>|t|      [0.025      0.975]\n",
              "------------------------------------------------------------------------------\n",
              "const       2.608e+05   9.76e+04      2.673      0.016    5.58e+04    4.66e+05\n",
              "x1           401.9163     65.243      6.160      0.000     264.846     538.987\n",
              "==============================================================================\n",
              "Omnibus:                        1.238   Durbin-Watson:                   1.810\n",
              "Prob(Omnibus):                  0.538   Jarque-Bera (JB):                0.715\n",
              "Skew:                          -0.459   Prob(JB):                        0.699\n",
              "Kurtosis:                       2.884   Cond. No.                     5.66e+03\n",
              "==============================================================================\n",
              "\n",
              "Warnings:\n",
              "[1] Standard Errors assume that the covariance matrix of the errors is correctly specified.\n",
              "[2] The condition number is large, 5.66e+03. This might indicate that there are\n",
              "strong multicollinearity or other numerical problems.\n",
              "\"\"\""
            ]
          },
          "metadata": {
            "tags": []
          },
          "execution_count": 123
        }
      ]
    },
    {
      "cell_type": "markdown",
      "metadata": {
        "id": "DaTiT0jv1XaM"
      },
      "source": [
        "El valor de $R^2$ obtenido, significa que la variable independiente en el tamaño de nuestra  puede explicar el 67.8 %  de la variable dependiente.  Este valor es mucho mayor al 30 por ciento. Entonces podemos afirmar que nuestro modelo tiene un buen poder explicativo. Por lo tanto, es un buen modelo."
      ]
    },
    {
      "cell_type": "code",
      "metadata": {
        "id": "frc4xpyZ1XNL"
      },
      "source": [
        ""
      ],
      "execution_count": null,
      "outputs": []
    },
    {
      "cell_type": "markdown",
      "metadata": {
        "id": "EA6VM9icyK9-"
      },
      "source": [
        "##Alpha, Beta y $R^2$"
      ]
    },
    {
      "cell_type": "code",
      "metadata": {
        "id": "0e-zBmq9yEKC"
      },
      "source": [
        "slope, intercept, r_value, p_value, std_error = stats.linregress(X, Y)"
      ],
      "execution_count": 103,
      "outputs": []
    },
    {
      "cell_type": "markdown",
      "metadata": {
        "id": "oQ0CAMKC2N0h"
      },
      "source": [
        "Pendiente"
      ]
    },
    {
      "cell_type": "code",
      "metadata": {
        "colab": {
          "base_uri": "https://localhost:8080/"
        },
        "id": "nxKPeZv6yiPy",
        "outputId": "a0f6a2e7-e166-4a5b-beaf-23b213c8e20d"
      },
      "source": [
        "slope "
      ],
      "execution_count": 104,
      "outputs": [
        {
          "output_type": "execute_result",
          "data": {
            "text/plain": [
              "401.91628631922595"
            ]
          },
          "metadata": {
            "tags": []
          },
          "execution_count": 104
        }
      ]
    },
    {
      "cell_type": "markdown",
      "metadata": {
        "id": "YzfRKTFn2Pkc"
      },
      "source": [
        "Intercepto"
      ]
    },
    {
      "cell_type": "code",
      "metadata": {
        "colab": {
          "base_uri": "https://localhost:8080/"
        },
        "id": "lJMUYGkOykKm",
        "outputId": "2ff4ea7f-13ec-4b6c-8126-5e0286942c70"
      },
      "source": [
        "intercept"
      ],
      "execution_count": 105,
      "outputs": [
        {
          "output_type": "execute_result",
          "data": {
            "text/plain": [
              "260806.2360560964"
            ]
          },
          "metadata": {
            "tags": []
          },
          "execution_count": 105
        }
      ]
    },
    {
      "cell_type": "code",
      "metadata": {
        "colab": {
          "base_uri": "https://localhost:8080/"
        },
        "id": "LzBRDqr4ymlA",
        "outputId": "5e4f1c78-a4e1-4d4c-9b83-86dd69825c82"
      },
      "source": [
        " r_value**2 #debemos elevar al cuadrado para obtener el valor de R^2."
      ],
      "execution_count": 124,
      "outputs": [
        {
          "output_type": "execute_result",
          "data": {
            "text/plain": [
              "0.678279986579124"
            ]
          },
          "metadata": {
            "tags": []
          },
          "execution_count": 124
        }
      ]
    },
    {
      "cell_type": "code",
      "metadata": {
        "colab": {
          "base_uri": "https://localhost:8080/"
        },
        "id": "W4s3sXiMyorw",
        "outputId": "741a1706-9a80-4eb0-b042-f455b1aca590"
      },
      "source": [
        "p_value"
      ],
      "execution_count": 107,
      "outputs": [
        {
          "output_type": "execute_result",
          "data": {
            "text/plain": [
              "8.129642377231308e-06"
            ]
          },
          "metadata": {
            "tags": []
          },
          "execution_count": 107
        }
      ]
    },
    {
      "cell_type": "markdown",
      "metadata": {
        "id": "OWFh6P173NQq"
      },
      "source": [
        "El error estándar de  65 dólares nos dice que un aumento de 401 dólares (pendiente) generalmente variará dentro de un rango de 65 dólares."
      ]
    },
    {
      "cell_type": "code",
      "metadata": {
        "colab": {
          "base_uri": "https://localhost:8080/"
        },
        "id": "xqfa5wYUyqdJ",
        "outputId": "185b48c6-9064-421c-eabb-88d120b9b41d"
      },
      "source": [
        "std_error"
      ],
      "execution_count": 108,
      "outputs": [
        {
          "output_type": "execute_result",
          "data": {
            "text/plain": [
              "65.24299510636492"
            ]
          },
          "metadata": {
            "tags": []
          },
          "execution_count": 108
        }
      ]
    },
    {
      "cell_type": "markdown",
      "metadata": {
        "id": "vdzOhLl15fsU"
      },
      "source": [
        "#Regresión lineal con TensorFlow"
      ]
    },
    {
      "cell_type": "code",
      "metadata": {
        "id": "EYZxlFT352su"
      },
      "source": [
        "!pip install tensorflow"
      ],
      "execution_count": null,
      "outputs": []
    },
    {
      "cell_type": "code",
      "metadata": {
        "id": "Jw5Z0pij5gCI"
      },
      "source": [
        "import tensorflow as tf\r\n",
        "import numpy as np\r\n",
        "from tensorflow import keras\r\n",
        "import matplotlib.pyplot as plt"
      ],
      "execution_count": 2,
      "outputs": []
    },
    {
      "cell_type": "code",
      "metadata": {
        "colab": {
          "base_uri": "https://localhost:8080/",
          "height": 35
        },
        "id": "_aLKEPul9wUs",
        "outputId": "b9495b3d-eb49-4312-f75c-7aef8f8e678e"
      },
      "source": [
        "tf.__version__"
      ],
      "execution_count": 3,
      "outputs": [
        {
          "output_type": "execute_result",
          "data": {
            "application/vnd.google.colaboratory.intrinsic+json": {
              "type": "string"
            },
            "text/plain": [
              "'2.0.0'"
            ]
          },
          "metadata": {
            "tags": []
          },
          "execution_count": 3
        }
      ]
    },
    {
      "cell_type": "markdown",
      "metadata": {
        "id": "GAviN9SZ6E72"
      },
      "source": [
        "#Definir y compilar la red neuronal\r\n",
        "A continuación crearemos la red neuronal más simple posible. Tiene 1 capa, y esa capa tiene 1 neurona, y la forma de entrada a ella es sólo 1 valor."
      ]
    },
    {
      "cell_type": "code",
      "metadata": {
        "id": "EJ-uuhZT6EUY"
      },
      "source": [
        "model = tf.keras.Sequential([keras.layers.Dense(units=1, input_shape=[1])])"
      ],
      "execution_count": 4,
      "outputs": []
    },
    {
      "cell_type": "markdown",
      "metadata": {
        "id": "drDvrTTJ6LJn"
      },
      "source": [
        "Ahora compilamos nuestra Red Neural. Cuando lo hacemos, tenemos que especificar 2 funciones, una pérdida y un optimizador.\r\n",
        "\r\n",
        "Si ha visto muchas matemáticas para el aprendizaje automático, aquí es donde se suele usar, pero en este caso está bien encapsulado en funciones para usted. Pero lo que pasa aquí— vamos a explicar...\r\n",
        "\r\n",
        "Sabemos que en nuestra función, la relación entre los números es y=2x-1.\r\n",
        "\r\n",
        "Cuando el ordenador está tratando de 'aprender' eso, hace una suposición... tal vez y = 10x +10. La función LOSS mide las respuestas adivinadas con respecto a las respuestas correctas conocidas y mide qué tan bien o qué tan mal lo hizo.\r\n",
        "\r\n",
        "A continuación, utiliza la función OPTIMIZER para hacer otra suposición. En función de cómo fue la función de pérdida, tratará de minimizar la pérdida. En ese momento tal vez se le ocurre un poco como y = 5x + 5, que, si bien todavía es bastante malo, está más cerca del resultado correcto (es decir, la pérdida es menor)\r\n",
        "\r\n",
        "Se repetirá esto para el número de EPOCHS que verá en breve. Pero primero, así es como le decimos que use 'MEAN SQUARED ERROR' para la pérdida y 'STOCHASTIC GRADIENT DESCENT' para el optimizador. Usted no necesita entender las matemáticas para estos todavía, pero se puede ver que funcionan!.\r\n",
        "\r\n",
        "Con el tiempo aprenderá las diferentes y apropiadas funciones de pérdida y optimizador para diferentes escenarios."
      ]
    },
    {
      "cell_type": "code",
      "metadata": {
        "id": "Q7bLCneJ57uq"
      },
      "source": [
        "model.compile(optimizer='sgd', loss='mean_squared_error')"
      ],
      "execution_count": 5,
      "outputs": []
    },
    {
      "cell_type": "code",
      "metadata": {
        "id": "MDgi1vKK9STz"
      },
      "source": [
        "xs = np.array([-1.0,  0.0, 1.0, 2.0, 3.0, 4.0], dtype=float)\r\n",
        "ys = np.array([-3.0, -1.0, 1.0, 3.0, 5.0, 7.0], dtype=float)"
      ],
      "execution_count": 6,
      "outputs": []
    },
    {
      "cell_type": "markdown",
      "metadata": {
        "id": "HmAGyvOC6izy"
      },
      "source": [
        "#Training the Neural Network\r\n",
        "\r\n",
        "El proceso de entrenamiento de la red neuronal, donde 'aprende' la relación entre las X y las Ys está en la llamada model.fit. Aquí es donde va a pasar por el bucle que hablamos anteriormente, haciendo una suposición, midiendo lo bueno o malo que es (también conocido como la pérdida), el uso del opimizer para hacer otra suposición, etc. Lo hará por el número de épocas que especifique. Cuando ejecute este código, verá la pérdida en el lado derecho. En cada epoch se realiza una conjetura, usamos la función de pérdida para averiguar lo bien o mal que lo hizo. Luego usamos el optimizador para hacer otra conjetura."
      ]
    },
    {
      "cell_type": "code",
      "metadata": {
        "id": "reiCcgjZ6m6Q"
      },
      "source": [
        "model.fit(xs, ys, epochs=1000, verbose = 0)"
      ],
      "execution_count": null,
      "outputs": []
    },
    {
      "cell_type": "markdown",
      "metadata": {
        "id": "MHBsj4Xb6N-Y"
      },
      "source": [
        "Ok, ahora tienes un modelo que ha sido entrenado para aprender la relación entre X e Y. Puede utilizar el método model.predict para que descubra la Y de una X previamente conocida. Así, por ejemplo, si X es 1000, ¿qué crees que será Y? Adivine antes de ejecutar este código:"
      ]
    },
    {
      "cell_type": "code",
      "metadata": {
        "colab": {
          "base_uri": "https://localhost:8080/"
        },
        "id": "3smfRbyQ6sEg",
        "outputId": "f0c05dc3-5d32-41ce-91f7-8a5ce775d600"
      },
      "source": [
        "print(model.predict([10.0]))"
      ],
      "execution_count": 8,
      "outputs": [
        {
          "output_type": "stream",
          "text": [
            "[[18.999916]]\n"
          ],
          "name": "stdout"
        }
      ]
    },
    {
      "cell_type": "markdown",
      "metadata": {
        "id": "QgFmrKH36wz6"
      },
      "source": [
        "De esta forma podemos saber cuales son los parámetros de la función y = mx + n."
      ]
    },
    {
      "cell_type": "code",
      "metadata": {
        "colab": {
          "base_uri": "https://localhost:8080/"
        },
        "id": "jiiQgAxa60VQ",
        "outputId": "d5590005-34e6-4646-fc18-f11fafbe576a"
      },
      "source": [
        "#Nuestra red tiene una sola capa. \r\n",
        "#Permite mostrar el valor de m & b en la ecuación lineal y = mx + b\r\n",
        "\r\n",
        "#print(model.layers)\r\n",
        "m,n = model.layers[0].get_weights()\r\n",
        "print(\"El valor de m es :\",m)\r\n",
        "print(\"El valor de n es: \", n)"
      ],
      "execution_count": 9,
      "outputs": [
        {
          "output_type": "stream",
          "text": [
            "El valor de m es : [[1.999988]]\n",
            "El valor de n es:  [-0.999964]\n"
          ],
          "name": "stdout"
        }
      ]
    }
  ]
}
