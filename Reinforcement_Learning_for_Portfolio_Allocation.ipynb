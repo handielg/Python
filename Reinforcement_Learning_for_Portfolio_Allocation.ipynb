{
  "nbformat": 4,
  "nbformat_minor": 0,
  "metadata": {
    "colab": {
      "name": "Reinforcement Learning for Portfolio Allocation.ipynb",
      "provenance": [],
      "authorship_tag": "ABX9TyNJArk8RH81zfj8EdgqOQD7",
      "include_colab_link": true
    },
    "kernelspec": {
      "name": "python3",
      "display_name": "Python 3"
    }
  },
  "cells": [
    {
      "cell_type": "markdown",
      "metadata": {
        "id": "view-in-github",
        "colab_type": "text"
      },
      "source": [
        "<a href=\"https://colab.research.google.com/github/handielg/Python/blob/main/Reinforcement_Learning_for_Portfolio_Allocation.ipynb\" target=\"_parent\"><img src=\"https://colab.research.google.com/assets/colab-badge.svg\" alt=\"Open In Colab\"/></a>"
      ]
    },
    {
      "cell_type": "markdown",
      "metadata": {
        "id": "A2nF0BD-oa_E"
      },
      "source": [
        "#Reinforcement Learning for Portfolio Allocation¶\n",
        "\n",
        "En este caso de estudio, similar al caso de estudio 1 de este capítulo, usaremos los modelos de aprendizaje reforzado para elaborar una política para la asignación óptima de la cartera entre un conjunto de criptomonedas."
      ]
    },
    {
      "cell_type": "code",
      "metadata": {
        "id": "tKGbm0o1oaCn"
      },
      "source": [
        ""
      ],
      "execution_count": null,
      "outputs": []
    }
  ]
}