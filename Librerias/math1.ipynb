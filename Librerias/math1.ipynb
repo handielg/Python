{
  "nbformat": 4,
  "nbformat_minor": 0,
  "metadata": {
    "colab": {
      "name": "math1.ipynb",
      "provenance": [],
      "authorship_tag": "ABX9TyO15IrBZtuERNTzGWW06pvw",
      "include_colab_link": true
    },
    "kernelspec": {
      "name": "python3",
      "display_name": "Python 3"
    }
  },
  "cells": [
    {
      "cell_type": "markdown",
      "metadata": {
        "id": "view-in-github",
        "colab_type": "text"
      },
      "source": [
        "<a href=\"https://colab.research.google.com/github/handielg/Python/blob/main/math1.ipynb\" target=\"_parent\"><img src=\"https://colab.research.google.com/assets/colab-badge.svg\" alt=\"Open In Colab\"/></a>"
      ]
    },
    {
      "cell_type": "markdown",
      "metadata": {
        "id": "q1TtWXo3zmt4"
      },
      "source": [
        "# La librería `math` tiene todas las funciones matamáticas que necesitemos."
      ]
    },
    {
      "cell_type": "code",
      "metadata": {
        "id": "dn_gbX_gxVla"
      },
      "source": [
        "import math"
      ],
      "execution_count": 3,
      "outputs": []
    },
    {
      "cell_type": "markdown",
      "metadata": {
        "id": "Zs_eipLjzLNb"
      },
      "source": [
        "Pi lo obtenemos de la siguiente forma"
      ]
    },
    {
      "cell_type": "code",
      "metadata": {
        "id": "U9TIZNHizKqI",
        "outputId": "109d1641-b268-49a1-f87b-5bd0f9911d2f",
        "colab": {
          "base_uri": "https://localhost:8080/",
          "height": 35
        }
      },
      "source": [
        "pi = math.pi\n",
        "pi"
      ],
      "execution_count": null,
      "outputs": [
        {
          "output_type": "execute_result",
          "data": {
            "text/plain": [
              "3.141592653589793"
            ]
          },
          "metadata": {
            "tags": []
          },
          "execution_count": 2
        }
      ]
    },
    {
      "cell_type": "markdown",
      "metadata": {
        "id": "EjQ2BpfRzST9"
      },
      "source": [
        "Euler de la siguiente:"
      ]
    },
    {
      "cell_type": "code",
      "metadata": {
        "id": "L1zMNIh3zUhp",
        "outputId": "4b883a3b-6523-4189-dfe8-572ae551af58",
        "colab": {
          "base_uri": "https://localhost:8080/",
          "height": 35
        }
      },
      "source": [
        "euler = math.e\n",
        "euler"
      ],
      "execution_count": null,
      "outputs": [
        {
          "output_type": "execute_result",
          "data": {
            "text/plain": [
              "2.718281828459045"
            ]
          },
          "metadata": {
            "tags": []
          },
          "execution_count": 3
        }
      ]
    },
    {
      "cell_type": "markdown",
      "metadata": {
        "id": "H8D6qERJzY4G"
      },
      "source": [
        "Tau es 2*pi"
      ]
    },
    {
      "cell_type": "code",
      "metadata": {
        "id": "Ajtqc8cyzb6M",
        "outputId": "e169f7dd-221e-40be-b872-4063a69cd9eb",
        "colab": {
          "base_uri": "https://localhost:8080/",
          "height": 35
        }
      },
      "source": [
        "tau = math.tau\n",
        "tau"
      ],
      "execution_count": null,
      "outputs": [
        {
          "output_type": "execute_result",
          "data": {
            "text/plain": [
              "6.283185307179586"
            ]
          },
          "metadata": {
            "tags": []
          },
          "execution_count": 4
        }
      ]
    },
    {
      "cell_type": "markdown",
      "metadata": {
        "id": "oZYnatj1zgs1"
      },
      "source": [
        "Para obtener el infinito"
      ]
    },
    {
      "cell_type": "code",
      "metadata": {
        "id": "s-cuWb3kz3P_",
        "outputId": "d8c3b08e-79a1-4af9-83bb-a432d493869f",
        "colab": {
          "base_uri": "https://localhost:8080/",
          "height": 35
        }
      },
      "source": [
        "infinito = math.inf\n",
        "infinito"
      ],
      "execution_count": null,
      "outputs": [
        {
          "output_type": "execute_result",
          "data": {
            "text/plain": [
              "inf"
            ]
          },
          "metadata": {
            "tags": []
          },
          "execution_count": 5
        }
      ]
    },
    {
      "cell_type": "markdown",
      "metadata": {
        "id": "2sG_vY3Pz8y_"
      },
      "source": [
        "Para obtener -infinito"
      ]
    },
    {
      "cell_type": "code",
      "metadata": {
        "id": "PwHrz0pCz_1c",
        "outputId": "0fc52abf-b3a3-49a7-eef3-ab054c00d0f5",
        "colab": {
          "base_uri": "https://localhost:8080/",
          "height": 35
        }
      },
      "source": [
        "-math.inf"
      ],
      "execution_count": null,
      "outputs": [
        {
          "output_type": "execute_result",
          "data": {
            "text/plain": [
              "-inf"
            ]
          },
          "metadata": {
            "tags": []
          },
          "execution_count": 6
        }
      ]
    },
    {
      "cell_type": "markdown",
      "metadata": {
        "id": "BYxfOPUDz_G7"
      },
      "source": [
        "Esta es otra forma de obtener infinito:"
      ]
    },
    {
      "cell_type": "code",
      "metadata": {
        "id": "UCteAF9L0GCo",
        "outputId": "3bd705aa-ac7a-44c9-e9ab-b6163a91b928",
        "colab": {
          "base_uri": "https://localhost:8080/",
          "height": 35
        }
      },
      "source": [
        "float(\"inf\") #float es un tipo de numeración, este de coma flotante(8 decimales) con menos precisión que los double, que tienen el doble de precisión (16 dígitos decimales)."
      ],
      "execution_count": null,
      "outputs": [
        {
          "output_type": "execute_result",
          "data": {
            "text/plain": [
              "inf"
            ]
          },
          "metadata": {
            "tags": []
          },
          "execution_count": 8
        }
      ]
    },
    {
      "cell_type": "markdown",
      "metadata": {
        "id": "WJDdw1OX0k1w"
      },
      "source": [
        "Para obtener un NaN (Not at Number), es decir, no es un número o la operación no se puede hacer. Este es diferente de Na, que quiere  decir no disponible, en inglés Not available."
      ]
    },
    {
      "cell_type": "code",
      "metadata": {
        "id": "iGcwvpaq0l8E",
        "outputId": "d6029627-e2a3-4496-c290-e52045050bf2",
        "colab": {
          "base_uri": "https://localhost:8080/",
          "height": 35
        }
      },
      "source": [
        "math.nan"
      ],
      "execution_count": null,
      "outputs": [
        {
          "output_type": "execute_result",
          "data": {
            "text/plain": [
              "nan"
            ]
          },
          "metadata": {
            "tags": []
          },
          "execution_count": 9
        }
      ]
    },
    {
      "cell_type": "markdown",
      "metadata": {
        "id": "fDsgC7AN0J3j"
      },
      "source": [
        "Otra forma."
      ]
    },
    {
      "cell_type": "code",
      "metadata": {
        "id": "HqMbgxpH1CP2",
        "outputId": "e0cd7417-47a6-4118-cf88-a65f160de6a1",
        "colab": {
          "base_uri": "https://localhost:8080/",
          "height": 35
        }
      },
      "source": [
        "float(\"nan\")"
      ],
      "execution_count": null,
      "outputs": [
        {
          "output_type": "execute_result",
          "data": {
            "text/plain": [
              "nan"
            ]
          },
          "metadata": {
            "tags": []
          },
          "execution_count": 10
        }
      ]
    },
    {
      "cell_type": "markdown",
      "metadata": {
        "id": "fNJyMa931Eug"
      },
      "source": [
        "Para calcular la raíz cuadrada de un número"
      ]
    },
    {
      "cell_type": "code",
      "metadata": {
        "id": "B34F5QNm1yBd",
        "outputId": "98cb2870-fd19-4dbe-f3c9-e8d0fc100721",
        "colab": {
          "base_uri": "https://localhost:8080/",
          "height": 35
        }
      },
      "source": [
        "math.sqrt(16)"
      ],
      "execution_count": null,
      "outputs": [
        {
          "output_type": "execute_result",
          "data": {
            "text/plain": [
              "4.0"
            ]
          },
          "metadata": {
            "tags": []
          },
          "execution_count": 13
        }
      ]
    },
    {
      "cell_type": "markdown",
      "metadata": {
        "id": "gWtPuZqV167b"
      },
      "source": [
        "Para calcular un logaritmo"
      ]
    },
    {
      "cell_type": "code",
      "metadata": {
        "id": "soPee6ek191C",
        "outputId": "a401d8fa-c11a-4814-de48-332eda66a0ae",
        "colab": {
          "base_uri": "https://localhost:8080/",
          "height": 35
        }
      },
      "source": [
        "math.log(1) #este es el neperiano, es decir en base e."
      ],
      "execution_count": null,
      "outputs": [
        {
          "output_type": "execute_result",
          "data": {
            "text/plain": [
              "0.0"
            ]
          },
          "metadata": {
            "tags": []
          },
          "execution_count": 14
        }
      ]
    },
    {
      "cell_type": "code",
      "metadata": {
        "id": "mPuvjOOY3NNE",
        "outputId": "449756c0-4a56-4f09-b659-e645b26b16a3",
        "colab": {
          "base_uri": "https://localhost:8080/",
          "height": 35
        }
      },
      "source": [
        "math.log(16,2) #este es el logaritmo de 16 en base 2."
      ],
      "execution_count": 6,
      "outputs": [
        {
          "output_type": "execute_result",
          "data": {
            "text/plain": [
              "4.0"
            ]
          },
          "metadata": {
            "tags": []
          },
          "execution_count": 6
        }
      ]
    },
    {
      "cell_type": "code",
      "metadata": {
        "id": "4J_Ovdoi3fSU",
        "outputId": "12aaee4f-178d-4ef5-96d3-2bd0130ca3d8",
        "colab": {
          "base_uri": "https://localhost:8080/",
          "height": 35
        }
      },
      "source": [
        "math.log1p(1e-5) #1p sinifica +1. Esto 1*(10^-5)"
      ],
      "execution_count": 11,
      "outputs": [
        {
          "output_type": "execute_result",
          "data": {
            "text/plain": [
              "9.999950000333332e-06"
            ]
          },
          "metadata": {
            "tags": []
          },
          "execution_count": 11
        }
      ]
    },
    {
      "cell_type": "code",
      "metadata": {
        "id": "vj3V_SCB4OZw",
        "outputId": "fe19b4ae-ef31-468e-ae04-3c48da6ad909",
        "colab": {
          "base_uri": "https://localhost:8080/",
          "height": 35
        }
      },
      "source": [
        "math.log10(15) #esto es logaritmo en base 10."
      ],
      "execution_count": 12,
      "outputs": [
        {
          "output_type": "execute_result",
          "data": {
            "text/plain": [
              "1.1760912590556813"
            ]
          },
          "metadata": {
            "tags": []
          },
          "execution_count": 12
        }
      ]
    },
    {
      "cell_type": "markdown",
      "metadata": {
        "id": "XyXan9YW2K8x"
      },
      "source": [
        "Si queremos e^x hacemos lo siguiente:"
      ]
    },
    {
      "cell_type": "code",
      "metadata": {
        "id": "Jqf7W9B12LZ2",
        "outputId": "3ac6d130-37d2-4db9-b1ad-67d4cc248bda",
        "colab": {
          "base_uri": "https://localhost:8080/",
          "height": 35
        }
      },
      "source": [
        "math.exp(2) #Python con valores grandes falla.Nos da OverflowError o error de rango.Esta es más precisa que math.e."
      ],
      "execution_count": null,
      "outputs": [
        {
          "output_type": "execute_result",
          "data": {
            "text/plain": [
              "7.38905609893065"
            ]
          },
          "metadata": {
            "tags": []
          },
          "execution_count": 15
        }
      ]
    },
    {
      "cell_type": "markdown",
      "metadata": {
        "id": "rlQYu_pu2WvG"
      },
      "source": [
        "Para calcular potencia:"
      ]
    },
    {
      "cell_type": "code",
      "metadata": {
        "id": "f9YRAmWP20Ay",
        "outputId": "148509ae-bfaa-4d78-b566-9b4f23b2dbd8",
        "colab": {
          "base_uri": "https://localhost:8080/",
          "height": 35
        }
      },
      "source": [
        "math.pow(2,5) #esto es 2 elevado a 5"
      ],
      "execution_count": null,
      "outputs": [
        {
          "output_type": "execute_result",
          "data": {
            "text/plain": [
              "32.0"
            ]
          },
          "metadata": {
            "tags": []
          },
          "execution_count": 16
        }
      ]
    },
    {
      "cell_type": "markdown",
      "metadata": {
        "id": "WYbYzv8i26F3"
      },
      "source": [
        "Si queremos que math trate a los nan como valores con los que se pueda trabajar especificamos `math.nan`."
      ]
    },
    {
      "cell_type": "code",
      "metadata": {
        "id": "5dPTQD3d3Ysz",
        "outputId": "9558df6f-b3c3-4b63-fd4e-ee13ec48de6c",
        "colab": {
          "base_uri": "https://localhost:8080/",
          "height": 35
        }
      },
      "source": [
        "math.pow(math.nan,0) #aunque es un nan, como cualquier valor elevado a 0 es 1, lo acepta."
      ],
      "execution_count": null,
      "outputs": [
        {
          "output_type": "execute_result",
          "data": {
            "text/plain": [
              "1.0"
            ]
          },
          "metadata": {
            "tags": []
          },
          "execution_count": 19
        }
      ]
    },
    {
      "cell_type": "markdown",
      "metadata": {
        "id": "WbIEEpo33uVJ"
      },
      "source": [
        "VER QUE ES?"
      ]
    },
    {
      "cell_type": "code",
      "metadata": {
        "id": "8JXY-KH-3Ggf",
        "outputId": "924ff1dc-1932-40fc-9cf1-7e69de9fb7ba",
        "colab": {
          "base_uri": "https://localhost:8080/",
          "height": 35
        }
      },
      "source": [
        "math.hypot(3,2) #esto para calcular la norma euclídea de un vector.Esto es (3**2+4**2)^(1/2)"
      ],
      "execution_count": 26,
      "outputs": [
        {
          "output_type": "execute_result",
          "data": {
            "text/plain": [
              "3.605551275463989"
            ]
          },
          "metadata": {
            "tags": []
          },
          "execution_count": 26
        }
      ]
    },
    {
      "cell_type": "markdown",
      "metadata": {
        "id": "xaUAlH_H3w-8"
      },
      "source": [
        "## Operaciones aritméticas y redondeo."
      ]
    },
    {
      "cell_type": "code",
      "metadata": {
        "id": "TttJ6d0e4Gox",
        "outputId": "8a8a742e-d150-4789-919e-6615cca14c11",
        "colab": {
          "base_uri": "https://localhost:8080/",
          "height": 35
        }
      },
      "source": [
        "2+2"
      ],
      "execution_count": null,
      "outputs": [
        {
          "output_type": "execute_result",
          "data": {
            "text/plain": [
              "4"
            ]
          },
          "metadata": {
            "tags": []
          },
          "execution_count": 21
        }
      ]
    },
    {
      "cell_type": "code",
      "metadata": {
        "id": "tIfoucSt4Ip-",
        "outputId": "a6e02975-15df-4b21-85e6-fa36b492fb33",
        "colab": {
          "base_uri": "https://localhost:8080/",
          "height": 35
        }
      },
      "source": [
        "3-5"
      ],
      "execution_count": null,
      "outputs": [
        {
          "output_type": "execute_result",
          "data": {
            "text/plain": [
              "-2"
            ]
          },
          "metadata": {
            "tags": []
          },
          "execution_count": 22
        }
      ]
    },
    {
      "cell_type": "code",
      "metadata": {
        "id": "0T4Own_e4KWe",
        "outputId": "c5185587-a82d-4cd0-b5a4-8def532c4d62",
        "colab": {
          "base_uri": "https://localhost:8080/",
          "height": 35
        }
      },
      "source": [
        "3*5"
      ],
      "execution_count": 1,
      "outputs": [
        {
          "output_type": "execute_result",
          "data": {
            "text/plain": [
              "15"
            ]
          },
          "metadata": {
            "tags": []
          },
          "execution_count": 1
        }
      ]
    },
    {
      "cell_type": "code",
      "metadata": {
        "id": "OK2YG7Ln4Og9",
        "outputId": "465aa281-bf37-43d5-c0ca-b411a8015308",
        "colab": {
          "base_uri": "https://localhost:8080/",
          "height": 35
        }
      },
      "source": [
        "6/7 #división."
      ],
      "execution_count": null,
      "outputs": [
        {
          "output_type": "execute_result",
          "data": {
            "text/plain": [
              "0.8571428571428571"
            ]
          },
          "metadata": {
            "tags": []
          },
          "execution_count": 24
        }
      ]
    },
    {
      "cell_type": "code",
      "metadata": {
        "id": "EWrZf7zy4SIB",
        "outputId": "7a7cdfa5-cb5e-4457-c766-f48d2e6076b4",
        "colab": {
          "base_uri": "https://localhost:8080/",
          "height": 35
        }
      },
      "source": [
        "math.ceil(3.4523) #nos vale para redondeo al alza.Las 3 funciones que siguen con números muy grandes no funcionan."
      ],
      "execution_count": null,
      "outputs": [
        {
          "output_type": "execute_result",
          "data": {
            "text/plain": [
              "4"
            ]
          },
          "metadata": {
            "tags": []
          },
          "execution_count": 25
        }
      ]
    },
    {
      "cell_type": "code",
      "metadata": {
        "id": "GTKRg2N14aNU",
        "outputId": "7ae19ebc-baca-4f4a-cff0-f1c3de3102e7",
        "colab": {
          "base_uri": "https://localhost:8080/",
          "height": 35
        }
      },
      "source": [
        "math.floor(3.4523) #útil para redondeo a la baja."
      ],
      "execution_count": null,
      "outputs": [
        {
          "output_type": "execute_result",
          "data": {
            "text/plain": [
              "3"
            ]
          },
          "metadata": {
            "tags": []
          },
          "execution_count": 26
        }
      ]
    },
    {
      "cell_type": "code",
      "metadata": {
        "id": "ibo5hGmw5mC9",
        "outputId": "929c6c5b-ec8a-4e1b-e714-ff85b56b6e97",
        "colab": {
          "base_uri": "https://localhost:8080/",
          "height": 35
        }
      },
      "source": [
        "math.trunc(3.4523) #devalor real a entero, quita los decimales."
      ],
      "execution_count": null,
      "outputs": [
        {
          "output_type": "execute_result",
          "data": {
            "text/plain": [
              "3"
            ]
          },
          "metadata": {
            "tags": []
          },
          "execution_count": 31
        }
      ]
    },
    {
      "cell_type": "code",
      "metadata": {
        "id": "dABZ4LrN4gSk",
        "outputId": "6d34b615-289f-4ba8-9802-adeefffada75",
        "colab": {
          "base_uri": "https://localhost:8080/",
          "height": 35
        }
      },
      "source": [
        "math.copysign(3,-2) #sirve para copiar el signo del segundo argumento al primero."
      ],
      "execution_count": null,
      "outputs": [
        {
          "output_type": "execute_result",
          "data": {
            "text/plain": [
              "-3.0"
            ]
          },
          "metadata": {
            "tags": []
          },
          "execution_count": 27
        }
      ]
    },
    {
      "cell_type": "code",
      "metadata": {
        "id": "lHjBSYOE5HR6",
        "outputId": "36f6760e-cbf7-4e34-8857-43360775980c",
        "colab": {
          "base_uri": "https://localhost:8080/",
          "height": 35
        }
      },
      "source": [
        "#podemos también usar el 0, lo que es curioso.\n",
        "math.copysign(3.0,-0.0)"
      ],
      "execution_count": null,
      "outputs": [
        {
          "output_type": "execute_result",
          "data": {
            "text/plain": [
              "-3.0"
            ]
          },
          "metadata": {
            "tags": []
          },
          "execution_count": 28
        }
      ]
    },
    {
      "cell_type": "code",
      "metadata": {
        "id": "1JbvYMUA5N9r",
        "outputId": "1ba2232d-d207-4f27-a0ad-67fc05dd3a3c",
        "colab": {
          "base_uri": "https://localhost:8080/",
          "height": 35
        }
      },
      "source": [
        "math.fabs(-20.0) #para obtener el valor absoluto o módulo de un valor"
      ],
      "execution_count": null,
      "outputs": [
        {
          "output_type": "execute_result",
          "data": {
            "text/plain": [
              "20.0"
            ]
          },
          "metadata": {
            "tags": []
          },
          "execution_count": 30
        }
      ]
    },
    {
      "cell_type": "code",
      "metadata": {
        "id": "_C7jP7W65i93",
        "outputId": "b2366700-254d-41d3-c844-8affb52161ca",
        "colab": {
          "base_uri": "https://localhost:8080/",
          "height": 35
        }
      },
      "source": [
        "2**5 #para elevar un valor a otro."
      ],
      "execution_count": null,
      "outputs": [
        {
          "output_type": "execute_result",
          "data": {
            "text/plain": [
              "32"
            ]
          },
          "metadata": {
            "tags": []
          },
          "execution_count": 32
        }
      ]
    },
    {
      "cell_type": "code",
      "metadata": {
        "id": "yW8uzv9H5_KK",
        "outputId": "d8204318-60ff-478d-fa4c-087988789f19",
        "colab": {
          "base_uri": "https://localhost:8080/",
          "height": 35
        }
      },
      "source": [
        "math.factorial(4) #para obtener factorial de un número."
      ],
      "execution_count": null,
      "outputs": [
        {
          "output_type": "execute_result",
          "data": {
            "text/plain": [
              "24"
            ]
          },
          "metadata": {
            "tags": []
          },
          "execution_count": 33
        }
      ]
    },
    {
      "cell_type": "code",
      "metadata": {
        "id": "ZCupTM_j6FwF",
        "outputId": "f3020a92-ae8a-4a83-fe35-9f9fd1872c85",
        "colab": {
          "base_uri": "https://localhost:8080/",
          "height": 35
        }
      },
      "source": [
        "math.fmod(7,3) #nos da el resto de la división."
      ],
      "execution_count": null,
      "outputs": [
        {
          "output_type": "execute_result",
          "data": {
            "text/plain": [
              "1.0"
            ]
          },
          "metadata": {
            "tags": []
          },
          "execution_count": 34
        }
      ]
    },
    {
      "cell_type": "code",
      "metadata": {
        "id": "yR8fh_Hz7MhC"
      },
      "source": [
        "math.remainder(7,3) #para obterner el resto de la división entera."
      ],
      "execution_count": null,
      "outputs": []
    },
    {
      "cell_type": "code",
      "metadata": {
        "id": "BXJY5LLm7Fhi",
        "outputId": "f297bd02-0945-4e8b-d24f-e0249aafff93",
        "colab": {
          "base_uri": "https://localhost:8080/",
          "height": 35
        }
      },
      "source": [
        "7%3 # a cambio de fmod podemos usar % para el resto de la división."
      ],
      "execution_count": null,
      "outputs": [
        {
          "output_type": "execute_result",
          "data": {
            "text/plain": [
              "1"
            ]
          },
          "metadata": {
            "tags": []
          },
          "execution_count": 41
        }
      ]
    },
    {
      "cell_type": "code",
      "metadata": {
        "id": "N4ynW4Ov6of2",
        "outputId": "98825b53-ce49-435e-ed71-4218c49ef168",
        "colab": {
          "base_uri": "https://localhost:8080/",
          "height": 35
        }
      },
      "source": [
        "7//3 #para obtener el cociente usamos \"//\""
      ],
      "execution_count": null,
      "outputs": [
        {
          "output_type": "execute_result",
          "data": {
            "text/plain": [
              "2"
            ]
          },
          "metadata": {
            "tags": []
          },
          "execution_count": 35
        }
      ]
    },
    {
      "cell_type": "code",
      "metadata": {
        "id": "YUuQCpKQ7zyX",
        "outputId": "e9bf4cbf-757d-4cc7-dac7-27b9fc97ce35",
        "colab": {
          "base_uri": "https://localhost:8080/",
          "height": 35
        }
      },
      "source": [
        "math.modf(4.25) #separa la parte fraccional de la entera. Si es negativo le da el signo a ambos valores."
      ],
      "execution_count": null,
      "outputs": [
        {
          "output_type": "execute_result",
          "data": {
            "text/plain": [
              "(0.25, 4.0)"
            ]
          },
          "metadata": {
            "tags": []
          },
          "execution_count": 42
        }
      ]
    },
    {
      "cell_type": "code",
      "metadata": {
        "id": "fausBPYe8BHw",
        "outputId": "02559cb4-a543-4988-c0fb-453f073931c9",
        "colab": {
          "base_uri": "https://localhost:8080/",
          "height": 35
        }
      },
      "source": [
        "math.gcd(24,36) #nos arroja el máximo común divisor, el número más grande que los divide a los 2 y arroja un entero."
      ],
      "execution_count": null,
      "outputs": [
        {
          "output_type": "execute_result",
          "data": {
            "text/plain": [
              "12"
            ]
          },
          "metadata": {
            "tags": []
          },
          "execution_count": 54
        }
      ]
    },
    {
      "cell_type": "code",
      "metadata": {
        "id": "ZedqkXOD8VWX",
        "outputId": "fc40ebe7-a8d7-462d-a555-a361d03cdfb3",
        "colab": {
          "base_uri": "https://localhost:8080/",
          "height": 35
        }
      },
      "source": [
        "math.isfinite(5) #para saber si el valor es finito"
      ],
      "execution_count": null,
      "outputs": [
        {
          "output_type": "execute_result",
          "data": {
            "text/plain": [
              "True"
            ]
          },
          "metadata": {
            "tags": []
          },
          "execution_count": 46
        }
      ]
    },
    {
      "cell_type": "code",
      "metadata": {
        "id": "AmBHDgeQ8eYx",
        "outputId": "86029c3f-44dd-4c69-fd7d-dd9444d44bc9",
        "colab": {
          "base_uri": "https://localhost:8080/",
          "height": 35
        }
      },
      "source": [
        "math.isinf(4.5) #para saber si el número es infinito."
      ],
      "execution_count": null,
      "outputs": [
        {
          "output_type": "execute_result",
          "data": {
            "text/plain": [
              "False"
            ]
          },
          "metadata": {
            "tags": []
          },
          "execution_count": 47
        }
      ]
    },
    {
      "cell_type": "code",
      "metadata": {
        "id": "VtrtTEok8kA2",
        "outputId": "82bb08aa-cc79-44c9-9992-9bfad7600235",
        "colab": {
          "base_uri": "https://localhost:8080/",
          "height": 35
        }
      },
      "source": [
        "math.isnan(4.5) #para saber si es NaN, devuelve True o False."
      ],
      "execution_count": null,
      "outputs": [
        {
          "output_type": "execute_result",
          "data": {
            "text/plain": [
              "False"
            ]
          },
          "metadata": {
            "tags": []
          },
          "execution_count": 48
        }
      ]
    },
    {
      "cell_type": "code",
      "metadata": {
        "id": "H5V30xcz8vr7",
        "outputId": "5cb7293c-8d79-422d-8513-ef1d894be1ff",
        "colab": {
          "base_uri": "https://localhost:8080/",
          "height": 35
        }
      },
      "source": [
        "math.isclose(4,3) #significa está cerca de? para comprobar si son iguales, arroja True o False."
      ],
      "execution_count": null,
      "outputs": [
        {
          "output_type": "execute_result",
          "data": {
            "text/plain": [
              "False"
            ]
          },
          "metadata": {
            "tags": []
          },
          "execution_count": 50
        }
      ]
    },
    {
      "cell_type": "code",
      "metadata": {
        "id": "T4LioNfB9eRG",
        "outputId": "e8901aff-a23a-40bc-ac14-5f46cb65d091",
        "colab": {
          "base_uri": "https://localhost:8080/",
          "height": 35
        }
      },
      "source": [
        "#el mismo ejemplo pero ajustamos la tolerancia\n",
        "math.isclose(math.sqrt(2)**2,2,rel_tol = 1e-09) #porque con más dígitos ya no son iguales, por los decimales."
      ],
      "execution_count": null,
      "outputs": [
        {
          "output_type": "execute_result",
          "data": {
            "text/plain": [
              "True"
            ]
          },
          "metadata": {
            "tags": []
          },
          "execution_count": 56
        }
      ]
    },
    {
      "cell_type": "code",
      "metadata": {
        "id": "S9SFAL_-2VAp",
        "outputId": "dca94a46-a7ae-476f-d188-ee3317c6bde4",
        "colab": {
          "base_uri": "https://localhost:8080/",
          "height": 35
        }
      },
      "source": [
        "math.expm1(1) #es [(la exponencial elevado a x) -1].De esta forma es más preciso. Esto es los mismo que math.exp(1) - 1."
      ],
      "execution_count": 4,
      "outputs": [
        {
          "output_type": "execute_result",
          "data": {
            "text/plain": [
              "1.718281828459045"
            ]
          },
          "metadata": {
            "tags": []
          },
          "execution_count": 4
        }
      ]
    },
    {
      "cell_type": "code",
      "metadata": {
        "id": "GX2Vg8x_2XUX",
        "outputId": "87dcea9b-331e-40ce-9037-f9f1b8579b9a",
        "colab": {
          "base_uri": "https://localhost:8080/",
          "height": 35
        }
      },
      "source": [
        "math.sin(180) #calcula el seno de x, debe estar en radianes."
      ],
      "execution_count": 13,
      "outputs": [
        {
          "output_type": "execute_result",
          "data": {
            "text/plain": [
              "-0.8011526357338304"
            ]
          },
          "metadata": {
            "tags": []
          },
          "execution_count": 13
        }
      ]
    },
    {
      "cell_type": "code",
      "metadata": {
        "id": "SQrC7-qn2Yee",
        "outputId": "38191c22-7794-4c6c-b314-b6e372afc8ab",
        "colab": {
          "base_uri": "https://localhost:8080/",
          "height": 35
        }
      },
      "source": [
        "math.cos(math.pi) #para calcular coseno. Debemos pasarle radianes."
      ],
      "execution_count": 14,
      "outputs": [
        {
          "output_type": "execute_result",
          "data": {
            "text/plain": [
              "-1.0"
            ]
          },
          "metadata": {
            "tags": []
          },
          "execution_count": 14
        }
      ]
    },
    {
      "cell_type": "code",
      "metadata": {
        "id": "JS7XC8y84lD0",
        "outputId": "dc9be0f9-9c9c-43f8-fc28-78605af9b272",
        "colab": {
          "base_uri": "https://localhost:8080/",
          "height": 35
        }
      },
      "source": [
        "math.tan(math.pi/2) #para clacular la tangente."
      ],
      "execution_count": 15,
      "outputs": [
        {
          "output_type": "execute_result",
          "data": {
            "text/plain": [
              "1.633123935319537e+16"
            ]
          },
          "metadata": {
            "tags": []
          },
          "execution_count": 15
        }
      ]
    },
    {
      "cell_type": "code",
      "metadata": {
        "id": "L5gX94Nc4vqo",
        "outputId": "14f895e8-7e92-4bfd-e57e-b69f9e9b6b4d",
        "colab": {
          "base_uri": "https://localhost:8080/",
          "height": 35
        }
      },
      "source": [
        "math.asin(1) #para obtener arcoseno. El resultado es radianes."
      ],
      "execution_count": 16,
      "outputs": [
        {
          "output_type": "execute_result",
          "data": {
            "text/plain": [
              "1.5707963267948966"
            ]
          },
          "metadata": {
            "tags": []
          },
          "execution_count": 16
        }
      ]
    },
    {
      "cell_type": "code",
      "metadata": {
        "id": "9nnKZDYf484H",
        "outputId": "c50732b0-f42f-4187-dfa8-f1bb0f7e6a39",
        "colab": {
          "base_uri": "https://localhost:8080/",
          "height": 35
        }
      },
      "source": [
        "math.acos(1) #para calcular arcocoseno."
      ],
      "execution_count": 17,
      "outputs": [
        {
          "output_type": "execute_result",
          "data": {
            "text/plain": [
              "0.0"
            ]
          },
          "metadata": {
            "tags": []
          },
          "execution_count": 17
        }
      ]
    },
    {
      "cell_type": "code",
      "metadata": {
        "id": "DYopM5dk5CDi",
        "outputId": "e268cf40-61c0-4fcc-f4d1-9ed92ef4ab80",
        "colab": {
          "base_uri": "https://localhost:8080/",
          "height": 35
        }
      },
      "source": [
        "math.atan(1) #arcotangente."
      ],
      "execution_count": 27,
      "outputs": [
        {
          "output_type": "execute_result",
          "data": {
            "text/plain": [
              "0.7853981633974483"
            ]
          },
          "metadata": {
            "tags": []
          },
          "execution_count": 27
        }
      ]
    },
    {
      "cell_type": "code",
      "metadata": {
        "id": "6oLZLpx75Iwj",
        "outputId": "d9a4cacf-972a-45d3-fa9e-19ac054e7bd5",
        "colab": {
          "base_uri": "https://localhost:8080/",
          "height": 35
        }
      },
      "source": [
        "math.degrees(0.78) #convierte de radianes a grados."
      ],
      "execution_count": 19,
      "outputs": [
        {
          "output_type": "execute_result",
          "data": {
            "text/plain": [
              "44.69070802020421"
            ]
          },
          "metadata": {
            "tags": []
          },
          "execution_count": 19
        }
      ]
    },
    {
      "cell_type": "code",
      "metadata": {
        "id": "jroRXgwQ5T3J",
        "outputId": "b7deefab-2125-492e-9486-f03384c19c4e",
        "colab": {
          "base_uri": "https://localhost:8080/",
          "height": 35
        }
      },
      "source": [
        "math.radians(60) #convierte de grados a radianes."
      ],
      "execution_count": 25,
      "outputs": [
        {
          "output_type": "execute_result",
          "data": {
            "text/plain": [
              "1.0471975511965976"
            ]
          },
          "metadata": {
            "tags": []
          },
          "execution_count": 25
        }
      ]
    },
    {
      "cell_type": "code",
      "metadata": {
        "id": "3KEl7jKa5cOk",
        "outputId": "375785e4-e832-4e5f-98a8-82467a774c7b",
        "colab": {
          "base_uri": "https://localhost:8080/",
          "height": 35
        }
      },
      "source": [
        "math.cos(math.radians(60)) #convertimos de grados a radianes y luego calculamos coseno."
      ],
      "execution_count": 23,
      "outputs": [
        {
          "output_type": "execute_result",
          "data": {
            "text/plain": [
              "0.5000000000000001"
            ]
          },
          "metadata": {
            "tags": []
          },
          "execution_count": 23
        }
      ]
    }
  ]
}
