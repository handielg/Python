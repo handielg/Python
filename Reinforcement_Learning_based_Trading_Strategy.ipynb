{
  "nbformat": 4,
  "nbformat_minor": 0,
  "metadata": {
    "colab": {
      "name": "Reinforcement Learning based Trading Strategy.ipynb",
      "provenance": [],
      "authorship_tag": "ABX9TyPOyUZpSecxqd157Mt1XTqy",
      "include_colab_link": true
    },
    "kernelspec": {
      "name": "python3",
      "display_name": "Python 3"
    }
  },
  "cells": [
    {
      "cell_type": "markdown",
      "metadata": {
        "id": "view-in-github",
        "colab_type": "text"
      },
      "source": [
        "<a href=\"https://colab.research.google.com/github/handielg/Python/blob/main/Reinforcement_Learning_based_Trading_Strategy.ipynb\" target=\"_parent\"><img src=\"https://colab.research.google.com/assets/colab-badge.svg\" alt=\"Open In Colab\"/></a>"
      ]
    },
    {
      "cell_type": "markdown",
      "metadata": {
        "id": "-ouJOCEyUWkc"
      },
      "source": [
        "##Reinforcement Learning based Trading Strategy\n",
        "\n",
        "En este caso de estudio, crearemos una estrategia comercial de principio a fin basada en el aprendizaje reforzado."
      ]
    },
    {
      "cell_type": "markdown",
      "metadata": {
        "id": "Wp3x3I6VUlc9"
      },
      "source": [
        "##1. Definición del problema¶\n",
        "En este marco de aprendizaje reforzado para la estrategia comercial, el algoritmo realiza una acción (comprar, vender o mantener) según el estado actual del precio de las acciones. El algoritmo se entrena utilizando el marco de Deep Q-Learning, para ayudarnos a predecir la mejor acción, en función de los precios de las acciones actuales.\n",
        "\n",
        "Los componentes clave del marco basado en RL son:\n",
        "\n",
        "- Agente: Agente comercial.\n",
        "- Acción: comprar, vender o mantener.\n",
        "- Función de recompensa: las ganancias y pérdidas realizadas (PnL) se utilizan como función de recompensa para este estudio de caso. La recompensa depende de la acción:\n",
        "\n",
        "- Venta: ganancias y pérdidas realizadas (precio de venta - precio de compra)\n",
        "- Compra: Sin recompensa\n",
        "- Sostener: Sin recompensa\n",
        "- Estado: las diferencias de los precios de las acciones anteriores para una ventana de tiempo determinada se utiliza como estado.\n",
        "\n",
        "Los datos utilizados para este estudio de caso serán de AAPL.\n",
        "\n",
        "##2. Introducción: carga de los paquetes de datos y python\n",
        "\n",
        "###2.1. Cargando los paquetes de Python"
      ]
    },
    {
      "cell_type": "code",
      "metadata": {
        "id": "Nb7CpLjSU7oU"
      },
      "source": [
        "!pip install tensorflow\n",
        "!pip install yfinance"
      ],
      "execution_count": null,
      "outputs": []
    },
    {
      "cell_type": "code",
      "metadata": {
        "id": "oHwNVCAKURzZ"
      },
      "source": [
        "\n",
        "# Load libraries\n",
        "import numpy as np\n",
        "import pandas as pd\n",
        "import matplotlib.pyplot as plt\n",
        "from pandas import read_csv, set_option\n",
        "from pandas.plotting import scatter_matrix\n",
        "import seaborn as sns\n",
        "from sklearn.preprocessing import StandardScaler\n",
        "import datetime\n",
        "import math\n",
        "from numpy.random import choice\n",
        "import random\n",
        "\n",
        "import numpy as np\n",
        "import pandas as pd\n",
        "import matplotlib.pyplot as plt\n",
        "\n",
        "#para los datos financieros\n",
        "import yfinance as yf\n",
        "\n",
        "#Import Model Packages for reinforcement learning\n",
        "from tensorflow import keras\n",
        "from keras import layers, models, optimizers\n",
        "from keras import backend as K\n",
        "from collections import namedtuple, deque"
      ],
      "execution_count": 7,
      "outputs": []
    },
    {
      "cell_type": "code",
      "metadata": {
        "id": "rMYufCSdVbM7"
      },
      "source": [
        "#importamos los datos de yahoo.\n",
        "dataset = yf.download(\"AAPL\", start=\"2010-01-01\", end=\"2020-11-27\", group_by='column')"
      ],
      "execution_count": null,
      "outputs": []
    },
    {
      "cell_type": "code",
      "metadata": {
        "id": "QIowbhtHWDMv"
      },
      "source": [
        "#Diable the warnings\n",
        "import warnings\n",
        "warnings.filterwarnings('ignore')"
      ],
      "execution_count": 14,
      "outputs": []
    },
    {
      "cell_type": "code",
      "metadata": {
        "colab": {
          "base_uri": "https://localhost:8080/"
        },
        "id": "Df5SVWRhWGtu",
        "outputId": "c639c0dc-519d-4282-81c2-881305bea6d4"
      },
      "source": [
        "type(dataset)"
      ],
      "execution_count": 15,
      "outputs": [
        {
          "output_type": "execute_result",
          "data": {
            "text/plain": [
              "pandas.core.frame.DataFrame"
            ]
          },
          "metadata": {
            "tags": []
          },
          "execution_count": 15
        }
      ]
    },
    {
      "cell_type": "markdown",
      "metadata": {
        "id": "nee9geXUWPh7"
      },
      "source": [
        "##3. Exploramos los datos"
      ]
    },
    {
      "cell_type": "code",
      "metadata": {
        "colab": {
          "base_uri": "https://localhost:8080/"
        },
        "id": "jbVrJ_wkWR60",
        "outputId": "381967c1-9360-4537-ca67-6e5229ab6c89"
      },
      "source": [
        "# shape\n",
        "dataset.shape"
      ],
      "execution_count": 16,
      "outputs": [
        {
          "output_type": "execute_result",
          "data": {
            "text/plain": [
              "(2745, 6)"
            ]
          },
          "metadata": {
            "tags": []
          },
          "execution_count": 16
        }
      ]
    },
    {
      "cell_type": "code",
      "metadata": {
        "colab": {
          "base_uri": "https://localhost:8080/",
          "height": 227
        },
        "id": "LNe07rOKWfU0",
        "outputId": "28760542-c9d0-4a1f-cd33-b5755114dabe"
      },
      "source": [
        "# peek at data\n",
        "set_option('display.width', 100)\n",
        "dataset.head(5)"
      ],
      "execution_count": 17,
      "outputs": [
        {
          "output_type": "execute_result",
          "data": {
            "text/html": [
              "<div>\n",
              "<style scoped>\n",
              "    .dataframe tbody tr th:only-of-type {\n",
              "        vertical-align: middle;\n",
              "    }\n",
              "\n",
              "    .dataframe tbody tr th {\n",
              "        vertical-align: top;\n",
              "    }\n",
              "\n",
              "    .dataframe thead th {\n",
              "        text-align: right;\n",
              "    }\n",
              "</style>\n",
              "<table border=\"1\" class=\"dataframe\">\n",
              "  <thead>\n",
              "    <tr style=\"text-align: right;\">\n",
              "      <th></th>\n",
              "      <th>Open</th>\n",
              "      <th>High</th>\n",
              "      <th>Low</th>\n",
              "      <th>Close</th>\n",
              "      <th>Adj Close</th>\n",
              "      <th>Volume</th>\n",
              "    </tr>\n",
              "    <tr>\n",
              "      <th>Date</th>\n",
              "      <th></th>\n",
              "      <th></th>\n",
              "      <th></th>\n",
              "      <th></th>\n",
              "      <th></th>\n",
              "      <th></th>\n",
              "    </tr>\n",
              "  </thead>\n",
              "  <tbody>\n",
              "    <tr>\n",
              "      <th>2010-01-04</th>\n",
              "      <td>7.622500</td>\n",
              "      <td>7.660714</td>\n",
              "      <td>7.585000</td>\n",
              "      <td>7.643214</td>\n",
              "      <td>6.539882</td>\n",
              "      <td>493729600</td>\n",
              "    </tr>\n",
              "    <tr>\n",
              "      <th>2010-01-05</th>\n",
              "      <td>7.664286</td>\n",
              "      <td>7.699643</td>\n",
              "      <td>7.616071</td>\n",
              "      <td>7.656428</td>\n",
              "      <td>6.551187</td>\n",
              "      <td>601904800</td>\n",
              "    </tr>\n",
              "    <tr>\n",
              "      <th>2010-01-06</th>\n",
              "      <td>7.656428</td>\n",
              "      <td>7.686786</td>\n",
              "      <td>7.526786</td>\n",
              "      <td>7.534643</td>\n",
              "      <td>6.446983</td>\n",
              "      <td>552160000</td>\n",
              "    </tr>\n",
              "    <tr>\n",
              "      <th>2010-01-07</th>\n",
              "      <td>7.562500</td>\n",
              "      <td>7.571429</td>\n",
              "      <td>7.466072</td>\n",
              "      <td>7.520714</td>\n",
              "      <td>6.435065</td>\n",
              "      <td>477131200</td>\n",
              "    </tr>\n",
              "    <tr>\n",
              "      <th>2010-01-08</th>\n",
              "      <td>7.510714</td>\n",
              "      <td>7.571429</td>\n",
              "      <td>7.466429</td>\n",
              "      <td>7.570714</td>\n",
              "      <td>6.477847</td>\n",
              "      <td>447610800</td>\n",
              "    </tr>\n",
              "  </tbody>\n",
              "</table>\n",
              "</div>"
            ],
            "text/plain": [
              "                Open      High       Low     Close  Adj Close     Volume\n",
              "Date                                                                    \n",
              "2010-01-04  7.622500  7.660714  7.585000  7.643214   6.539882  493729600\n",
              "2010-01-05  7.664286  7.699643  7.616071  7.656428   6.551187  601904800\n",
              "2010-01-06  7.656428  7.686786  7.526786  7.534643   6.446983  552160000\n",
              "2010-01-07  7.562500  7.571429  7.466072  7.520714   6.435065  477131200\n",
              "2010-01-08  7.510714  7.571429  7.466429  7.570714   6.477847  447610800"
            ]
          },
          "metadata": {
            "tags": []
          },
          "execution_count": 17
        }
      ]
    },
    {
      "cell_type": "markdown",
      "metadata": {
        "id": "QmvNj4JqWq6F"
      },
      "source": [
        "Los datos tienen un total de 2745 filas y seis columnas que contienen el precio de apertura, máximo, mínimo, cierre y cierre ajustado junto con el volumen total. El cierre ajustado es el precio de cierre ajustado por la división y los dividendos. A los efectos de este estudio de caso, nos centraremos en el precio de cierre."
      ]
    },
    {
      "cell_type": "code",
      "metadata": {
        "colab": {
          "base_uri": "https://localhost:8080/",
          "height": 287
        },
        "id": "eu_KjTBkWwYS",
        "outputId": "9e606b5c-e18c-43bb-a8bf-d620f5168c09"
      },
      "source": [
        "# describe data\n",
        "set_option('precision', 3)\n",
        "dataset.describe()"
      ],
      "execution_count": 18,
      "outputs": [
        {
          "output_type": "execute_result",
          "data": {
            "text/html": [
              "<div>\n",
              "<style scoped>\n",
              "    .dataframe tbody tr th:only-of-type {\n",
              "        vertical-align: middle;\n",
              "    }\n",
              "\n",
              "    .dataframe tbody tr th {\n",
              "        vertical-align: top;\n",
              "    }\n",
              "\n",
              "    .dataframe thead th {\n",
              "        text-align: right;\n",
              "    }\n",
              "</style>\n",
              "<table border=\"1\" class=\"dataframe\">\n",
              "  <thead>\n",
              "    <tr style=\"text-align: right;\">\n",
              "      <th></th>\n",
              "      <th>Open</th>\n",
              "      <th>High</th>\n",
              "      <th>Low</th>\n",
              "      <th>Close</th>\n",
              "      <th>Adj Close</th>\n",
              "      <th>Volume</th>\n",
              "    </tr>\n",
              "  </thead>\n",
              "  <tbody>\n",
              "    <tr>\n",
              "      <th>count</th>\n",
              "      <td>2745.000</td>\n",
              "      <td>2745.000</td>\n",
              "      <td>2745.000</td>\n",
              "      <td>2745.000</td>\n",
              "      <td>2745.000</td>\n",
              "      <td>2.745e+03</td>\n",
              "    </tr>\n",
              "    <tr>\n",
              "      <th>mean</th>\n",
              "      <td>32.955</td>\n",
              "      <td>33.295</td>\n",
              "      <td>32.613</td>\n",
              "      <td>32.967</td>\n",
              "      <td>31.084</td>\n",
              "      <td>2.875e+08</td>\n",
              "    </tr>\n",
              "    <tr>\n",
              "      <th>std</th>\n",
              "      <td>23.081</td>\n",
              "      <td>23.397</td>\n",
              "      <td>22.751</td>\n",
              "      <td>23.087</td>\n",
              "      <td>23.488</td>\n",
              "      <td>2.299e+08</td>\n",
              "    </tr>\n",
              "    <tr>\n",
              "      <th>min</th>\n",
              "      <td>6.870</td>\n",
              "      <td>7.000</td>\n",
              "      <td>6.795</td>\n",
              "      <td>6.859</td>\n",
              "      <td>5.869</td>\n",
              "      <td>2.045e+07</td>\n",
              "    </tr>\n",
              "    <tr>\n",
              "      <th>25%</th>\n",
              "      <td>17.357</td>\n",
              "      <td>17.584</td>\n",
              "      <td>17.194</td>\n",
              "      <td>17.401</td>\n",
              "      <td>15.208</td>\n",
              "      <td>1.211e+08</td>\n",
              "    </tr>\n",
              "    <tr>\n",
              "      <th>50%</th>\n",
              "      <td>26.847</td>\n",
              "      <td>27.075</td>\n",
              "      <td>26.573</td>\n",
              "      <td>26.833</td>\n",
              "      <td>24.653</td>\n",
              "      <td>2.043e+08</td>\n",
              "    </tr>\n",
              "    <tr>\n",
              "      <th>75%</th>\n",
              "      <td>42.650</td>\n",
              "      <td>43.035</td>\n",
              "      <td>42.373</td>\n",
              "      <td>42.722</td>\n",
              "      <td>40.972</td>\n",
              "      <td>3.906e+08</td>\n",
              "    </tr>\n",
              "    <tr>\n",
              "      <th>max</th>\n",
              "      <td>137.590</td>\n",
              "      <td>137.980</td>\n",
              "      <td>130.530</td>\n",
              "      <td>134.180</td>\n",
              "      <td>133.949</td>\n",
              "      <td>1.881e+09</td>\n",
              "    </tr>\n",
              "  </tbody>\n",
              "</table>\n",
              "</div>"
            ],
            "text/plain": [
              "           Open      High       Low     Close  Adj Close     Volume\n",
              "count  2745.000  2745.000  2745.000  2745.000   2745.000  2.745e+03\n",
              "mean     32.955    33.295    32.613    32.967     31.084  2.875e+08\n",
              "std      23.081    23.397    22.751    23.087     23.488  2.299e+08\n",
              "min       6.870     7.000     6.795     6.859      5.869  2.045e+07\n",
              "25%      17.357    17.584    17.194    17.401     15.208  1.211e+08\n",
              "50%      26.847    27.075    26.573    26.833     24.653  2.043e+08\n",
              "75%      42.650    43.035    42.373    42.722     40.972  3.906e+08\n",
              "max     137.590   137.980   130.530   134.180    133.949  1.881e+09"
            ]
          },
          "metadata": {
            "tags": []
          },
          "execution_count": 18
        }
      ]
    },
    {
      "cell_type": "markdown",
      "metadata": {
        "id": "zy-yZfjLW4Kd"
      },
      "source": [
        "Vemos como lucen los datos"
      ]
    },
    {
      "cell_type": "code",
      "metadata": {
        "colab": {
          "base_uri": "https://localhost:8080/",
          "height": 290
        },
        "id": "gyt0man6W2ZH",
        "outputId": "3175b993-ad5e-40d1-eab1-fd3a7a00e069"
      },
      "source": [
        "dataset['Close'].plot()"
      ],
      "execution_count": 19,
      "outputs": [
        {
          "output_type": "execute_result",
          "data": {
            "text/plain": [
              "<matplotlib.axes._subplots.AxesSubplot at 0x7f4b6f199cf8>"
            ]
          },
          "metadata": {
            "tags": []
          },
          "execution_count": 19
        },
        {
          "output_type": "display_data",
          "data": {
            "image/png": "[encoded data removed]",
            "text/plain": [
              "<Figure size 432x288 with 1 Axes>"
            ]
          },
          "metadata": {
            "tags": [],
            "needs_background": "light"
          }
        }
      ]
    },
    {
      "cell_type": "markdown",
      "metadata": {
        "id": "8emOnab-W_iY"
      },
      "source": [
        "##4. Preparación de datos¶\n",
        "\n",
        "###4.1. Limpieza de datos\n",
        "Comprobemos los NA en las filas, elimínelos o rellénelos con la media de la columna."
      ]
    },
    {
      "cell_type": "code",
      "metadata": {
        "colab": {
          "base_uri": "https://localhost:8080/"
        },
        "id": "mmDzOkv9XC6z",
        "outputId": "ca1ca0dd-5524-45ff-ec3b-845eeb13ab47"
      },
      "source": [
        "#Checking for any null values and removing the null values'''\n",
        "print('Null Values =',dataset.isnull().values.any())"
      ],
      "execution_count": 20,
      "outputs": [
        {
          "output_type": "stream",
          "text": [
            "Null Values = False\n"
          ],
          "name": "stdout"
        }
      ]
    },
    {
      "cell_type": "markdown",
      "metadata": {
        "id": "ndYLujk2XIxb"
      },
      "source": [
        "En caso de que haya valores nulos, complete los valores faltantes con el último valor disponible en el conjunto de datos."
      ]
    },
    {
      "cell_type": "code",
      "metadata": {
        "colab": {
          "base_uri": "https://localhost:8080/",
          "height": 137
        },
        "id": "FQs2QNRoXJpZ",
        "outputId": "15494050-8332-4d05-e6f3-f36d12225070"
      },
      "source": [
        "# Fill the missing values with the last value available in the dataset. \n",
        "dataset=dataset.fillna(method='ffill')\n",
        "dataset.head(2)"
      ],
      "execution_count": 21,
      "outputs": [
        {
          "output_type": "execute_result",
          "data": {
            "text/html": [
              "<div>\n",
              "<style scoped>\n",
              "    .dataframe tbody tr th:only-of-type {\n",
              "        vertical-align: middle;\n",
              "    }\n",
              "\n",
              "    .dataframe tbody tr th {\n",
              "        vertical-align: top;\n",
              "    }\n",
              "\n",
              "    .dataframe thead th {\n",
              "        text-align: right;\n",
              "    }\n",
              "</style>\n",
              "<table border=\"1\" class=\"dataframe\">\n",
              "  <thead>\n",
              "    <tr style=\"text-align: right;\">\n",
              "      <th></th>\n",
              "      <th>Open</th>\n",
              "      <th>High</th>\n",
              "      <th>Low</th>\n",
              "      <th>Close</th>\n",
              "      <th>Adj Close</th>\n",
              "      <th>Volume</th>\n",
              "    </tr>\n",
              "    <tr>\n",
              "      <th>Date</th>\n",
              "      <th></th>\n",
              "      <th></th>\n",
              "      <th></th>\n",
              "      <th></th>\n",
              "      <th></th>\n",
              "      <th></th>\n",
              "    </tr>\n",
              "  </thead>\n",
              "  <tbody>\n",
              "    <tr>\n",
              "      <th>2010-01-04</th>\n",
              "      <td>7.622</td>\n",
              "      <td>7.661</td>\n",
              "      <td>7.585</td>\n",
              "      <td>7.643</td>\n",
              "      <td>6.540</td>\n",
              "      <td>493729600</td>\n",
              "    </tr>\n",
              "    <tr>\n",
              "      <th>2010-01-05</th>\n",
              "      <td>7.664</td>\n",
              "      <td>7.700</td>\n",
              "      <td>7.616</td>\n",
              "      <td>7.656</td>\n",
              "      <td>6.551</td>\n",
              "      <td>601904800</td>\n",
              "    </tr>\n",
              "  </tbody>\n",
              "</table>\n",
              "</div>"
            ],
            "text/plain": [
              "             Open   High    Low  Close  Adj Close     Volume\n",
              "Date                                                        \n",
              "2010-01-04  7.622  7.661  7.585  7.643      6.540  493729600\n",
              "2010-01-05  7.664  7.700  7.616  7.656      6.551  601904800"
            ]
          },
          "metadata": {
            "tags": []
          },
          "execution_count": 21
        }
      ]
    },
    {
      "cell_type": "markdown",
      "metadata": {
        "id": "sKKd58yPXSsP"
      },
      "source": [
        "Los parámetros de los conglomerados son los índices y las variables utilizadas en el conglomerado son las columnas. Por lo tanto, los datos están en el formato correcto para ser enviados a los algoritmos de agrupamiento.\n",
        "\n",
        "\n",
        "##5. Evaluar algoritmos y modelos\n",
        "\n",
        "###5.1. Dividimos en entrenamiento y prueba.\n",
        "Usaremos el 80% del conjunto de datos para modelar y usaremos el 20% para pruebas."
      ]
    },
    {
      "cell_type": "code",
      "metadata": {
        "id": "MToLhhkpXWIN"
      },
      "source": [
        "X=list(dataset[\"Close\"])\n",
        "X=[float(x) for x in X]"
      ],
      "execution_count": 22,
      "outputs": []
    },
    {
      "cell_type": "code",
      "metadata": {
        "id": "omyVbi1HXgQp"
      },
      "source": [
        "validation_size = 0.2\n",
        "# En caso de que los datos no dependan de la serie de tiempo, entonces el entrenamiento y la división de prueba deben realizarse en función de una muestra secuencial\n",
        "# Esto se puede hacer seleccionando un punto de división arbitrario en la lista ordenada de observaciones y creando dos nuevos conjuntos de datos.\n",
        "train_size = int(len(X) * (1-validation_size))\n",
        "X_train, X_test = X[0:train_size], X[train_size:len(X)]"
      ],
      "execution_count": 24,
      "outputs": []
    },
    {
      "cell_type": "markdown",
      "metadata": {
        "id": "PmCJjgbKXvVL"
      },
      "source": [
        "###5.2. Pasos y módulos de implementación\n",
        "El algoritmo, en términos simples, decide si comprar, vender o retener, cuando se le proporciona el precio de mercado actual. El algoritmo se basa en un enfoque \"basado en Q-learning\" y utilizó Deep-Q-Network (DQN) para elaborar una política. Como se discutió anteriormente, el nombre “Q-learning” proviene de la función Q (s, a), que basada en el estado s y la acción proporcionada a devuelve la recompensa esperada.\n",
        "\n",
        "Para implementar este algoritmo DQN se implementan varias funciones y módulos que interactúan entre sí durante el entrenamiento del modelo. A continuación se describe un resumen de los módulos y funciones.\n",
        "\n",
        "1- Clase Agent: El agente se define como la clase \"Agent\", que contiene las variables y funciones miembro que realizan el Q-Learning que discutimos antes. Un objeto de la clase \"Agente\" se crea usando la fase de entrenamiento y se usa para entrenar el modelo.\n",
        "2- Funciones de ayuda: en este módulo, creamos funciones adicionales que son útiles para el entrenamiento. Hay dos funciones auxiliares que tenemos que son las siguientes.\n",
        "3- Módulo de entrenamiento: En este paso, realizamos el entrenamiento de los datos usando las variables y los métodos de agente y ayudante de funciones. Esto nos proporcionará una de las tres acciones (es decir, comprar, vender o retener) según los estados de los precios de las acciones al final del día. Durante el entrenamiento, se predice la acción prescrita para cada día, se calculan las recompensas y las ponderaciones del modelo de Q-learning basado en el aprendizaje profundo se actualizan de forma iterativa a lo largo de varios episodios. Además, las ganancias y pérdidas de cada acción se resumen para ver si se ha producido una ganancia general. El objetivo es maximizar el beneficio total. Proporcionamos una inmersión profunda en la interacción entre diferentes módulos y funciones en la sección \"Entrenamiento del modelo\" a continuación. Veamos en detalle cada uno de los módulos"
      ]
    },
    {
      "cell_type": "markdown",
      "metadata": {
        "id": "iduVCO4uYXSX"
      },
      "source": [
        "### 5.3. Script de agente\n",
        "La definición del script del Agente es el paso clave, ya que consta de En esta sección, formaremos un agente que realizará el aprendizaje por refuerzo basado en el Q-Learning. \n",
        "Realizaremos los siguientes pasos para conseguirlo:\n",
        "\n",
        "1. Cree una clase de agente cuya función inicial tenga en cuenta el tamaño del lote, el tamaño del estado y una función booleana de evaluación para verificar si la capacitación está en curso.\n",
        "2. En la clase de agente, cree los siguientes métodos:\n",
        "- Constructor: El constructor inicia todos los parámetros.\n",
        "- Modelo: esta función tiene un modelo de aprendizaje profundo para asignar el estado a la acción.\n",
        "- Función Act: Devuelve una acción, dado un estado, utilizando la salida de la función modelo. El número de acciones se define como 3: sentarse, comprar, vender\n",
        "- expReplay: crea una función de reproducción que agrega, muestrea y evalúa un búfer. Agregue una nueva experiencia a la memoria intermedia de reproducción. Muestra aleatoriamente un lote de tuplas experimentadas de la memoria. En la siguiente función, muestreamos estados aleatoriamente de un búfer de memoria. La reproducción de experiencias almacena un historial de transiciones de estado, acción, recompensa y siguiente estado que experimenta el agente. Muestra aleatoriamente mini lotes de esta experiencia para actualizar los pesos de la red en cada paso de tiempo antes de que el agente seleccione una acción ε-codiciosa.\n",
        "La reproducción de la experiencia aumenta la eficiencia de la muestra, reduce la autocorrelación de las muestras que se recopilan durante el aprendizaje en línea y limita la retroalimentación debido a los pesos actuales que producen muestras de entrenamiento que pueden conducir a mínimos locales o divergencias."
      ]
    },
    {
      "cell_type": "code",
      "metadata": {
        "id": "IPaWdBNYX5H3"
      },
      "source": [
        "import keras\n",
        "from keras.models import Sequential\n",
        "from keras.models import load_model\n",
        "from keras.layers import Dense\n",
        "from keras.optimizers import Adam\n",
        "from IPython.core.debugger import set_trace\n",
        "\n",
        "import numpy as np\n",
        "import random\n",
        "from collections import deque\n",
        "\n",
        "class Agent:\n",
        "    def __init__(self, state_size, is_eval=False, model_name=\"\"):\n",
        "        #State size depends and is equal to the the window size, n previous days\n",
        "        self.state_size = state_size # normalized previous days, \n",
        "        self.action_size = 3 # sit, buy, sell\n",
        "        self.memory = deque(maxlen=1000)\n",
        "        self.inventory = []\n",
        "        self.model_name = model_name\n",
        "        self.is_eval = is_eval\n",
        "\n",
        "        self.gamma = 0.95\n",
        "        self.epsilon = 1.0\n",
        "        self.epsilon_min = 0.01\n",
        "        self.epsilon_decay = 0.995\n",
        "        #self.epsilon_decay = 0.9\n",
        "        \n",
        "        #self.model = self._model()\n",
        "\n",
        "        self.model = load_model(model_name) if is_eval else self._model()\n",
        "\n",
        "    #Deep Q Learning model- returns the q-value when given state as input \n",
        "    def _model(self):\n",
        "        model = Sequential()\n",
        "        #Input Layer\n",
        "        model.add(Dense(units=64, input_dim=self.state_size, activation=\"relu\"))\n",
        "        #Hidden Layers\n",
        "        model.add(Dense(units=32, activation=\"relu\"))\n",
        "        model.add(Dense(units=8, activation=\"relu\"))\n",
        "        #Output Layer \n",
        "        model.add(Dense(self.action_size, activation=\"linear\"))\n",
        "        model.compile(loss=\"mse\", optimizer=Adam(lr=0.001))\n",
        "        return model\n",
        "    \n",
        "    #Return the action on the value function\n",
        "    #With probability (1-$\\epsilon$) choose the action which has the highest Q-value.\n",
        "    #With probability ($\\epsilon$) choose any action at random.\n",
        "    #Intitially high epsilon-more random, later less\n",
        "    #The trained agents were evaluated by different initial random condition\n",
        "    #and an e-greedy policy with epsilon 0.05. This procedure is adopted to minimize the possibility of overfitting during evaluation.\n",
        " \n",
        "    def act(self, state): \n",
        "        #If it is test and self.epsilon is still very high, once the epsilon become low, there are no random\n",
        "        #actions suggested.\n",
        "        if not self.is_eval and random.random() <= self.epsilon:\n",
        "            return random.randrange(self.action_size)        \n",
        "        options = self.model.predict(state)\n",
        "        #set_trace()\n",
        "        #action is based on the action that has the highest value from the q-value function.\n",
        "        return np.argmax(options[0])\n",
        "\n",
        "    def expReplay(self, batch_size):\n",
        "        mini_batch = []\n",
        "        l = len(self.memory)\n",
        "        for i in range(l - batch_size + 1, l):\n",
        "            mini_batch.append(self.memory[i])\n",
        "        \n",
        "        # the memory during the training phase. \n",
        "        for state, action, reward, next_state, done in mini_batch:\n",
        "            target = reward # reward or Q at time t    \n",
        "            #update the Q table based on Q table equation\n",
        "            #set_trace()\n",
        "            if not done:\n",
        "                #set_trace()\n",
        "                #max of the array of the predicted. \n",
        "                target = reward + self.gamma * np.amax(self.model.predict(next_state)[0])     \n",
        "                \n",
        "            # Q-value of the state currently from the table    \n",
        "            target_f = self.model.predict(state)\n",
        "            # Update the output Q table for the given action in the table     \n",
        "            target_f[0][action] = target\n",
        "            #train and fit the model where state is X and target_f is Y, where the target is updated. \n",
        "            self.model.fit(state, target_f, epochs=1, verbose=0)\n",
        "        \n",
        "        if self.epsilon > self.epsilon_min:\n",
        "            self.epsilon *= self.epsilon_decay"
      ],
      "execution_count": 25,
      "outputs": []
    },
    {
      "cell_type": "markdown",
      "metadata": {
        "id": "WdPH2olvZCRT"
      },
      "source": [
        "###5.4. Funciones auxiliares\n",
        "En este script, crearemos funciones que serán útiles para el entrenamiento. Creamos las siguientes funciones:\n",
        "\n",
        "1) formatPrice: formatee el precio con dos decimales, para reducir la ambigüedad de los datos:\n",
        "\n",
        "2) getStockData: Devuelve un vector de datos de stock del archivo CSV. Convierta los precios de cierre de las acciones de los datos en vectores y devuelva un vector de todos los precios de las acciones.\n",
        "\n",
        "3) getState: Defina una función para generar estados a partir del vector de entrada. Cree la serie de tiempo generando los estados a partir de los vectores creados en el paso anterior. La función para esto toma tres parámetros: los datos; una hora, t (el día que desea predecir); y una ventana (cuántos días para retroceder en el tiempo). Entonces se medirá la tasa de cambio entre estos vectores y se basará en la función sigmoidea."
      ]
    },
    {
      "cell_type": "code",
      "metadata": {
        "id": "3N7UNhG4ZFj4"
      },
      "source": [
        ""
      ],
      "execution_count": null,
      "outputs": []
    }
  ]
}