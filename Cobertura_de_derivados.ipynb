{
  "nbformat": 4,
  "nbformat_minor": 0,
  "metadata": {
    "colab": {
      "name": "Cobertura de derivados.ipynb",
      "provenance": [],
      "authorship_tag": "ABX9TyP/9CfKn5gW/4IMVvL3HFMr",
      "include_colab_link": true
    },
    "kernelspec": {
      "name": "python3",
      "display_name": "Python 3"
    }
  },
  "cells": [
    {
      "cell_type": "markdown",
      "metadata": {
        "id": "view-in-github",
        "colab_type": "text"
      },
      "source": [
        "<a href=\"https://colab.research.google.com/github/handielg/Python/blob/main/Cobertura_de_derivados.ipynb\" target=\"_parent\"><img src=\"https://colab.research.google.com/assets/colab-badge.svg\" alt=\"Open In Colab\"/></a>"
      ]
    },
    {
      "cell_type": "markdown",
      "metadata": {
        "id": "h0tfnaB-pPm0"
      },
      "source": [
        "#Cobertura de derivados\n",
        "En este caso de estudio, implementamos una estrategia de cobertura basada en el aprendizaje reforzado adoptando las ideas presentadas en el documento \"Deep Hedging\" (https://arxiv.org/abs/ 1802.03042) de Hans Bühler, Lukas Gonon, Josef Teichmann, Ben Wood.\n",
        "\n",
        "Construiremos una estrategia de cobertura óptima para las opciones de compra minimizando el PnL ajustado al riesgo de una cobertura."
      ]
    },
    {
      "cell_type": "code",
      "metadata": {
        "id": "wATbG9CBpOko"
      },
      "source": [
        ""
      ],
      "execution_count": null,
      "outputs": []
    }
  ]
}