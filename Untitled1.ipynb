{
  "nbformat": 4,
  "nbformat_minor": 0,
  "metadata": {
    "colab": {
      "name": "Untitled1.ipynb",
      "provenance": [],
      "authorship_tag": "ABX9TyNdRelWk3dsBgoIwv2d4nyi",
      "include_colab_link": true
    },
    "kernelspec": {
      "name": "python3",
      "display_name": "Python 3"
    }
  },
  "cells": [
    {
      "cell_type": "markdown",
      "metadata": {
        "id": "view-in-github",
        "colab_type": "text"
      },
      "source": [
        "<a href=\"https://colab.research.google.com/github/handielg/Python/blob/main/Untitled1.ipynb\" target=\"_parent\"><img src=\"https://colab.research.google.com/assets/colab-badge.svg\" alt=\"Open In Colab\"/></a>"
      ]
    },
    {
      "cell_type": "markdown",
      "metadata": {
        "id": "WQm13Qjl0jmo"
      },
      "source": [
        "#FundamentalAnalysis"
      ]
    },
    {
      "cell_type": "markdown",
      "metadata": {
        "id": "CXTWa_IS0WCz"
      },
      "source": [
        "Este paquete recopila fundamentos y datos detallados de las acciones de la compañía de un gran grupo de empresas (13.000+) de FinancialModelingPrep y utiliza Yahoo Finance para obtener datos de acciones para cualquier instrumento financiero. Permite al usuario realizar la mayor parte del análisis fundamental esencial. También ofrece la posibilidad de comparar rápidamente varias empresas o hacer un análisis sectorial.\n",
        "\n",
        "Vea una visualización de los datos en mi sitio web de [Fundamentals Quantifier](https://fundamentals-quantifier.herokuapp.com/)."
      ]
    },
    {
      "cell_type": "markdown",
      "metadata": {
        "id": "Sru48gB207IH"
      },
      "source": [
        "Aquí puede encontrar una lista de las funciones disponibles dentro de este paquete separado por módulo.\n",
        "\n",
        "**Detalles:**\n",
        "\n",
        "- `available companies` - muestra la lista completa de empresas que están disponibles para la recopilación de datos fundamentales, incluyendo el precio actual y el intercambio en el que cotiza la empresa. Esta es una extensa lista con más de 13.000 empresas.\n",
        "\n",
        "- `profile` - proporciona información sobre, entre otras cosas, la industria, el intercambio sectorial y la descripción de la empresa.\n",
        "\n",
        "- `quote` - proporciona información real sobre la empresa que es, entre otras cosas, el día alto, capitalización de mercado, precio de apertura y cierre y relación precio-equity.\n",
        "\n",
        "- `enterprise` - muestra el precio de las acciones, el número de acciones, la capitalización de mercado y el valor de la empresa a lo largo del tiempo.\n",
        "\n",
        "- `rating` - sobre la base de ratios específicos, proporciona información sobre si la empresa es una compra (fuerte), neutral o una venta (fuerte).\n",
        "discounted_cash_flow - calcula el flujo de caja descontado de una empresa a lo largo del tiempo, incluido el DCF de hoy.\n",
        "\n",
        "- `earnings_calendar` - muestra información sobre la fecha de ganancias de una gran selección de símbolos este año, incluida la relación de PE esperada.\n",
        "financial_statement\n",
        "\n",
        "- `income_statement` - cobra una cuenta de resultados completa a lo largo del tiempo. Esto puede ser trimestral o anual.\n",
        "\n",
        "- `balance_sheet_statement` - recopila un estado de balance completo a lo largo del tiempo. Esto puede ser trimestral o anual.\n",
        "\n",
        "- `cash_flow_statement` - recoge un estado de flujo de efectivo completo a lo largo del tiempo. Esto puede ser trimestral o anual.\n",
        "\n",
        "**Ratios**\n",
        "\n",
        "- `key_metrics` - enumera las métricas clave (en total 57 métricas) de una empresa a lo largo del tiempo (anual y trimestral). Esto incluye, entre otras cosas, el retorno de la equidad (ROE), el capital de trabajo, la relación actual y la deuda a los activos.\n",
        "\n",
        "- `financial_ratios` - incluye ratios en profundidad (en total 57 ratios) de una empresa a lo largo del tiempo (anual y trimestral). Esto contiene, entre otras cosas, relación precio-libro, relación de pago y ciclo operativo.\n",
        "\n",
        "- `financial_statement_growth` - mide el crecimiento de varias partidas y ratios de los estados financieros a lo largo del tiempo (anuales y trimestrales). Estos son, entre otras cosas, El Crecimiento de los Ingresos (3, 5 y 10 años), el crecimiento del inventario y el crecimiento del flujo de caja operativo (3, 5 y 10 años).\n",
        "\n",
        "**Stock_data**\n",
        "\n",
        "- `stock_data` - recopila todos los datos de stock (incluyendo Cerrar, Cierre Ajustado, Alto, Bajo, Abrir y Volumen) del ticker proporcionado. Puede ser cualquier instrumento financiero.\n",
        "\n",
        "- `stock_data_detailed` - recopila una cantidad amplia de datos de stock (incluyendo Cerrar, Cierre Ajustado, Alto, Bajo, Abrir, Volumen, Volumen No Ajustado, Cambio Absoluto, Cambio porcentual, Precio Promedio Ponderado por Volumen (VWAP), Etiqueta de Fecha y Cambio a lo largo del Tiempo). La recopilación de datos se limita a las empresas enumeradas en la función `available companies`. Utilice la función  `stock_data` para obtener información sobre cualquier otra cosa. (ETFs, Fondos Mutuos, Opciones, Indices, etc.)"
      ]
    },
    {
      "cell_type": "markdown",
      "metadata": {
        "id": "ISI3dhWQ0b8f"
      },
      "source": [
        "Para instalar el paquete ejecutamos lo siguiente:"
      ]
    },
    {
      "cell_type": "code",
      "metadata": {
        "id": "LnlRTDaL0Vdz"
      },
      "source": [
        "!pip install FundamentalAnalysis"
      ],
      "execution_count": null,
      "outputs": []
    },
    {
      "cell_type": "markdown",
      "metadata": {
        "id": "1TchUxdp0xZ9"
      },
      "source": [
        "Para importar el módulo hacemos lo siguiente:"
      ]
    },
    {
      "cell_type": "code",
      "metadata": {
        "id": "i_8ylEj20GvP"
      },
      "source": [
        "import FundamentalAnalysis as fa"
      ],
      "execution_count": null,
      "outputs": []
    },
    {
      "cell_type": "markdown",
      "metadata": {
        "id": "mTTvL6wM2Z0L"
      },
      "source": [
        "Ejemplos:"
      ]
    },
    {
      "cell_type": "markdown",
      "metadata": {
        "id": "ej0osQD02bZ9"
      },
      "source": [
        "\n",
        "\n",
        "```\n",
        "ticker = \"AAPL\"\n",
        "api_key = \"687b97024fe6079bc873f4087ad41e2b\"\n",
        "\n",
        "# Mostrar las compañías disponibles.\n",
        "companies = fa.available_companies(api_key)\n",
        "\n",
        "# Recopilar información general de la empresa.\n",
        "profile = fa.profile(ticker, api_key)\n",
        "\n",
        "# Recopilar cotizaciones recientes de la empresa.\n",
        "quotes = fa.quote(ticker, api_key)\n",
        "\n",
        "# Obtener market cap (MC) y enterprise value (EV)\n",
        "entreprise_value = fa.enterprise(ticker, api_key)\n",
        "\n",
        "# Mostrar recomendaciones de analistas.\n",
        "ratings = fa.rating(ticker, api_key)\n",
        "\n",
        "# Obtener DCFs (Discounted Cash Flow) en el tiempo\n",
        "dcf_annually = fa.discounted_cash_flow(ticker, api_key, period=\"annual\")\n",
        "dcf_quarterly = fa.discounted_cash_flow(ticker, api_key, period=\"quarter\")\n",
        "\n",
        "# Obtener el balance.\n",
        "balance_sheet_annually = fa.balance_sheet_statement(ticker, api_key, period=\"annual\")\n",
        "balance_sheet_quarterly = fa.balance_sheet_statement(ticker, api_key, period=\"quarter\")\n",
        "\n",
        "# Ontener el Estado de Resultados.\n",
        "income_statement_annually = fa.income_statement(ticker, api_key, period=\"annual\")\n",
        "income_statement_quarterly = fa.income_statement(ticker, api_key, period=\"quarter\")\n",
        "\n",
        "# Obtener el estado de Flujos de Caja.\n",
        "cash_flow_statement_annually = fa.cash_flow_statement(ticker, api_key, period=\"annual\")\n",
        "cash_flow_statement_quarterly = fa.cash_flow_statement(ticker, api_key, period=\"quarter\")\n",
        "\n",
        "# Mostrar métricas clave.\n",
        "key_metrics_annually = fa.key_metrics(ticker, api_key, period=\"annual\")\n",
        "key_metrics_quarterly = fa.key_metrics(ticker, api_key, period=\"quarter\")\n",
        "\n",
        "# Mostrar un gran conjunto de ratios en profundidad\n",
        "financial_ratios_annually = fa.financial_ratios(ticker, api_key, period=\"annual\")\n",
        "financial_ratios_quarterly = fa.financial_ratios(ticker, api_key, period=\"quarter\")\n",
        "\n",
        "# Mostrar el crecimiento de la compañía.\n",
        "growth_annually = fa.financial_statement_growth(ticker, api_key, period=\"annual\")\n",
        "growth_quarterly = fa.financial_statement_growth(ticker, api_key, period=\"quarter\")\n",
        "\n",
        "# Descargar datos generales de la empresa.\n",
        "stock_data = fa.stock_data(ticker, period=\"ytd\", interval=\"1d\")\n",
        "\n",
        "# Descargar datos detallados de la empresa.\n",
        "stock_data_detailed = fa.stock_data_detailed(ticker, api_key, begin=\"2000-01-01\", end=\"2020-01-01\")\n",
        "\n",
        "```\n",
        "\n"
      ]
    },
    {
      "cell_type": "markdown",
      "metadata": {
        "id": "xHT5OjoB2hOP"
      },
      "source": [
        "Con estos datos se puede hacer un análisis completo de la empresa seleccionada, en este caso Apple. Sin embargo, al recorrer una gran selección de empresas, puede recopilar una gran cantidad de datos. Por lo tanto, al entrar en un sector específico (por ejemplo, todos los tickers de la industria Semi-Conducter) puede cuantificar rápidamente el sector y buscar datos clave.\n",
        "\n",
        "Para encontrar empresas pertenecientes a un sector o sector específico, por favor eche un vistazo a los archivos JSON [aquí](https://github.com/JerBouma/FundamentalsQuantifier/tree/master/data). Alternativamente, puede echar un vistazo a los Fundamentos Quantifier, un sitio web que he escrito para comparar visualmente cualquier selección de empresas.\n",
        "\n"
      ]
    }
  ]
}