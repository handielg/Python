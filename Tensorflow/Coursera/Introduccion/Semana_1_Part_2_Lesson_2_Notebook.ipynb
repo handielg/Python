{
  "nbformat": 4,
  "nbformat_minor": 0,
  "metadata": {
    "colab": {
      "name": "Copia de Course 1 - Part 2 - Lesson 2 - Notebook.ipynb",
      "provenance": [],
      "include_colab_link": true
    },
    "kernelspec": {
      "display_name": "Python 3",
      "name": "python3"
    }
  },
  "cells": [
    {
      "cell_type": "markdown",
      "metadata": {
        "id": "view-in-github",
        "colab_type": "text"
      },
      "source": [
        "<a href=\"https://colab.research.google.com/github/handielg/Python/blob/main/Copia_de_Course_1_Part_2_Lesson_2_Notebook.ipynb\" target=\"_parent\"><img src=\"https://colab.research.google.com/assets/colab-badge.svg\" alt=\"Open In Colab\"/></a>"
      ]
    },
    {
      "cell_type": "markdown",
      "metadata": {
        "id": "ZIAkIlfmCe1B"
      },
      "source": [
        "# The Hello World of Deep Learning with Neural Networks"
      ]
    },
    {
      "cell_type": "markdown",
      "metadata": {
        "id": "ZqX1uE6no38V"
      },
      "source": [
        "Lo que hacemos con Deep Learning es conseguir un montón de ejemplos de lo que queremos ver, y entonces la computadora averigua las reglas. Esto es muy valioso en problemas que no podemos resolver buscando las reglas nosotros mismos."
      ]
    },
    {
      "cell_type": "markdown",
      "metadata": {
        "id": "fA93WUy1zzWf"
      },
      "source": [
        "Al igual que cada primera aplicación que debe comenzar con algo muy simple que muestra el scaffolding general para el funcionamiento del código. \n",
        "\n",
        "En el caso de crear redes neuronales, la muestra que me gusta usar es una en la que aprende la relación entre dos números. Así, por ejemplo, si estaba escribiendo código para una función como esta, ya conoce las 'reglas' — \n",
        "\n",
        "\n",
        "```\n",
        "float hw_function(float x){\n",
        "    float y = (2 * x) - 1;\n",
        "    return y;\n",
        "}\n",
        "```\n",
        "\n",
        "Entonces, ¿cómo entrenarías a una red neuronal para hacer la tarea equivalente? ¡Usando datos! Al alimentarlo con un conjunto de Xs, y un conjunto de Ys, debería ser capaz de averiguar la relación entre ellos. \n",
        "\n",
        "Esto es obviamente un paradigma muy diferente de lo que podría estar acostumbrado, así que vamos a pasar a través de él pieza por pieza.\n"
      ]
    },
    {
      "cell_type": "markdown",
      "metadata": {
        "id": "DzbtdRcZDO9B"
      },
      "source": [
        "• Importaciones\n",
        "\n",
        "Empecemos con nuestras importaciones. Aquí estamos importando TensorFlow y llamándolo tf para facilitar su uso.\n",
        "\n",
        "Luego importamos una biblioteca llamada numpy, que nos ayuda a representar nuestros datos como listas de forma fácil y rápida.\n",
        "\n",
        "El marco para definir una red neuronal como un conjunto de capas secuenciales se llama keras, por lo que importamos eso también."
      ]
    },
    {
      "cell_type": "code",
      "metadata": {
        "id": "X9uIpOS2zx7k"
      },
      "source": [
        "import tensorflow as tf\n",
        "import numpy as np\n",
        "from tensorflow import keras\n",
        "import matplotlib.pyplot as plt\n"
      ],
      "execution_count": null,
      "outputs": []
    },
    {
      "cell_type": "markdown",
      "metadata": {
        "id": "wwJGmDrQ0EoB"
      },
      "source": [
        "## Definir y compilar la red neuronal\n",
        "\n",
        "A continuación crearemos la red neuronal más simple posible. Tiene 1 capa, y esa capa tiene 1 neurona, y la forma de entrada a ella es sólo 1 valor."
      ]
    },
    {
      "cell_type": "code",
      "metadata": {
        "id": "kQFAr_xo0M4T"
      },
      "source": [
        "model = tf.keras.Sequential([keras.layers.Dense(units=1, input_shape=[1])])"
      ],
      "execution_count": null,
      "outputs": []
    },
    {
      "cell_type": "markdown",
      "metadata": {
        "id": "KhjZjZ-c0Ok9"
      },
      "source": [
        "Ahora compilamos nuestra Red Neural. Cuando lo hacemos, tenemos que especificar 2 funciones, una pérdida y un optimizador.\n",
        "\n",
        "Si ha visto muchas matemáticas para el aprendizaje automático, aquí es donde se suele usar, pero en este caso está bien encapsulado en funciones para usted. Pero lo que pasa aquí— vamos a explicar...\n",
        "\n",
        "Sabemos que en nuestra función, la relación entre los números es y=2x-1. \n",
        "\n",
        "Cuando el ordenador está tratando de 'aprender' eso, hace una suposición... tal vez y = 10x +10. La función LOSS mide las respuestas adivinadas con respecto a las respuestas correctas conocidas y mide qué tan bien o qué tan mal lo hizo.\n",
        "\n",
        "A continuación, utiliza la función OPTIMIZER para hacer otra suposición. En función de cómo fue la función de pérdida, tratará de minimizar la pérdida. En ese momento tal vez se le ocurre un poco como y = 5x + 5, que, si bien todavía es bastante malo, está más cerca del resultado correcto (es decir, la pérdida es menor)\n",
        "\n",
        "Se repetirá esto para el número de EPOCHS que verá en breve. Pero primero, así es como le decimos que use 'MEAN SQUARED ERROR' para la pérdida y 'STOCHASTIC GRADIENT DESCENT' para el optimizador. Usted no necesita entender las matemáticas para estos todavía, pero se puede ver que funcionan!.\n",
        "\n",
        "Con el tiempo aprenderá las diferentes y apropiadas funciones de pérdida y optimizador para diferentes escenarios. \n"
      ]
    },
    {
      "cell_type": "code",
      "metadata": {
        "id": "m8YQN1H41L-Y"
      },
      "source": [
        "model.compile(optimizer='sgd', loss='mean_squared_error')"
      ],
      "execution_count": null,
      "outputs": []
    },
    {
      "cell_type": "markdown",
      "metadata": {
        "id": "5QyOUhFw1OUX"
      },
      "source": [
        "## Proporcionar los datos\n",
        "\n",
        "A continuación, vamos a alimentar algunos datos. En este caso estamos tomando 6 xs y 6ys. Usted puede ver que la relación entre estos es que y-2x-1, por lo que donde x -1, y-3 etc. etc. \n",
        "\n",
        "Una biblioteca de Python llamada 'Numpy' proporciona muchas estructuras de datos de tipo matriz que son una forma estándar de facto de hacerlo. Declaramos que queremos usarlos especificando los valores como` np.array[ ]`."
      ]
    },
    {
      "cell_type": "code",
      "metadata": {
        "id": "4Dxk4q-jzEy4"
      },
      "source": [
        "xs = np.array([-1.0,  0.0, 1.0, 2.0, 3.0, 4.0], dtype=float)\n",
        "ys = np.array([-3.0, -1.0, 1.0, 3.0, 5.0, 7.0], dtype=float)"
      ],
      "execution_count": null,
      "outputs": []
    },
    {
      "cell_type": "markdown",
      "metadata": {
        "id": "n_YcWRElnM_b"
      },
      "source": [
        "# Training the Neural Network"
      ]
    },
    {
      "cell_type": "markdown",
      "metadata": {
        "id": "c-Jk4dG91dvD"
      },
      "source": [
        "El proceso de entrenamiento de la red neuronal, donde 'aprende' la relación entre las X y las Ys está en la llamada **model.fit**. Aquí es donde va a pasar por el bucle que hablamos anteriormente, haciendo una suposición, midiendo lo bueno o malo que es (también conocido como la pérdida), el uso del opimizer para hacer otra suposición, etc. Lo hará por el número de épocas que especifique. Cuando ejecute este código, verá la pérdida en el lado derecho. En cada epoch se realiza una conjetura, usamos la función de pérdida para averiguar lo bien o mal que lo hizo. Luego usamos el optimizador para hacer otra conjetura."
      ]
    },
    {
      "cell_type": "code",
      "metadata": {
        "id": "lpRrl7WK10Pq"
      },
      "source": [
        "model.fit(xs, ys, epochs=500)"
      ],
      "execution_count": null,
      "outputs": []
    },
    {
      "cell_type": "markdown",
      "metadata": {
        "id": "kaFIr71H2OZ-"
      },
      "source": [
        "Ok, ahora tienes un modelo que ha sido entrenado para aprender la relación entre X e Y. Puede utilizar el método **model.predict** para que descubra la Y de una X previamente conocida. Así, por ejemplo, si X es 10, ¿qué crees que será Y? Adivine antes de ejecutar este código:"
      ]
    },
    {
      "cell_type": "code",
      "metadata": {
        "colab": {
          "base_uri": "https://localhost:8080/"
        },
        "id": "oxNzL4lS2Gui",
        "outputId": "730b7100-dc25-4904-dd7e-00cdb16c599c"
      },
      "source": [
        "print(model.predict([10.0]))"
      ],
      "execution_count": null,
      "outputs": [
        {
          "output_type": "stream",
          "text": [
            "[[18.984621]]\n"
          ],
          "name": "stdout"
        }
      ]
    },
    {
      "cell_type": "markdown",
      "metadata": {
        "id": "btF2CSFH2iEX"
      },
      "source": [
        "Podrías haber pensado 19, ¿verdad? Pero terminó siendo un poco menos. ¿Por qué crees que es eso? \n",
        "\n",
        "Recuerde que las redes neuronales se ocupan de las probabilidades, por lo que dados los datos con los que alimentamos el NN, calculó que hay una probabilidad muy alta de que la relación entre X e Y sea Y-2X-1, pero con solo 6 puntos de datos no podemos estar seguros. Como resultado, el resultado para 10 es muy cercano a 19, pero no necesariamente 19. \n",
        "\n",
        "A medida que trabaje con redes neuronales, verá que este patrón se repite. Casi siempre se ocupará de las probabilidades, no de certezas, y hará un poco de codificación para averiguar cuál es el resultado basado en las probabilidades, especialmente cuando se trata de la clasificación.\n"
      ]
    },
    {
      "cell_type": "markdown",
      "metadata": {
        "id": "EyY3zYLqmidA"
      },
      "source": [
        "De esta forma podemos saber cuales son los parámetros de la función y = mx + n."
      ]
    },
    {
      "cell_type": "code",
      "metadata": {
        "id": "02jo30EJnSpa",
        "colab": {
          "base_uri": "https://localhost:8080/"
        },
        "outputId": "cccad840-f136-4431-a62d-8986f2a04925"
      },
      "source": [
        "#Nuestra red tiene una sola capa. \n",
        "#Permite mostrar el valor de m & b en la ecuación lineal y = mx + b\n",
        "\n",
        "#print(model.layers)\n",
        "m,n = model.layers[0].get_weights()\n",
        "print(\"El valor de m es :\",m)\n",
        "print(\"El valor de n es: \", n)"
      ],
      "execution_count": null,
      "outputs": [
        {
          "output_type": "stream",
          "text": [
            "El valor de m es : [[1.997771]]\n",
            "El valor de n es:  [-0.9930897]\n"
          ],
          "name": "stdout"
        }
      ]
    }
  ]
}
