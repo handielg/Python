{
  "nbformat": 4,
  "nbformat_minor": 0,
  "metadata": {
    "colab": {
      "name": "Google translate.ipynb",
      "provenance": [],
      "authorship_tag": "ABX9TyOwhuDVm2+HOrk2Gj43zTtN",
      "include_colab_link": true
    },
    "kernelspec": {
      "name": "python3",
      "display_name": "Python 3"
    }
  },
  "cells": [
    {
      "cell_type": "markdown",
      "metadata": {
        "id": "view-in-github",
        "colab_type": "text"
      },
      "source": [
        "<a href=\"https://colab.research.google.com/github/handielg/Python/blob/main/Google_translate.ipynb\" target=\"_parent\"><img src=\"https://colab.research.google.com/assets/colab-badge.svg\" alt=\"Open In Colab\"/></a>"
      ]
    },
    {
      "cell_type": "markdown",
      "metadata": {
        "id": "1UIXk0h2297N"
      },
      "source": [
        "#`Google translate` es un servicio gratuito que traduce palabras, frases y páginas web enteras a más de 100 idiomas.  Googletrans es una biblioteca gratuita e ilimitada de Python que realiza llamadas no oficiales de Ajax a google Translate API con el fin de detectar idiomas y traducir texto.\n",
        "\n"
      ]
    },
    {
      "cell_type": "markdown",
      "metadata": {
        "id": "c2ya3IYS3i3F"
      },
      "source": [
        "## En primer lugar, vamos a instalarlo usando pip:"
      ]
    },
    {
      "cell_type": "code",
      "metadata": {
        "id": "5qXQtnMQ4fLU"
      },
      "source": [
        "!pip3 install googletrans"
      ],
      "execution_count": null,
      "outputs": []
    },
    {
      "cell_type": "markdown",
      "metadata": {
        "id": "_rKqldEj3vZN"
      },
      "source": [
        "## Importación de bibliotecas necesarias:"
      ]
    },
    {
      "cell_type": "code",
      "metadata": {
        "id": "K8H2iMOS4lMC"
      },
      "source": [
        "from googletrans import Translator, constants\n",
        "from pprint import pprint"
      ],
      "execution_count": 38,
      "outputs": []
    },
    {
      "cell_type": "markdown",
      "metadata": {
        "id": "dLFcTXnS3ofc"
      },
      "source": [
        "## Iniciamos la API del traductor.\n"
      ]
    },
    {
      "cell_type": "code",
      "metadata": {
        "id": "FnfRAdVi4p5-"
      },
      "source": [
        "translator = Translator()"
      ],
      "execution_count": 39,
      "outputs": []
    },
    {
      "cell_type": "markdown",
      "metadata": {
        "id": "hMVKHVTs4CKI"
      },
      "source": [
        "## Ahora simplemente usamos el método `translate()` para obtener el texto traducido:"
      ]
    },
    {
      "cell_type": "markdown",
      "metadata": {
        "id": "YipB1De_4MPK"
      },
      "source": [
        "Se puede traducir texto de inglés a español por defecto."
      ]
    },
    {
      "cell_type": "code",
      "metadata": {
        "id": "v68hrqKx4YmK",
        "outputId": "7ffcab71-d6af-4a4e-f152-db8de1c16265",
        "colab": {
          "base_uri": "https://localhost:8080/",
          "height": 34
        }
      },
      "source": [
        "translation = translator.translate(\"Hola Mundo\") #traducimos Hola Mundo a inglés.\n",
        "print(f\"{translation.origin} ({translation.src}) --> {translation.text} ({translation.dest})\")"
      ],
      "execution_count": 40,
      "outputs": [
        {
          "output_type": "stream",
          "text": [
            "Hola Mundo (es) --> Hello World (en)\n"
          ],
          "name": "stdout"
        }
      ]
    },
    {
      "cell_type": "markdown",
      "metadata": {
        "id": "3ZZ0C2uf41w9"
      },
      "source": [
        "Esta función asume varios argumentos:\n",
        "- src: indica el idioma del texto que vamos a traducir.\n",
        "- dest: establece a que idioma vamos a traducir."
      ]
    },
    {
      "cell_type": "markdown",
      "metadata": {
        "id": "a_7hF8Hf51SX"
      },
      "source": [
        "También puede comprobar otras traducciones y algunos otros datos adicionales:"
      ]
    },
    {
      "cell_type": "code",
      "metadata": {
        "id": "1_pNeXH952D-",
        "outputId": "c7deb6bf-3415-4ba2-f389-6dd35937f6e5",
        "colab": {
          "base_uri": "https://localhost:8080/",
          "height": 306
        }
      },
      "source": [
        "pprint(translation.extra_data)"
      ],
      "execution_count": 44,
      "outputs": [
        {
          "output_type": "stream",
          "text": [
            "{'all-translations': None,\n",
            " 'confidence': 1.0,\n",
            " 'definitions': None,\n",
            " 'examples': None,\n",
            " 'language': [['es'], None, [1.0], ['es']],\n",
            " 'original-language': 'es',\n",
            " 'possible-mistakes': None,\n",
            " 'possible-translations': [['Hola Mundo',\n",
            "                            None,\n",
            "                            [['Hello World', 1000, True, False]],\n",
            "                            [[0, 10]],\n",
            "                            'Hola Mundo',\n",
            "                            0,\n",
            "                            0]],\n",
            " 'see-also': None,\n",
            " 'synonyms': None,\n",
            " 'translation': [['Hello World', 'Hola Mundo', None, None, 1]]}\n"
          ],
          "name": "stdout"
        }
      ]
    },
    {
      "cell_type": "markdown",
      "metadata": {
        "id": "kbwfnD-e3YiM"
      },
      "source": [
        "##A continuación vemos un ejemplo en el que descargamos información de `yfinance` y la traducimos."
      ]
    },
    {
      "cell_type": "code",
      "metadata": {
        "id": "uBWZoPp_zs-l"
      },
      "source": [
        "!pip install yfinance"
      ],
      "execution_count": null,
      "outputs": []
    },
    {
      "cell_type": "code",
      "metadata": {
        "id": "vboLQqwFzvue"
      },
      "source": [
        "import yfinance as yf"
      ],
      "execution_count": 8,
      "outputs": []
    },
    {
      "cell_type": "code",
      "metadata": {
        "id": "v-j3_HzlzzIZ"
      },
      "source": [
        "TK = yf.Ticker(\"AAPL\")"
      ],
      "execution_count": 30,
      "outputs": []
    },
    {
      "cell_type": "code",
      "metadata": {
        "id": "syb-vrWvz3-A",
        "outputId": "6656ac25-65c0-4a06-d712-ba91f79dc667",
        "colab": {
          "base_uri": "https://localhost:8080/",
          "height": 1000
        }
      },
      "source": [
        "info_diccionario = TK.info #nos arroja un diccionario.\n",
        "info_diccionario"
      ],
      "execution_count": 31,
      "outputs": [
        {
          "output_type": "execute_result",
          "data": {
            "text/plain": [
              "{'52WeekChange': 0.9333222,\n",
              " 'SandP52WeekChange': 0.14383554,\n",
              " 'address1': 'One Apple Park Way',\n",
              " 'algorithm': None,\n",
              " 'annualHoldingsTurnover': None,\n",
              " 'annualReportExpenseRatio': None,\n",
              " 'ask': 117.33,\n",
              " 'askSize': 800,\n",
              " 'averageDailyVolume10Day': 166965700,\n",
              " 'averageVolume': 173548250,\n",
              " 'averageVolume10days': 166965700,\n",
              " 'beta': 1.314396,\n",
              " 'beta3Year': None,\n",
              " 'bid': 117.3,\n",
              " 'bidSize': 1300,\n",
              " 'bookValue': 4.218,\n",
              " 'category': None,\n",
              " 'circulatingSupply': None,\n",
              " 'city': 'Cupertino',\n",
              " 'companyOfficers': [],\n",
              " 'country': 'United States',\n",
              " 'currency': 'USD',\n",
              " 'dateShortInterest': 1601424000,\n",
              " 'dayHigh': 117.62,\n",
              " 'dayLow': 115.63,\n",
              " 'dividendRate': 0.82,\n",
              " 'dividendYield': 0.0070999996,\n",
              " 'earningsQuarterlyGrowth': 0.12,\n",
              " 'enterpriseToEbitda': 25.584,\n",
              " 'enterpriseToRevenue': 7.35,\n",
              " 'enterpriseValue': 2012713189376,\n",
              " 'exDividendDate': 1596758400,\n",
              " 'exchange': 'NMS',\n",
              " 'exchangeTimezoneName': 'America/New_York',\n",
              " 'exchangeTimezoneShortName': 'EDT',\n",
              " 'expireDate': None,\n",
              " 'fiftyDayAverage': 116.44457,\n",
              " 'fiftyTwoWeekHigh': 137.98,\n",
              " 'fiftyTwoWeekLow': 53.1525,\n",
              " 'fiveYearAverageReturn': None,\n",
              " 'fiveYearAvgDividendYield': 1.52,\n",
              " 'floatShares': 17085262439,\n",
              " 'forwardEps': 3.87,\n",
              " 'forwardPE': 30.366924,\n",
              " 'fromCurrency': None,\n",
              " 'fullTimeEmployees': 137000,\n",
              " 'fundFamily': None,\n",
              " 'fundInceptionDate': None,\n",
              " 'gmtOffSetMilliseconds': '-14400000',\n",
              " 'heldPercentInsiders': 0.00066,\n",
              " 'heldPercentInstitutions': 0.62115,\n",
              " 'industry': 'Consumer Electronics',\n",
              " 'isEsgPopulated': False,\n",
              " 'lastCapGain': None,\n",
              " 'lastDividendDate': 1596758400,\n",
              " 'lastDividendValue': 0.205,\n",
              " 'lastFiscalYearEnd': 1569628800,\n",
              " 'lastMarket': None,\n",
              " 'lastSplitDate': 1598832000,\n",
              " 'lastSplitFactor': '4:1',\n",
              " 'legalType': None,\n",
              " 'logo_url': 'https://logo.clearbit.com/apple.com',\n",
              " 'longBusinessSummary': 'Apple Inc. designs, manufactures, and markets smartphones, personal computers, tablets, wearables, and accessories worldwide. It also sells various related services. The company offers iPhone, a line of smartphones; Mac, a line of personal computers; iPad, a line of multi-purpose tablets; and wearables, home, and accessories comprising AirPods, Apple TV, Apple Watch, Beats products, HomePod, iPod touch, and other Apple-branded and third-party accessories. It also provides digital content stores and streaming services; AppleCare support services; and iCloud, a cloud service, which stores music, photos, contacts, calendars, mail, documents, and others. In addition, the company offers various service, such as Apple Arcade, a game subscription service; Apple Card, a co-branded credit card; Apple News+, a subscription news and magazine service; and Apple Pay, a cashless payment service, as well as licenses its intellectual property, and provides other related services. The company serves consumers, and small and mid-sized businesses; and the education, enterprise, and government markets. It sells and delivers third-party applications for its products through the App Store, Mac App Store, and Watch App Store. The company also sells its products through its retail and online stores, and direct sales force; and third-party cellular network carriers, wholesalers, retailers, and resellers. Apple Inc. has a collaboration with Google to develop COVID-19 tracking system for Android and iOS devices. Apple Inc. was founded in 1977 and is headquartered in Cupertino, California.',\n",
              " 'longName': 'Apple Inc.',\n",
              " 'market': 'us_market',\n",
              " 'marketCap': 2009885704192,\n",
              " 'maxAge': 1,\n",
              " 'maxSupply': None,\n",
              " 'messageBoardId': 'finmb_24937',\n",
              " 'morningStarOverallRating': None,\n",
              " 'morningStarRiskRating': None,\n",
              " 'mostRecentQuarter': 1593216000,\n",
              " 'navPrice': None,\n",
              " 'netIncomeToCommon': 58424000512,\n",
              " 'nextFiscalYearEnd': 1632787200,\n",
              " 'open': 116.2,\n",
              " 'openInterest': None,\n",
              " 'payoutRatio': 0.2373,\n",
              " 'pegRatio': 2.97,\n",
              " 'phone': '408-996-1010',\n",
              " 'previousClose': 115.98,\n",
              " 'priceHint': 2,\n",
              " 'priceToBook': 27.856804,\n",
              " 'priceToSalesTrailing12Months': 7.3391795,\n",
              " 'profitMargins': 0.21334,\n",
              " 'quoteType': 'EQUITY',\n",
              " 'regularMarketDayHigh': 117.62,\n",
              " 'regularMarketDayLow': 115.63,\n",
              " 'regularMarketOpen': 116.2,\n",
              " 'regularMarketPreviousClose': 115.98,\n",
              " 'regularMarketPrice': 116.2,\n",
              " 'regularMarketVolume': 54279267,\n",
              " 'revenueQuarterlyGrowth': None,\n",
              " 'sector': 'Technology',\n",
              " 'sharesOutstanding': 17102499840,\n",
              " 'sharesPercentSharesOut': 0.0052,\n",
              " 'sharesShort': 88087882,\n",
              " 'sharesShortPreviousMonthDate': 1598832000,\n",
              " 'sharesShortPriorMonth': 79684337,\n",
              " 'shortName': 'Apple Inc.',\n",
              " 'shortPercentOfFloat': 0.0052,\n",
              " 'shortRatio': 0.47,\n",
              " 'startDate': None,\n",
              " 'state': 'CA',\n",
              " 'strikePrice': None,\n",
              " 'symbol': 'AAPL',\n",
              " 'threeYearAverageReturn': None,\n",
              " 'toCurrency': None,\n",
              " 'totalAssets': None,\n",
              " 'tradeable': False,\n",
              " 'trailingAnnualDividendRate': 0.782,\n",
              " 'trailingAnnualDividendYield': 0.0067425417,\n",
              " 'trailingEps': 3.296,\n",
              " 'trailingPE': 35.65534,\n",
              " 'twoHundredDayAverage': 96.179,\n",
              " 'volume': 54279267,\n",
              " 'volume24Hr': None,\n",
              " 'volumeAllCurrencies': None,\n",
              " 'website': 'http://www.apple.com',\n",
              " 'yield': None,\n",
              " 'ytdReturn': None,\n",
              " 'zip': '95014'}"
            ]
          },
          "metadata": {
            "tags": []
          },
          "execution_count": 31
        }
      ]
    },
    {
      "cell_type": "code",
      "metadata": {
        "id": "5GViFpv70Fn1",
        "outputId": "6d03867a-3df1-418d-d00f-fac9efde68e3",
        "colab": {
          "base_uri": "https://localhost:8080/",
          "height": 54
        }
      },
      "source": [
        "info = info_diccionario[\"longBusinessSummary\"]\n",
        "print(info)"
      ],
      "execution_count": 32,
      "outputs": [
        {
          "output_type": "stream",
          "text": [
            "Apple Inc. designs, manufactures, and markets smartphones, personal computers, tablets, wearables, and accessories worldwide. It also sells various related services. The company offers iPhone, a line of smartphones; Mac, a line of personal computers; iPad, a line of multi-purpose tablets; and wearables, home, and accessories comprising AirPods, Apple TV, Apple Watch, Beats products, HomePod, iPod touch, and other Apple-branded and third-party accessories. It also provides digital content stores and streaming services; AppleCare support services; and iCloud, a cloud service, which stores music, photos, contacts, calendars, mail, documents, and others. In addition, the company offers various service, such as Apple Arcade, a game subscription service; Apple Card, a co-branded credit card; Apple News+, a subscription news and magazine service; and Apple Pay, a cashless payment service, as well as licenses its intellectual property, and provides other related services. The company serves consumers, and small and mid-sized businesses; and the education, enterprise, and government markets. It sells and delivers third-party applications for its products through the App Store, Mac App Store, and Watch App Store. The company also sells its products through its retail and online stores, and direct sales force; and third-party cellular network carriers, wholesalers, retailers, and resellers. Apple Inc. has a collaboration with Google to develop COVID-19 tracking system for Android and iOS devices. Apple Inc. was founded in 1977 and is headquartered in Cupertino, California.\n"
          ],
          "name": "stdout"
        }
      ]
    },
    {
      "cell_type": "code",
      "metadata": {
        "id": "LeO2nd5x0cJz"
      },
      "source": [
        "!pip3 install googletrans"
      ],
      "execution_count": null,
      "outputs": []
    },
    {
      "cell_type": "code",
      "metadata": {
        "id": "uPA-R8qb0kTg"
      },
      "source": [
        "from googletrans import Translator, constants"
      ],
      "execution_count": 16,
      "outputs": []
    },
    {
      "cell_type": "code",
      "metadata": {
        "id": "rjpjAIAm0pau"
      },
      "source": [
        "# init the Google API translator\n",
        "translator = Translator()"
      ],
      "execution_count": 33,
      "outputs": []
    },
    {
      "cell_type": "code",
      "metadata": {
        "id": "z6Myk9wI0ukE",
        "outputId": "aee5e07a-3552-4e37-bfab-f9fb719a1596",
        "colab": {
          "base_uri": "https://localhost:8080/",
          "height": 54
        }
      },
      "source": [
        "# translate a spanish text to english text (by default)\n",
        "translation = translator.translate(info, dest=\"es\", src = \"en\")\n",
        "print(translation)"
      ],
      "execution_count": 34,
      "outputs": [
        {
          "output_type": "stream",
          "text": [
            "Translated(src=en, dest=es, text=Apple Inc. diseña, fabrica y comercializa teléfonos inteligentes, computadoras personales, tabletas, dispositivos portátiles y accesorios en todo el mundo. También vende varios servicios relacionados. La compañía ofrece iPhone, una línea de teléfonos inteligentes; Mac, una línea de computadoras personales; iPad, una línea de tabletas multipropósito; y wearables, hogar y accesorios que incluyen AirPods, Apple TV, Apple Watch, productos Beats, HomePod, iPod touch y otros accesorios de la marca Apple y de terceros. También proporciona tiendas de contenido digital y servicios de transmisión; Servicios de soporte AppleCare; e iCloud, un servicio en la nube, que almacena música, fotos, contactos, calendarios, correo, documentos y otros. Además, la compañía ofrece varios servicios, como Apple Arcade, un servicio de suscripción de juegos; Apple Card, una tarjeta de crédito de marca compartida; Apple News +, un servicio de suscripción de noticias y revistas; y Apple Pay, un servicio de pago sin efectivo, además de licencia de su propiedad intelectual y proporciona otros servicios relacionados. La empresa atiende a consumidores y pequeñas y medianas empresas; y los mercados de educación, empresa y gobierno. Vende y entrega aplicaciones de terceros para sus productos a través de App Store, Mac App Store y Watch App Store. La compañía también vende sus productos a través de sus tiendas minoristas y en línea, y fuerza de venta directa; y proveedores, mayoristas, minoristas y revendedores de redes celulares de terceros. Apple Inc. tiene una colaboración con Google para desarrollar el sistema de seguimiento COVID-19 para dispositivos Android e iOS. Apple Inc. fue fundada en 1977 y tiene su sede en Cupertino, California., pronunciation=[[]], extra_data=\"{'translat...\")\n"
          ],
          "name": "stdout"
        }
      ]
    },
    {
      "cell_type": "code",
      "metadata": {
        "id": "XdtnLbxI1OIr",
        "outputId": "5423fdb6-809f-43c8-c2bf-7ebbb25c9290",
        "colab": {
          "base_uri": "https://localhost:8080/",
          "height": 54
        }
      },
      "source": [
        "print(f\"{translation.text}\")"
      ],
      "execution_count": 35,
      "outputs": [
        {
          "output_type": "stream",
          "text": [
            "Apple Inc. diseña, fabrica y comercializa teléfonos inteligentes, computadoras personales, tabletas, dispositivos portátiles y accesorios en todo el mundo. También vende varios servicios relacionados. La compañía ofrece iPhone, una línea de teléfonos inteligentes; Mac, una línea de computadoras personales; iPad, una línea de tabletas multipropósito; y wearables, hogar y accesorios que incluyen AirPods, Apple TV, Apple Watch, productos Beats, HomePod, iPod touch y otros accesorios de la marca Apple y de terceros. También proporciona tiendas de contenido digital y servicios de transmisión; Servicios de soporte AppleCare; e iCloud, un servicio en la nube, que almacena música, fotos, contactos, calendarios, correo, documentos y otros. Además, la compañía ofrece varios servicios, como Apple Arcade, un servicio de suscripción de juegos; Apple Card, una tarjeta de crédito de marca compartida; Apple News +, un servicio de suscripción de noticias y revistas; y Apple Pay, un servicio de pago sin efectivo, además de licencia de su propiedad intelectual y proporciona otros servicios relacionados. La empresa atiende a consumidores y pequeñas y medianas empresas; y los mercados de educación, empresa y gobierno. Vende y entrega aplicaciones de terceros para sus productos a través de App Store, Mac App Store y Watch App Store. La compañía también vende sus productos a través de sus tiendas minoristas y en línea, y fuerza de venta directa; y proveedores, mayoristas, minoristas y revendedores de redes celulares de terceros. Apple Inc. tiene una colaboración con Google para desarrollar el sistema de seguimiento COVID-19 para dispositivos Android e iOS. Apple Inc. fue fundada en 1977 y tiene su sede en Cupertino, California.\n"
          ],
          "name": "stdout"
        }
      ]
    }
  ]
}